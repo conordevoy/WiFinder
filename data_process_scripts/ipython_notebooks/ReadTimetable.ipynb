{
 "cells": [
  {
   "cell_type": "code",
   "execution_count": null,
   "metadata": {},
   "outputs": [],
   "source": [
    "import pandas as pd"
   ]
  },
  {
   "cell_type": "code",
   "execution_count": null,
   "metadata": {},
   "outputs": [],
   "source": [
    "df = pd.read_csv('csvtimetable.csv')"
   ]
  },
  {
   "cell_type": "code",
   "execution_count": null,
   "metadata": {},
   "outputs": [],
   "source": [
    "df2 = df.ix[:9, :11]\n",
    "\n",
    "del df"
   ]
  },
  {
   "cell_type": "code",
   "execution_count": null,
   "metadata": {},
   "outputs": [],
   "source": [
    "mon_df = pd.DataFrame(index = range(10), columns=[\\\n",
    "                        'Time', 'Date', 'Room', 'Room_Capacity', 'Module', 'Registered_Students'])\n",
    "\n",
    "tue_df = pd.DataFrame(index = range(10), columns=[\\\n",
    "                        'Time', 'Date', 'Room', 'Room_Capacity', 'Module', 'Registered_Students'])\n",
    "\n",
    "wed_df = pd.DataFrame(index = range(10), columns=[\\\n",
    "                        'Time', 'Date', 'Room', 'Room_Capacity', 'Module', 'Registered_Students'])\n",
    "\n",
    "thu_df = pd.DataFrame(index = range(10), columns=[\\\n",
    "                        'Time', 'Date', 'Room', 'Room_Capacity', 'Module', 'Registered_Students'])\n",
    "\n",
    "fri_df = pd.DataFrame(index = range(10), columns=[\\\n",
    "                        'Time', 'Date', 'Room', 'Room_Capacity', 'Module', 'Registered_Students'])\n",
    "\n",
    "day_tables = [mon_df, tue_df, wed_df, thu_df, fri_df]"
   ]
  },
  {
   "cell_type": "code",
   "execution_count": null,
   "metadata": {},
   "outputs": [],
   "source": [
    "n = 1\n",
    "\n",
    "for table in day_tables:\n",
    "    table.Time = df2[[0]].ix[1:]\n",
    "    table.Module = df2[[n]].ix[1:] \n",
    "    table.Registered_Students = df2[[n+1]].ix[1:]\n",
    "    table.Room= df2.columns[0]\n",
    "    table.Room_Capacity = df2.columns[2].split(' ')[2]\n",
    "    # date. changeable\n",
    "    n += 2\n",
    "    \n",
    "del n"
   ]
  },
  {
   "cell_type": "code",
   "execution_count": null,
   "metadata": {},
   "outputs": [],
   "source": [
    "B002_timetable = pd.concat(day_tables)"
   ]
  },
  {
   "cell_type": "code",
   "execution_count": null,
   "metadata": {},
   "outputs": [],
   "source": [
    "B002_timetable = B002_timetable[B002_timetable.Time.notnull()]"
   ]
  },
  {
   "cell_type": "code",
   "execution_count": null,
   "metadata": {},
   "outputs": [],
   "source": [
    "# optional, fill NaNs in class timetables\n",
    "\n",
    "# B002_timetable.Module.fillna(value = 'No Module?')\n",
    "# B002_timetable.Registered_Students.fillna(value = 'No Module?')"
   ]
  },
  {
   "cell_type": "code",
   "execution_count": null,
   "metadata": {},
   "outputs": [],
   "source": [
    "B002_timetable"
   ]
  }
 ],
 "metadata": {
  "kernelspec": {
   "display_name": "Python 3",
   "language": "python",
   "name": "python3"
  },
  "language_info": {
   "codemirror_mode": {
    "name": "ipython",
    "version": 3.0
   },
   "file_extension": ".py",
   "mimetype": "text/x-python",
   "name": "python",
   "nbconvert_exporter": "python",
   "pygments_lexer": "ipython3",
   "version": "3.5.1"
  }
 },
 "nbformat": 4,
 "nbformat_minor": 0
}