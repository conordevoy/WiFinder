{
 "cells": [
  {
   "cell_type": "code",
   "execution_count": 1,
   "metadata": {
    "collapsed": true
   },
   "outputs": [],
   "source": [
    "import os\n",
    "import pandas as pd\n",
    "import numpy as np\n",
    "import matplotlib.pyplot as plt\n",
    "import statsmodels.formula.api as sm\n",
    "import statsmodels\n",
    "from patsy import dmatrices\n",
    "from sklearn.linear_model import LogisticRegression\n",
    "from sklearn.cross_validation import train_test_split\n",
    "from sklearn import metrics\n",
    "from sklearn.cross_validation import cross_val_score\n",
    "%matplotlib inline"
   ]
  },
  {
   "cell_type": "code",
   "execution_count": 2,
   "metadata": {
    "collapsed": true
   },
   "outputs": [],
   "source": [
    "pd.options.mode.chained_assignment = None"
   ]
  },
  {
   "cell_type": "code",
   "execution_count": 3,
   "metadata": {
    "collapsed": false
   },
   "outputs": [],
   "source": [
    "os.chdir('/home/mike/PycharmProjects/WiFinder/Data/final_csvs')"
   ]
  },
  {
   "cell_type": "code",
   "execution_count": 4,
   "metadata": {
    "collapsed": false
   },
   "outputs": [],
   "source": [
    "df = pd.read_csv('ABT.csv')"
   ]
  },
  {
   "cell_type": "code",
   "execution_count": 5,
   "metadata": {
    "collapsed": false
   },
   "outputs": [
    {
     "data": {
      "text/html": [
       "<div>\n",
       "<table border=\"1\" class=\"dataframe\">\n",
       "  <thead>\n",
       "    <tr style=\"text-align: right;\">\n",
       "      <th></th>\n",
       "      <th>Room_Capacity</th>\n",
       "      <th>Module</th>\n",
       "      <th>Registered_Students</th>\n",
       "      <th>Hour</th>\n",
       "      <th>Date</th>\n",
       "      <th>Room</th>\n",
       "      <th>Occupancy</th>\n",
       "      <th>Avg_Count_60min</th>\n",
       "      <th>Avg_Count_30min</th>\n",
       "      <th>Avg_Adj_Count_60min</th>\n",
       "      <th>Avg_Adj_Count_30min</th>\n",
       "    </tr>\n",
       "  </thead>\n",
       "  <tbody>\n",
       "    <tr>\n",
       "      <th>0</th>\n",
       "      <td>90</td>\n",
       "      <td>Vacant</td>\n",
       "      <td>-1</td>\n",
       "      <td>9</td>\n",
       "      <td>2015-11-03</td>\n",
       "      <td>B002</td>\n",
       "      <td>0.00</td>\n",
       "      <td>4.750000</td>\n",
       "      <td>2.000000</td>\n",
       "      <td>0.052778</td>\n",
       "      <td>0.022222</td>\n",
       "    </tr>\n",
       "    <tr>\n",
       "      <th>1</th>\n",
       "      <td>90</td>\n",
       "      <td>COMP30110</td>\n",
       "      <td>45</td>\n",
       "      <td>10</td>\n",
       "      <td>2015-11-03</td>\n",
       "      <td>B002</td>\n",
       "      <td>0.50</td>\n",
       "      <td>29.272727</td>\n",
       "      <td>29.000000</td>\n",
       "      <td>0.325253</td>\n",
       "      <td>0.322222</td>\n",
       "    </tr>\n",
       "    <tr>\n",
       "      <th>2</th>\n",
       "      <td>90</td>\n",
       "      <td>COMP30260</td>\n",
       "      <td>18</td>\n",
       "      <td>11</td>\n",
       "      <td>2015-11-03</td>\n",
       "      <td>B002</td>\n",
       "      <td>0.50</td>\n",
       "      <td>28.727273</td>\n",
       "      <td>27.250000</td>\n",
       "      <td>0.319192</td>\n",
       "      <td>0.302778</td>\n",
       "    </tr>\n",
       "    <tr>\n",
       "      <th>3</th>\n",
       "      <td>90</td>\n",
       "      <td>COMP40370</td>\n",
       "      <td>27</td>\n",
       "      <td>12</td>\n",
       "      <td>2015-11-03</td>\n",
       "      <td>B002</td>\n",
       "      <td>0.50</td>\n",
       "      <td>14.166667</td>\n",
       "      <td>10.000000</td>\n",
       "      <td>0.157407</td>\n",
       "      <td>0.111111</td>\n",
       "    </tr>\n",
       "    <tr>\n",
       "      <th>4</th>\n",
       "      <td>90</td>\n",
       "      <td>Vacant</td>\n",
       "      <td>-1</td>\n",
       "      <td>13</td>\n",
       "      <td>2015-11-03</td>\n",
       "      <td>B002</td>\n",
       "      <td>0.00</td>\n",
       "      <td>14.250000</td>\n",
       "      <td>13.333333</td>\n",
       "      <td>0.158333</td>\n",
       "      <td>0.148148</td>\n",
       "    </tr>\n",
       "    <tr>\n",
       "      <th>5</th>\n",
       "      <td>90</td>\n",
       "      <td>COMP30240</td>\n",
       "      <td>42</td>\n",
       "      <td>14</td>\n",
       "      <td>2015-11-03</td>\n",
       "      <td>B002</td>\n",
       "      <td>0.75</td>\n",
       "      <td>46.363636</td>\n",
       "      <td>48.000000</td>\n",
       "      <td>0.515152</td>\n",
       "      <td>0.533333</td>\n",
       "    </tr>\n",
       "    <tr>\n",
       "      <th>6</th>\n",
       "      <td>90</td>\n",
       "      <td>COMP30240</td>\n",
       "      <td>42</td>\n",
       "      <td>15</td>\n",
       "      <td>2015-11-03</td>\n",
       "      <td>B002</td>\n",
       "      <td>0.25</td>\n",
       "      <td>40.272727</td>\n",
       "      <td>35.800000</td>\n",
       "      <td>0.447475</td>\n",
       "      <td>0.397778</td>\n",
       "    </tr>\n",
       "    <tr>\n",
       "      <th>7</th>\n",
       "      <td>90</td>\n",
       "      <td>COMP40370</td>\n",
       "      <td>27</td>\n",
       "      <td>16</td>\n",
       "      <td>2015-11-03</td>\n",
       "      <td>B002</td>\n",
       "      <td>0.25</td>\n",
       "      <td>36.416667</td>\n",
       "      <td>39.600000</td>\n",
       "      <td>0.404630</td>\n",
       "      <td>0.440000</td>\n",
       "    </tr>\n",
       "    <tr>\n",
       "      <th>8</th>\n",
       "      <td>90</td>\n",
       "      <td>COMP30190</td>\n",
       "      <td>29</td>\n",
       "      <td>9</td>\n",
       "      <td>2015-11-04</td>\n",
       "      <td>B002</td>\n",
       "      <td>0.25</td>\n",
       "      <td>13.454545</td>\n",
       "      <td>14.000000</td>\n",
       "      <td>0.149495</td>\n",
       "      <td>0.155556</td>\n",
       "    </tr>\n",
       "    <tr>\n",
       "      <th>9</th>\n",
       "      <td>90</td>\n",
       "      <td>COMP40660</td>\n",
       "      <td>53</td>\n",
       "      <td>10</td>\n",
       "      <td>2015-11-04</td>\n",
       "      <td>B002</td>\n",
       "      <td>0.25</td>\n",
       "      <td>14.416667</td>\n",
       "      <td>14.166667</td>\n",
       "      <td>0.160185</td>\n",
       "      <td>0.157407</td>\n",
       "    </tr>\n",
       "    <tr>\n",
       "      <th>10</th>\n",
       "      <td>90</td>\n",
       "      <td>COMP30250</td>\n",
       "      <td>22</td>\n",
       "      <td>11</td>\n",
       "      <td>2015-11-04</td>\n",
       "      <td>B002</td>\n",
       "      <td>0.25</td>\n",
       "      <td>8.363636</td>\n",
       "      <td>8.000000</td>\n",
       "      <td>0.092929</td>\n",
       "      <td>0.088889</td>\n",
       "    </tr>\n",
       "    <tr>\n",
       "      <th>11</th>\n",
       "      <td>90</td>\n",
       "      <td>COMP41690 (Practical)</td>\n",
       "      <td>60</td>\n",
       "      <td>12</td>\n",
       "      <td>2015-11-04</td>\n",
       "      <td>B002</td>\n",
       "      <td>0.50</td>\n",
       "      <td>33.181818</td>\n",
       "      <td>36.250000</td>\n",
       "      <td>0.368687</td>\n",
       "      <td>0.402778</td>\n",
       "    </tr>\n",
       "    <tr>\n",
       "      <th>12</th>\n",
       "      <td>90</td>\n",
       "      <td>COMP41690 (Lecture)</td>\n",
       "      <td>60</td>\n",
       "      <td>13</td>\n",
       "      <td>2015-11-04</td>\n",
       "      <td>B002</td>\n",
       "      <td>0.00</td>\n",
       "      <td>25.083333</td>\n",
       "      <td>22.333333</td>\n",
       "      <td>0.278704</td>\n",
       "      <td>0.248148</td>\n",
       "    </tr>\n",
       "    <tr>\n",
       "      <th>13</th>\n",
       "      <td>90</td>\n",
       "      <td>COMP30220</td>\n",
       "      <td>38</td>\n",
       "      <td>14</td>\n",
       "      <td>2015-11-04</td>\n",
       "      <td>B002</td>\n",
       "      <td>0.25</td>\n",
       "      <td>23.000000</td>\n",
       "      <td>24.166667</td>\n",
       "      <td>0.255556</td>\n",
       "      <td>0.268519</td>\n",
       "    </tr>\n",
       "    <tr>\n",
       "      <th>14</th>\n",
       "      <td>90</td>\n",
       "      <td>COMP30520 &amp; COMP41110</td>\n",
       "      <td>79</td>\n",
       "      <td>15</td>\n",
       "      <td>2015-11-04</td>\n",
       "      <td>B002</td>\n",
       "      <td>0.00</td>\n",
       "      <td>5.545455</td>\n",
       "      <td>5.166667</td>\n",
       "      <td>0.061616</td>\n",
       "      <td>0.057407</td>\n",
       "    </tr>\n",
       "    <tr>\n",
       "      <th>15</th>\n",
       "      <td>90</td>\n",
       "      <td>COMP30250</td>\n",
       "      <td>22</td>\n",
       "      <td>16</td>\n",
       "      <td>2015-11-04</td>\n",
       "      <td>B002</td>\n",
       "      <td>0.25</td>\n",
       "      <td>17.000000</td>\n",
       "      <td>20.000000</td>\n",
       "      <td>0.188889</td>\n",
       "      <td>0.222222</td>\n",
       "    </tr>\n",
       "    <tr>\n",
       "      <th>16</th>\n",
       "      <td>90</td>\n",
       "      <td>Vacant</td>\n",
       "      <td>-1</td>\n",
       "      <td>9</td>\n",
       "      <td>2015-11-05</td>\n",
       "      <td>B002</td>\n",
       "      <td>0.00</td>\n",
       "      <td>6.833333</td>\n",
       "      <td>2.166667</td>\n",
       "      <td>0.075926</td>\n",
       "      <td>0.024074</td>\n",
       "    </tr>\n",
       "    <tr>\n",
       "      <th>17</th>\n",
       "      <td>90</td>\n",
       "      <td>COMP30110</td>\n",
       "      <td>45</td>\n",
       "      <td>10</td>\n",
       "      <td>2015-11-05</td>\n",
       "      <td>B002</td>\n",
       "      <td>0.50</td>\n",
       "      <td>33.636364</td>\n",
       "      <td>33.166667</td>\n",
       "      <td>0.373737</td>\n",
       "      <td>0.368519</td>\n",
       "    </tr>\n",
       "    <tr>\n",
       "      <th>18</th>\n",
       "      <td>90</td>\n",
       "      <td>COMP40370</td>\n",
       "      <td>27</td>\n",
       "      <td>11</td>\n",
       "      <td>2015-11-05</td>\n",
       "      <td>B002</td>\n",
       "      <td>0.25</td>\n",
       "      <td>32.500000</td>\n",
       "      <td>31.666667</td>\n",
       "      <td>0.361111</td>\n",
       "      <td>0.351852</td>\n",
       "    </tr>\n",
       "    <tr>\n",
       "      <th>19</th>\n",
       "      <td>90</td>\n",
       "      <td>COMP30260</td>\n",
       "      <td>18</td>\n",
       "      <td>12</td>\n",
       "      <td>2015-11-05</td>\n",
       "      <td>B002</td>\n",
       "      <td>0.25</td>\n",
       "      <td>20.750000</td>\n",
       "      <td>20.800000</td>\n",
       "      <td>0.230556</td>\n",
       "      <td>0.231111</td>\n",
       "    </tr>\n",
       "  </tbody>\n",
       "</table>\n",
       "</div>"
      ],
      "text/plain": [
       "    Room_Capacity                 Module  Registered_Students  Hour  \\\n",
       "0              90                 Vacant                   -1     9   \n",
       "1              90              COMP30110                   45    10   \n",
       "2              90              COMP30260                   18    11   \n",
       "3              90              COMP40370                   27    12   \n",
       "4              90                 Vacant                   -1    13   \n",
       "5              90              COMP30240                   42    14   \n",
       "6              90              COMP30240                   42    15   \n",
       "7              90              COMP40370                   27    16   \n",
       "8              90              COMP30190                   29     9   \n",
       "9              90              COMP40660                   53    10   \n",
       "10             90              COMP30250                   22    11   \n",
       "11             90  COMP41690 (Practical)                   60    12   \n",
       "12             90    COMP41690 (Lecture)                   60    13   \n",
       "13             90              COMP30220                   38    14   \n",
       "14             90  COMP30520 & COMP41110                   79    15   \n",
       "15             90              COMP30250                   22    16   \n",
       "16             90                 Vacant                   -1     9   \n",
       "17             90              COMP30110                   45    10   \n",
       "18             90              COMP40370                   27    11   \n",
       "19             90              COMP30260                   18    12   \n",
       "\n",
       "          Date  Room  Occupancy  Avg_Count_60min  Avg_Count_30min  \\\n",
       "0   2015-11-03  B002       0.00         4.750000         2.000000   \n",
       "1   2015-11-03  B002       0.50        29.272727        29.000000   \n",
       "2   2015-11-03  B002       0.50        28.727273        27.250000   \n",
       "3   2015-11-03  B002       0.50        14.166667        10.000000   \n",
       "4   2015-11-03  B002       0.00        14.250000        13.333333   \n",
       "5   2015-11-03  B002       0.75        46.363636        48.000000   \n",
       "6   2015-11-03  B002       0.25        40.272727        35.800000   \n",
       "7   2015-11-03  B002       0.25        36.416667        39.600000   \n",
       "8   2015-11-04  B002       0.25        13.454545        14.000000   \n",
       "9   2015-11-04  B002       0.25        14.416667        14.166667   \n",
       "10  2015-11-04  B002       0.25         8.363636         8.000000   \n",
       "11  2015-11-04  B002       0.50        33.181818        36.250000   \n",
       "12  2015-11-04  B002       0.00        25.083333        22.333333   \n",
       "13  2015-11-04  B002       0.25        23.000000        24.166667   \n",
       "14  2015-11-04  B002       0.00         5.545455         5.166667   \n",
       "15  2015-11-04  B002       0.25        17.000000        20.000000   \n",
       "16  2015-11-05  B002       0.00         6.833333         2.166667   \n",
       "17  2015-11-05  B002       0.50        33.636364        33.166667   \n",
       "18  2015-11-05  B002       0.25        32.500000        31.666667   \n",
       "19  2015-11-05  B002       0.25        20.750000        20.800000   \n",
       "\n",
       "    Avg_Adj_Count_60min  Avg_Adj_Count_30min  \n",
       "0              0.052778             0.022222  \n",
       "1              0.325253             0.322222  \n",
       "2              0.319192             0.302778  \n",
       "3              0.157407             0.111111  \n",
       "4              0.158333             0.148148  \n",
       "5              0.515152             0.533333  \n",
       "6              0.447475             0.397778  \n",
       "7              0.404630             0.440000  \n",
       "8              0.149495             0.155556  \n",
       "9              0.160185             0.157407  \n",
       "10             0.092929             0.088889  \n",
       "11             0.368687             0.402778  \n",
       "12             0.278704             0.248148  \n",
       "13             0.255556             0.268519  \n",
       "14             0.061616             0.057407  \n",
       "15             0.188889             0.222222  \n",
       "16             0.075926             0.024074  \n",
       "17             0.373737             0.368519  \n",
       "18             0.361111             0.351852  \n",
       "19             0.230556             0.231111  "
      ]
     },
     "execution_count": 5,
     "metadata": {},
     "output_type": "execute_result"
    }
   ],
   "source": [
    "df.head(20)"
   ]
  },
  {
   "cell_type": "markdown",
   "metadata": {},
   "source": [
    "                \n",
    "                                        SKLearn Log Reg - 1\n",
    "                                    \n",
    "             'Module', 'Registered_Students', 'Hour', 'Occupancy', 'Ave_Hour_Count_Adjusted'\n",
    "             "
   ]
  },
  {
   "cell_type": "code",
   "execution_count": 6,
   "metadata": {
    "collapsed": true
   },
   "outputs": [],
   "source": [
    "all_features = ['Module', 'Registered_Students', 'Hour', 'Occupancy', 'Ave_Hour_Count_Adjusted']"
   ]
  },
  {
   "cell_type": "code",
   "execution_count": 7,
   "metadata": {
    "collapsed": true
   },
   "outputs": [],
   "source": [
    "ave_60 = ['Occupancy', 'Avg_Count_60min']\n",
    "ave_30 = ['Occupancy', 'Avg_Count_30min']\n",
    "\n",
    "ave_adj_60 = ['Occupancy', 'Avg_Adj_Count_60min']\n",
    "ave_adj_30 = ['Occupancy', 'Avg_Adj_Count_30min']"
   ]
  },
  {
   "cell_type": "code",
   "execution_count": 8,
   "metadata": {
    "collapsed": true
   },
   "outputs": [],
   "source": [
    "room_ave = ['Occupancy', 'Avg_Adj_Count_60min', 'Room_Capacity']"
   ]
  },
  {
   "cell_type": "code",
   "execution_count": 9,
   "metadata": {
    "collapsed": true
   },
   "outputs": [],
   "source": [
    "module_ave = ['Occupancy', 'Avg_Adj_Count_60min', 'Module']"
   ]
  },
  {
   "cell_type": "code",
   "execution_count": 10,
   "metadata": {
    "collapsed": true
   },
   "outputs": [],
   "source": [
    "room_name_ave = ['Occupancy', 'Avg_Adj_Count_60min', 'Room']"
   ]
  },
  {
   "cell_type": "code",
   "execution_count": 11,
   "metadata": {
    "collapsed": true
   },
   "outputs": [],
   "source": [
    "hour_name_ave = ['Occupancy', 'Avg_Adj_Count_60min', 'Hour']"
   ]
  },
  {
   "cell_type": "code",
   "execution_count": 12,
   "metadata": {
    "collapsed": false
   },
   "outputs": [],
   "source": [
    "av = ['Occupancy', 'Avg_Count_60min']\n"
   ]
  },
  {
   "cell_type": "markdown",
   "metadata": {},
   "source": [
    "                        FIRST WAVE"
   ]
  },
  {
   "cell_type": "code",
   "execution_count": 13,
   "metadata": {
    "collapsed": true
   },
   "outputs": [],
   "source": [
    "# ave_Adj_Five_Model = df[ave1]\n",
    "\n",
    "# max_Adj_Five_Model = df[max1]\n",
    "\n",
    "# ave_Adj_Three_Model = df[ave1]\n",
    "\n",
    "# max_Adj_Three_Model = df[max1]\n",
    "\n",
    "# ave_Adj_Bin_Model = df[ave1]\n",
    "\n",
    "# max_Adj_Bin_Model = df[max1]"
   ]
  },
  {
   "cell_type": "markdown",
   "metadata": {},
   "source": [
    "                        SECOND WAVE"
   ]
  },
  {
   "cell_type": "code",
   "execution_count": 14,
   "metadata": {
    "collapsed": false
   },
   "outputs": [],
   "source": [
    "min_five_60min = df[ave_60]\n",
    "min_three_60min = df[ave_60]\n",
    "min_two_60min = df[ave_60]"
   ]
  },
  {
   "cell_type": "markdown",
   "metadata": {},
   "source": [
    "                        THIRD WAVE"
   ]
  },
  {
   "cell_type": "code",
   "execution_count": 15,
   "metadata": {
    "collapsed": true
   },
   "outputs": [],
   "source": [
    "room_ave_five = df[room_ave]\n",
    "room_ave_three = df[room_ave]\n",
    "room_ave_two = df[room_ave]"
   ]
  },
  {
   "cell_type": "markdown",
   "metadata": {},
   "source": [
    "\n",
    "                four wave\n",
    "                "
   ]
  },
  {
   "cell_type": "code",
   "execution_count": 16,
   "metadata": {
    "collapsed": true
   },
   "outputs": [],
   "source": [
    "mod_ave_five = df[module_ave]\n",
    "mod_ave_three = df[module_ave]\n",
    "mod_ave_two = df[module_ave]"
   ]
  },
  {
   "cell_type": "markdown",
   "metadata": {},
   "source": [
    "    \n",
    "                    FIVE WAVE\n",
    "        "
   ]
  },
  {
   "cell_type": "code",
   "execution_count": 17,
   "metadata": {
    "collapsed": true
   },
   "outputs": [],
   "source": [
    "room_name_ave_five = df[room_name_ave]\n",
    "room_name_ave_three = df[room_name_ave]\n",
    "room_name_ave_two = df[room_name_ave]"
   ]
  },
  {
   "cell_type": "markdown",
   "metadata": {},
   "source": [
    "                    \n",
    "                        SIX WAVE\n",
    "                        "
   ]
  },
  {
   "cell_type": "code",
   "execution_count": 18,
   "metadata": {
    "collapsed": true
   },
   "outputs": [],
   "source": [
    "hour_ave_five = df[hour_name_ave]\n",
    "hour_ave_three = df[hour_name_ave]\n",
    "hour_ave_two = df[hour_name_ave]"
   ]
  },
  {
   "cell_type": "markdown",
   "metadata": {},
   "source": [
    "                    \n",
    "                        NU WAVE\n",
    "                        "
   ]
  },
  {
   "cell_type": "code",
   "execution_count": 19,
   "metadata": {
    "collapsed": true
   },
   "outputs": [],
   "source": [
    "ave_60_5 = df[ave_60]\n",
    "ave_60_3 = df[ave_60]\n",
    "ave_60_2 = df[ave_60]"
   ]
  },
  {
   "cell_type": "code",
   "execution_count": 20,
   "metadata": {
    "collapsed": true
   },
   "outputs": [],
   "source": [
    "ave_30_5 = df[ave_30]\n",
    "ave_30_3 = df[ave_30]\n",
    "ave_30_2 = df[ave_30]"
   ]
  },
  {
   "cell_type": "code",
   "execution_count": 21,
   "metadata": {
    "collapsed": true
   },
   "outputs": [],
   "source": [
    "ave_adj_60_5 = df[ave_adj_60]\n",
    "ave_adj_60_3 = df[ave_adj_60]\n",
    "ave_adj_60_2 = df[ave_adj_60]"
   ]
  },
  {
   "cell_type": "code",
   "execution_count": 22,
   "metadata": {
    "collapsed": true
   },
   "outputs": [],
   "source": [
    "ave_adj_30_5 = df[ave_adj_30]\n",
    "ave_adj_30_3 = df[ave_adj_30]\n",
    "ave_adj_30_2 = df[ave_adj_30]"
   ]
  },
  {
   "cell_type": "code",
   "execution_count": 23,
   "metadata": {
    "collapsed": true
   },
   "outputs": [],
   "source": [
    "occupants = df.groupby('Occupancy')"
   ]
  },
  {
   "cell_type": "code",
   "execution_count": 24,
   "metadata": {
    "collapsed": false
   },
   "outputs": [
    {
     "data": {
      "text/html": [
       "<div>\n",
       "<table border=\"1\" class=\"dataframe\">\n",
       "  <thead>\n",
       "    <tr style=\"text-align: right;\">\n",
       "      <th></th>\n",
       "      <th>Room_Capacity</th>\n",
       "      <th>Module</th>\n",
       "      <th>Registered_Students</th>\n",
       "      <th>Hour</th>\n",
       "      <th>Date</th>\n",
       "      <th>Room</th>\n",
       "      <th>Avg_Count_60min</th>\n",
       "      <th>Avg_Count_30min</th>\n",
       "      <th>Avg_Adj_Count_60min</th>\n",
       "      <th>Avg_Adj_Count_30min</th>\n",
       "    </tr>\n",
       "    <tr>\n",
       "      <th>Occupancy</th>\n",
       "      <th></th>\n",
       "      <th></th>\n",
       "      <th></th>\n",
       "      <th></th>\n",
       "      <th></th>\n",
       "      <th></th>\n",
       "      <th></th>\n",
       "      <th></th>\n",
       "      <th></th>\n",
       "      <th></th>\n",
       "    </tr>\n",
       "  </thead>\n",
       "  <tbody>\n",
       "    <tr>\n",
       "      <th>0.00</th>\n",
       "      <td>67</td>\n",
       "      <td>67</td>\n",
       "      <td>67</td>\n",
       "      <td>67</td>\n",
       "      <td>67</td>\n",
       "      <td>67</td>\n",
       "      <td>67</td>\n",
       "      <td>67</td>\n",
       "      <td>67</td>\n",
       "      <td>67</td>\n",
       "    </tr>\n",
       "    <tr>\n",
       "      <th>0.25</th>\n",
       "      <td>96</td>\n",
       "      <td>96</td>\n",
       "      <td>96</td>\n",
       "      <td>96</td>\n",
       "      <td>96</td>\n",
       "      <td>96</td>\n",
       "      <td>96</td>\n",
       "      <td>96</td>\n",
       "      <td>96</td>\n",
       "      <td>96</td>\n",
       "    </tr>\n",
       "    <tr>\n",
       "      <th>0.50</th>\n",
       "      <td>40</td>\n",
       "      <td>40</td>\n",
       "      <td>40</td>\n",
       "      <td>40</td>\n",
       "      <td>40</td>\n",
       "      <td>40</td>\n",
       "      <td>40</td>\n",
       "      <td>40</td>\n",
       "      <td>40</td>\n",
       "      <td>40</td>\n",
       "    </tr>\n",
       "    <tr>\n",
       "      <th>0.75</th>\n",
       "      <td>12</td>\n",
       "      <td>12</td>\n",
       "      <td>12</td>\n",
       "      <td>12</td>\n",
       "      <td>12</td>\n",
       "      <td>12</td>\n",
       "      <td>12</td>\n",
       "      <td>12</td>\n",
       "      <td>12</td>\n",
       "      <td>12</td>\n",
       "    </tr>\n",
       "    <tr>\n",
       "      <th>1.00</th>\n",
       "      <td>1</td>\n",
       "      <td>1</td>\n",
       "      <td>1</td>\n",
       "      <td>1</td>\n",
       "      <td>1</td>\n",
       "      <td>1</td>\n",
       "      <td>1</td>\n",
       "      <td>1</td>\n",
       "      <td>1</td>\n",
       "      <td>1</td>\n",
       "    </tr>\n",
       "  </tbody>\n",
       "</table>\n",
       "</div>"
      ],
      "text/plain": [
       "           Room_Capacity  Module  Registered_Students  Hour  Date  Room  \\\n",
       "Occupancy                                                                 \n",
       "0.00                  67      67                   67    67    67    67   \n",
       "0.25                  96      96                   96    96    96    96   \n",
       "0.50                  40      40                   40    40    40    40   \n",
       "0.75                  12      12                   12    12    12    12   \n",
       "1.00                   1       1                    1     1     1     1   \n",
       "\n",
       "           Avg_Count_60min  Avg_Count_30min  Avg_Adj_Count_60min  \\\n",
       "Occupancy                                                          \n",
       "0.00                    67               67                   67   \n",
       "0.25                    96               96                   96   \n",
       "0.50                    40               40                   40   \n",
       "0.75                    12               12                   12   \n",
       "1.00                     1                1                    1   \n",
       "\n",
       "           Avg_Adj_Count_30min  \n",
       "Occupancy                       \n",
       "0.00                        67  \n",
       "0.25                        96  \n",
       "0.50                        40  \n",
       "0.75                        12  \n",
       "1.00                         1  "
      ]
     },
     "execution_count": 24,
     "metadata": {},
     "output_type": "execute_result"
    }
   ],
   "source": [
    "occupants.count()"
   ]
  },
  {
   "cell_type": "code",
   "execution_count": 25,
   "metadata": {
    "collapsed": true
   },
   "outputs": [],
   "source": [
    "occupancy_five = {0.00: 'Empty', 0.25 : 'Low', 0.50 : 'Medium', 0.75: 'High', 1.00 : 'High'}\n",
    "\n",
    "occupancy_three = {0.00: 'Empty', 0.25 : 'Medium', 0.50 : 'Medium', 0.75: 'High', 1.00 : 'High'}\n",
    "\n",
    "occupancy_binary = {0.00: 'Empty', 0.25 : 'Occupied', 0.50 : 'Occupied', 0.75: 'Occupied', 1.00 : 'Occupied'}"
   ]
  },
  {
   "cell_type": "code",
   "execution_count": 26,
   "metadata": {
    "collapsed": false
   },
   "outputs": [],
   "source": [
    "# ave_Adj_Five_Model['Occupancy'].replace(occupancy_five, inplace=True)"
   ]
  },
  {
   "cell_type": "code",
   "execution_count": 27,
   "metadata": {
    "collapsed": false
   },
   "outputs": [],
   "source": [
    "# max_Adj_Five_Model['Occupancy'].replace(occupancy_five, inplace=True)"
   ]
  },
  {
   "cell_type": "code",
   "execution_count": 28,
   "metadata": {
    "collapsed": false
   },
   "outputs": [],
   "source": [
    "# ave_Adj_Three_Model['Occupancy'].replace(occupancy_three, inplace=True)"
   ]
  },
  {
   "cell_type": "code",
   "execution_count": 29,
   "metadata": {
    "collapsed": false
   },
   "outputs": [],
   "source": [
    "# max_Adj_Three_Model['Occupancy'].replace(occupancy_three, inplace=True)"
   ]
  },
  {
   "cell_type": "code",
   "execution_count": 30,
   "metadata": {
    "collapsed": false
   },
   "outputs": [],
   "source": [
    "# ave_Adj_Bin_Model['Occupancy'].replace(occupancy_binary, inplace=True)"
   ]
  },
  {
   "cell_type": "code",
   "execution_count": 31,
   "metadata": {
    "collapsed": false
   },
   "outputs": [],
   "source": [
    "# max_Adj_Bin_Model['Occupancy'].replace(occupancy_binary, inplace=True)"
   ]
  },
  {
   "cell_type": "code",
   "execution_count": 32,
   "metadata": {
    "collapsed": false
   },
   "outputs": [],
   "source": [
    "# min_five_model['Occupancy'].replace(occupancy_five, inplace=True)"
   ]
  },
  {
   "cell_type": "code",
   "execution_count": 33,
   "metadata": {
    "collapsed": false
   },
   "outputs": [],
   "source": [
    "# min_three_model['Occupancy'].replace(occupancy_three, inplace=True)"
   ]
  },
  {
   "cell_type": "code",
   "execution_count": 34,
   "metadata": {
    "collapsed": false
   },
   "outputs": [],
   "source": [
    "# min_two_model['Occupancy'].replace(occupancy_binary, inplace=True)"
   ]
  },
  {
   "cell_type": "code",
   "execution_count": 35,
   "metadata": {
    "collapsed": false
   },
   "outputs": [],
   "source": [
    "room_ave_five['Occupancy'].replace(occupancy_five, inplace=True)"
   ]
  },
  {
   "cell_type": "code",
   "execution_count": 36,
   "metadata": {
    "collapsed": false
   },
   "outputs": [],
   "source": [
    "room_ave_three['Occupancy'].replace(occupancy_three, inplace=True)"
   ]
  },
  {
   "cell_type": "code",
   "execution_count": 37,
   "metadata": {
    "collapsed": false
   },
   "outputs": [],
   "source": [
    "room_ave_two['Occupancy'].replace(occupancy_binary, inplace=True)"
   ]
  },
  {
   "cell_type": "code",
   "execution_count": 38,
   "metadata": {
    "collapsed": false
   },
   "outputs": [],
   "source": [
    "mod_ave_five['Occupancy'].replace(occupancy_five, inplace=True)"
   ]
  },
  {
   "cell_type": "code",
   "execution_count": 39,
   "metadata": {
    "collapsed": false
   },
   "outputs": [],
   "source": [
    "mod_ave_three['Occupancy'].replace(occupancy_three, inplace=True)"
   ]
  },
  {
   "cell_type": "code",
   "execution_count": 40,
   "metadata": {
    "collapsed": false
   },
   "outputs": [],
   "source": [
    "mod_ave_two['Occupancy'].replace(occupancy_binary, inplace=True)"
   ]
  },
  {
   "cell_type": "code",
   "execution_count": 41,
   "metadata": {
    "collapsed": false
   },
   "outputs": [],
   "source": [
    "room_name_ave_five['Occupancy'].replace(occupancy_five, inplace=True)"
   ]
  },
  {
   "cell_type": "code",
   "execution_count": 42,
   "metadata": {
    "collapsed": false
   },
   "outputs": [],
   "source": [
    "room_name_ave_three['Occupancy'].replace(occupancy_three, inplace=True)"
   ]
  },
  {
   "cell_type": "code",
   "execution_count": 43,
   "metadata": {
    "collapsed": false
   },
   "outputs": [],
   "source": [
    "room_name_ave_two['Occupancy'].replace(occupancy_binary, inplace=True)"
   ]
  },
  {
   "cell_type": "code",
   "execution_count": 44,
   "metadata": {
    "collapsed": false
   },
   "outputs": [],
   "source": [
    "hour_ave_five['Occupancy'].replace(occupancy_five, inplace=True)"
   ]
  },
  {
   "cell_type": "code",
   "execution_count": 45,
   "metadata": {
    "collapsed": false
   },
   "outputs": [],
   "source": [
    "hour_ave_three['Occupancy'].replace(occupancy_three, inplace=True)"
   ]
  },
  {
   "cell_type": "code",
   "execution_count": 46,
   "metadata": {
    "collapsed": true
   },
   "outputs": [],
   "source": [
    "hour_ave_two['Occupancy'].replace(occupancy_binary, inplace=True)"
   ]
  },
  {
   "cell_type": "markdown",
   "metadata": {},
   "source": [
    "new shit"
   ]
  },
  {
   "cell_type": "code",
   "execution_count": 47,
   "metadata": {
    "collapsed": false
   },
   "outputs": [],
   "source": [
    "ave_60_5['Occupancy'].replace(occupancy_five, inplace=True)"
   ]
  },
  {
   "cell_type": "code",
   "execution_count": 48,
   "metadata": {
    "collapsed": false
   },
   "outputs": [],
   "source": [
    "ave_60_3['Occupancy'].replace(occupancy_three, inplace=True)"
   ]
  },
  {
   "cell_type": "code",
   "execution_count": 49,
   "metadata": {
    "collapsed": false
   },
   "outputs": [],
   "source": [
    "ave_60_2['Occupancy'].replace(occupancy_binary, inplace=True)"
   ]
  },
  {
   "cell_type": "code",
   "execution_count": null,
   "metadata": {
    "collapsed": true
   },
   "outputs": [],
   "source": []
  },
  {
   "cell_type": "code",
   "execution_count": 50,
   "metadata": {
    "collapsed": false
   },
   "outputs": [],
   "source": [
    "ave_30_5['Occupancy'].replace(occupancy_five, inplace=True)"
   ]
  },
  {
   "cell_type": "code",
   "execution_count": 51,
   "metadata": {
    "collapsed": false
   },
   "outputs": [],
   "source": [
    "ave_30_3['Occupancy'].replace(occupancy_three, inplace=True)"
   ]
  },
  {
   "cell_type": "code",
   "execution_count": 52,
   "metadata": {
    "collapsed": true
   },
   "outputs": [],
   "source": [
    "ave_30_2['Occupancy'].replace(occupancy_binary, inplace=True)"
   ]
  },
  {
   "cell_type": "code",
   "execution_count": null,
   "metadata": {
    "collapsed": true
   },
   "outputs": [],
   "source": []
  },
  {
   "cell_type": "code",
   "execution_count": 53,
   "metadata": {
    "collapsed": true
   },
   "outputs": [],
   "source": [
    "ave_adj_60_5['Occupancy'].replace(occupancy_five, inplace=True)"
   ]
  },
  {
   "cell_type": "code",
   "execution_count": 54,
   "metadata": {
    "collapsed": true
   },
   "outputs": [],
   "source": [
    "ave_adj_60_3['Occupancy'].replace(occupancy_three, inplace=True)"
   ]
  },
  {
   "cell_type": "code",
   "execution_count": 55,
   "metadata": {
    "collapsed": true
   },
   "outputs": [],
   "source": [
    "ave_adj_60_2['Occupancy'].replace(occupancy_binary, inplace=True)"
   ]
  },
  {
   "cell_type": "code",
   "execution_count": null,
   "metadata": {
    "collapsed": true
   },
   "outputs": [],
   "source": []
  },
  {
   "cell_type": "code",
   "execution_count": 56,
   "metadata": {
    "collapsed": true
   },
   "outputs": [],
   "source": [
    "ave_adj_30_5['Occupancy'].replace(occupancy_five, inplace=True)"
   ]
  },
  {
   "cell_type": "code",
   "execution_count": 57,
   "metadata": {
    "collapsed": true
   },
   "outputs": [],
   "source": [
    "ave_adj_30_3['Occupancy'].replace(occupancy_three, inplace=True)"
   ]
  },
  {
   "cell_type": "code",
   "execution_count": 58,
   "metadata": {
    "collapsed": true
   },
   "outputs": [],
   "source": [
    "ave_adj_30_2['Occupancy'].replace(occupancy_binary, inplace=True)"
   ]
  },
  {
   "cell_type": "markdown",
   "metadata": {},
   "source": [
    "    \n",
    "                            GRAPHING STUFF\n",
    "                            "
   ]
  },
  {
   "cell_type": "code",
   "execution_count": 59,
   "metadata": {
    "collapsed": false
   },
   "outputs": [
    {
     "data": {
      "text/plain": [
       "<matplotlib.axes._subplots.AxesSubplot at 0x7f88175ab518>"
      ]
     },
     "execution_count": 59,
     "metadata": {},
     "output_type": "execute_result"
    },
    {
     "data": {
      "image/png": "[encoded data removed]",
      "text/plain": [
       "<matplotlib.figure.Figure at 0x7f88175a6a58>"
      ]
     },
     "metadata": {},
     "output_type": "display_data"
    }
   ],
   "source": [
    "# scatterplots for all continuous features and the target feature total_score\n",
    "fig, axs = plt.subplots(1, 2, sharey=True)\n",
    "df.plot(kind='scatter',x='Avg_Adj_Count_60min',  y='Occupancy',  label=\"%.3f\" \\\n",
    "        % df[['Avg_Adj_Count_60min','Occupancy' ]].corr().as_matrix()[0,1], ax=axs[0], figsize=(15, 8))"
   ]
  },
  {
   "cell_type": "code",
   "execution_count": 60,
   "metadata": {
    "collapsed": false
   },
   "outputs": [
    {
     "data": {
      "text/plain": [
       "<matplotlib.axes._subplots.AxesSubplot at 0x7f8813c8f3c8>"
      ]
     },
     "execution_count": 60,
     "metadata": {},
     "output_type": "execute_result"
    },
    {
     "data": {
      "image/png": "[encoded data removed]",
      "text/plain": [
       "<matplotlib.figure.Figure at 0x7f88175ab400>"
      ]
     },
     "metadata": {},
     "output_type": "display_data"
    }
   ],
   "source": [
    "# scatterplots for all continuous features and the target feature total_score\n",
    "fig, axs = plt.subplots(1, 2, sharey=True)\n",
    "df.plot(kind='scatter',x='Avg_Adj_Count_30min',  y='Occupancy',  label=\"%.3f\" \\\n",
    "        % df[['Avg_Adj_Count_30min','Occupancy' ]].corr().as_matrix()[0,1], ax=axs[0], figsize=(15, 8))"
   ]
  },
  {
   "cell_type": "code",
   "execution_count": 61,
   "metadata": {
    "collapsed": false
   },
   "outputs": [
    {
     "data": {
      "text/plain": [
       "<matplotlib.axes._subplots.AxesSubplot at 0x7f8813bf06a0>"
      ]
     },
     "execution_count": 61,
     "metadata": {},
     "output_type": "execute_result"
    },
    {
     "data": {
      "image/png": "[encoded data removed]",
      "text/plain": [
       "<matplotlib.figure.Figure at 0x7f88175a63c8>"
      ]
     },
     "metadata": {},
     "output_type": "display_data"
    }
   ],
   "source": [
    "df['Avg_Adj_Count_30min'].plot(kind='box')"
   ]
  },
  {
   "cell_type": "code",
   "execution_count": 62,
   "metadata": {
    "collapsed": false
   },
   "outputs": [
    {
     "data": {
      "text/html": [
       "<div>\n",
       "<table border=\"1\" class=\"dataframe\">\n",
       "  <thead>\n",
       "    <tr style=\"text-align: right;\">\n",
       "      <th></th>\n",
       "      <th>Room_Capacity</th>\n",
       "      <th>Module</th>\n",
       "      <th>Registered_Students</th>\n",
       "      <th>Hour</th>\n",
       "      <th>Date</th>\n",
       "      <th>Room</th>\n",
       "      <th>Occupancy</th>\n",
       "      <th>Avg_Count_60min</th>\n",
       "      <th>Avg_Count_30min</th>\n",
       "      <th>Avg_Adj_Count_60min</th>\n",
       "      <th>Avg_Adj_Count_30min</th>\n",
       "    </tr>\n",
       "  </thead>\n",
       "  <tbody>\n",
       "    <tr>\n",
       "      <th>0</th>\n",
       "      <td>90</td>\n",
       "      <td>Vacant</td>\n",
       "      <td>-1</td>\n",
       "      <td>9</td>\n",
       "      <td>2015-11-03</td>\n",
       "      <td>B002</td>\n",
       "      <td>0.00</td>\n",
       "      <td>4.750000</td>\n",
       "      <td>2.000000</td>\n",
       "      <td>0.052778</td>\n",
       "      <td>0.022222</td>\n",
       "    </tr>\n",
       "    <tr>\n",
       "      <th>1</th>\n",
       "      <td>90</td>\n",
       "      <td>COMP30110</td>\n",
       "      <td>45</td>\n",
       "      <td>10</td>\n",
       "      <td>2015-11-03</td>\n",
       "      <td>B002</td>\n",
       "      <td>0.50</td>\n",
       "      <td>29.272727</td>\n",
       "      <td>29.000000</td>\n",
       "      <td>0.325253</td>\n",
       "      <td>0.322222</td>\n",
       "    </tr>\n",
       "    <tr>\n",
       "      <th>2</th>\n",
       "      <td>90</td>\n",
       "      <td>COMP30260</td>\n",
       "      <td>18</td>\n",
       "      <td>11</td>\n",
       "      <td>2015-11-03</td>\n",
       "      <td>B002</td>\n",
       "      <td>0.50</td>\n",
       "      <td>28.727273</td>\n",
       "      <td>27.250000</td>\n",
       "      <td>0.319192</td>\n",
       "      <td>0.302778</td>\n",
       "    </tr>\n",
       "    <tr>\n",
       "      <th>3</th>\n",
       "      <td>90</td>\n",
       "      <td>COMP40370</td>\n",
       "      <td>27</td>\n",
       "      <td>12</td>\n",
       "      <td>2015-11-03</td>\n",
       "      <td>B002</td>\n",
       "      <td>0.50</td>\n",
       "      <td>14.166667</td>\n",
       "      <td>10.000000</td>\n",
       "      <td>0.157407</td>\n",
       "      <td>0.111111</td>\n",
       "    </tr>\n",
       "    <tr>\n",
       "      <th>4</th>\n",
       "      <td>90</td>\n",
       "      <td>Vacant</td>\n",
       "      <td>-1</td>\n",
       "      <td>13</td>\n",
       "      <td>2015-11-03</td>\n",
       "      <td>B002</td>\n",
       "      <td>0.00</td>\n",
       "      <td>14.250000</td>\n",
       "      <td>13.333333</td>\n",
       "      <td>0.158333</td>\n",
       "      <td>0.148148</td>\n",
       "    </tr>\n",
       "    <tr>\n",
       "      <th>5</th>\n",
       "      <td>90</td>\n",
       "      <td>COMP30240</td>\n",
       "      <td>42</td>\n",
       "      <td>14</td>\n",
       "      <td>2015-11-03</td>\n",
       "      <td>B002</td>\n",
       "      <td>0.75</td>\n",
       "      <td>46.363636</td>\n",
       "      <td>48.000000</td>\n",
       "      <td>0.515152</td>\n",
       "      <td>0.533333</td>\n",
       "    </tr>\n",
       "    <tr>\n",
       "      <th>6</th>\n",
       "      <td>90</td>\n",
       "      <td>COMP30240</td>\n",
       "      <td>42</td>\n",
       "      <td>15</td>\n",
       "      <td>2015-11-03</td>\n",
       "      <td>B002</td>\n",
       "      <td>0.25</td>\n",
       "      <td>40.272727</td>\n",
       "      <td>35.800000</td>\n",
       "      <td>0.447475</td>\n",
       "      <td>0.397778</td>\n",
       "    </tr>\n",
       "    <tr>\n",
       "      <th>7</th>\n",
       "      <td>90</td>\n",
       "      <td>COMP40370</td>\n",
       "      <td>27</td>\n",
       "      <td>16</td>\n",
       "      <td>2015-11-03</td>\n",
       "      <td>B002</td>\n",
       "      <td>0.25</td>\n",
       "      <td>36.416667</td>\n",
       "      <td>39.600000</td>\n",
       "      <td>0.404630</td>\n",
       "      <td>0.440000</td>\n",
       "    </tr>\n",
       "    <tr>\n",
       "      <th>8</th>\n",
       "      <td>90</td>\n",
       "      <td>COMP30190</td>\n",
       "      <td>29</td>\n",
       "      <td>9</td>\n",
       "      <td>2015-11-04</td>\n",
       "      <td>B002</td>\n",
       "      <td>0.25</td>\n",
       "      <td>13.454545</td>\n",
       "      <td>14.000000</td>\n",
       "      <td>0.149495</td>\n",
       "      <td>0.155556</td>\n",
       "    </tr>\n",
       "    <tr>\n",
       "      <th>9</th>\n",
       "      <td>90</td>\n",
       "      <td>COMP40660</td>\n",
       "      <td>53</td>\n",
       "      <td>10</td>\n",
       "      <td>2015-11-04</td>\n",
       "      <td>B002</td>\n",
       "      <td>0.25</td>\n",
       "      <td>14.416667</td>\n",
       "      <td>14.166667</td>\n",
       "      <td>0.160185</td>\n",
       "      <td>0.157407</td>\n",
       "    </tr>\n",
       "    <tr>\n",
       "      <th>10</th>\n",
       "      <td>90</td>\n",
       "      <td>COMP30250</td>\n",
       "      <td>22</td>\n",
       "      <td>11</td>\n",
       "      <td>2015-11-04</td>\n",
       "      <td>B002</td>\n",
       "      <td>0.25</td>\n",
       "      <td>8.363636</td>\n",
       "      <td>8.000000</td>\n",
       "      <td>0.092929</td>\n",
       "      <td>0.088889</td>\n",
       "    </tr>\n",
       "    <tr>\n",
       "      <th>11</th>\n",
       "      <td>90</td>\n",
       "      <td>COMP41690 (Practical)</td>\n",
       "      <td>60</td>\n",
       "      <td>12</td>\n",
       "      <td>2015-11-04</td>\n",
       "      <td>B002</td>\n",
       "      <td>0.50</td>\n",
       "      <td>33.181818</td>\n",
       "      <td>36.250000</td>\n",
       "      <td>0.368687</td>\n",
       "      <td>0.402778</td>\n",
       "    </tr>\n",
       "    <tr>\n",
       "      <th>12</th>\n",
       "      <td>90</td>\n",
       "      <td>COMP41690 (Lecture)</td>\n",
       "      <td>60</td>\n",
       "      <td>13</td>\n",
       "      <td>2015-11-04</td>\n",
       "      <td>B002</td>\n",
       "      <td>0.00</td>\n",
       "      <td>25.083333</td>\n",
       "      <td>22.333333</td>\n",
       "      <td>0.278704</td>\n",
       "      <td>0.248148</td>\n",
       "    </tr>\n",
       "    <tr>\n",
       "      <th>13</th>\n",
       "      <td>90</td>\n",
       "      <td>COMP30220</td>\n",
       "      <td>38</td>\n",
       "      <td>14</td>\n",
       "      <td>2015-11-04</td>\n",
       "      <td>B002</td>\n",
       "      <td>0.25</td>\n",
       "      <td>23.000000</td>\n",
       "      <td>24.166667</td>\n",
       "      <td>0.255556</td>\n",
       "      <td>0.268519</td>\n",
       "    </tr>\n",
       "    <tr>\n",
       "      <th>14</th>\n",
       "      <td>90</td>\n",
       "      <td>COMP30520 &amp; COMP41110</td>\n",
       "      <td>79</td>\n",
       "      <td>15</td>\n",
       "      <td>2015-11-04</td>\n",
       "      <td>B002</td>\n",
       "      <td>0.00</td>\n",
       "      <td>5.545455</td>\n",
       "      <td>5.166667</td>\n",
       "      <td>0.061616</td>\n",
       "      <td>0.057407</td>\n",
       "    </tr>\n",
       "    <tr>\n",
       "      <th>15</th>\n",
       "      <td>90</td>\n",
       "      <td>COMP30250</td>\n",
       "      <td>22</td>\n",
       "      <td>16</td>\n",
       "      <td>2015-11-04</td>\n",
       "      <td>B002</td>\n",
       "      <td>0.25</td>\n",
       "      <td>17.000000</td>\n",
       "      <td>20.000000</td>\n",
       "      <td>0.188889</td>\n",
       "      <td>0.222222</td>\n",
       "    </tr>\n",
       "    <tr>\n",
       "      <th>16</th>\n",
       "      <td>90</td>\n",
       "      <td>Vacant</td>\n",
       "      <td>-1</td>\n",
       "      <td>9</td>\n",
       "      <td>2015-11-05</td>\n",
       "      <td>B002</td>\n",
       "      <td>0.00</td>\n",
       "      <td>6.833333</td>\n",
       "      <td>2.166667</td>\n",
       "      <td>0.075926</td>\n",
       "      <td>0.024074</td>\n",
       "    </tr>\n",
       "    <tr>\n",
       "      <th>17</th>\n",
       "      <td>90</td>\n",
       "      <td>COMP30110</td>\n",
       "      <td>45</td>\n",
       "      <td>10</td>\n",
       "      <td>2015-11-05</td>\n",
       "      <td>B002</td>\n",
       "      <td>0.50</td>\n",
       "      <td>33.636364</td>\n",
       "      <td>33.166667</td>\n",
       "      <td>0.373737</td>\n",
       "      <td>0.368519</td>\n",
       "    </tr>\n",
       "    <tr>\n",
       "      <th>18</th>\n",
       "      <td>90</td>\n",
       "      <td>COMP40370</td>\n",
       "      <td>27</td>\n",
       "      <td>11</td>\n",
       "      <td>2015-11-05</td>\n",
       "      <td>B002</td>\n",
       "      <td>0.25</td>\n",
       "      <td>32.500000</td>\n",
       "      <td>31.666667</td>\n",
       "      <td>0.361111</td>\n",
       "      <td>0.351852</td>\n",
       "    </tr>\n",
       "    <tr>\n",
       "      <th>19</th>\n",
       "      <td>90</td>\n",
       "      <td>COMP30260</td>\n",
       "      <td>18</td>\n",
       "      <td>12</td>\n",
       "      <td>2015-11-05</td>\n",
       "      <td>B002</td>\n",
       "      <td>0.25</td>\n",
       "      <td>20.750000</td>\n",
       "      <td>20.800000</td>\n",
       "      <td>0.230556</td>\n",
       "      <td>0.231111</td>\n",
       "    </tr>\n",
       "  </tbody>\n",
       "</table>\n",
       "</div>"
      ],
      "text/plain": [
       "    Room_Capacity                 Module  Registered_Students  Hour  \\\n",
       "0              90                 Vacant                   -1     9   \n",
       "1              90              COMP30110                   45    10   \n",
       "2              90              COMP30260                   18    11   \n",
       "3              90              COMP40370                   27    12   \n",
       "4              90                 Vacant                   -1    13   \n",
       "5              90              COMP30240                   42    14   \n",
       "6              90              COMP30240                   42    15   \n",
       "7              90              COMP40370                   27    16   \n",
       "8              90              COMP30190                   29     9   \n",
       "9              90              COMP40660                   53    10   \n",
       "10             90              COMP30250                   22    11   \n",
       "11             90  COMP41690 (Practical)                   60    12   \n",
       "12             90    COMP41690 (Lecture)                   60    13   \n",
       "13             90              COMP30220                   38    14   \n",
       "14             90  COMP30520 & COMP41110                   79    15   \n",
       "15             90              COMP30250                   22    16   \n",
       "16             90                 Vacant                   -1     9   \n",
       "17             90              COMP30110                   45    10   \n",
       "18             90              COMP40370                   27    11   \n",
       "19             90              COMP30260                   18    12   \n",
       "\n",
       "          Date  Room  Occupancy  Avg_Count_60min  Avg_Count_30min  \\\n",
       "0   2015-11-03  B002       0.00         4.750000         2.000000   \n",
       "1   2015-11-03  B002       0.50        29.272727        29.000000   \n",
       "2   2015-11-03  B002       0.50        28.727273        27.250000   \n",
       "3   2015-11-03  B002       0.50        14.166667        10.000000   \n",
       "4   2015-11-03  B002       0.00        14.250000        13.333333   \n",
       "5   2015-11-03  B002       0.75        46.363636        48.000000   \n",
       "6   2015-11-03  B002       0.25        40.272727        35.800000   \n",
       "7   2015-11-03  B002       0.25        36.416667        39.600000   \n",
       "8   2015-11-04  B002       0.25        13.454545        14.000000   \n",
       "9   2015-11-04  B002       0.25        14.416667        14.166667   \n",
       "10  2015-11-04  B002       0.25         8.363636         8.000000   \n",
       "11  2015-11-04  B002       0.50        33.181818        36.250000   \n",
       "12  2015-11-04  B002       0.00        25.083333        22.333333   \n",
       "13  2015-11-04  B002       0.25        23.000000        24.166667   \n",
       "14  2015-11-04  B002       0.00         5.545455         5.166667   \n",
       "15  2015-11-04  B002       0.25        17.000000        20.000000   \n",
       "16  2015-11-05  B002       0.00         6.833333         2.166667   \n",
       "17  2015-11-05  B002       0.50        33.636364        33.166667   \n",
       "18  2015-11-05  B002       0.25        32.500000        31.666667   \n",
       "19  2015-11-05  B002       0.25        20.750000        20.800000   \n",
       "\n",
       "    Avg_Adj_Count_60min  Avg_Adj_Count_30min  \n",
       "0              0.052778             0.022222  \n",
       "1              0.325253             0.322222  \n",
       "2              0.319192             0.302778  \n",
       "3              0.157407             0.111111  \n",
       "4              0.158333             0.148148  \n",
       "5              0.515152             0.533333  \n",
       "6              0.447475             0.397778  \n",
       "7              0.404630             0.440000  \n",
       "8              0.149495             0.155556  \n",
       "9              0.160185             0.157407  \n",
       "10             0.092929             0.088889  \n",
       "11             0.368687             0.402778  \n",
       "12             0.278704             0.248148  \n",
       "13             0.255556             0.268519  \n",
       "14             0.061616             0.057407  \n",
       "15             0.188889             0.222222  \n",
       "16             0.075926             0.024074  \n",
       "17             0.373737             0.368519  \n",
       "18             0.361111             0.351852  \n",
       "19             0.230556             0.231111  "
      ]
     },
     "execution_count": 62,
     "metadata": {},
     "output_type": "execute_result"
    }
   ],
   "source": [
    "df.head(20)"
   ]
  },
  {
   "cell_type": "markdown",
   "metadata": {},
   "source": [
    "                                                                             \n",
    "                                                                             \n",
    "                                                                                 SM Log Ave-5"
   ]
  },
  {
   "cell_type": "code",
   "execution_count": 63,
   "metadata": {
    "collapsed": false
   },
   "outputs": [],
   "source": [
    "# # 4.1 - Train a logistic regression model to predict the target feature occupancy\n",
    "\n",
    "# logreg = sm.logit(formula=\"Occupancy ~ \\\n",
    "#             Ave_Hour_Count_Adjusted\", data=df).fit()"
   ]
  },
  {
   "cell_type": "code",
   "execution_count": 64,
   "metadata": {
    "collapsed": false
   },
   "outputs": [],
   "source": [
    "# logreg.summary()"
   ]
  },
  {
   "cell_type": "code",
   "execution_count": null,
   "metadata": {
    "collapsed": true
   },
   "outputs": [],
   "source": []
  },
  {
   "cell_type": "markdown",
   "metadata": {},
   "source": [
    "    \n",
    "                                    LINEAR STUFF\n",
    "                                    "
   ]
  },
  {
   "cell_type": "code",
   "execution_count": 65,
   "metadata": {
    "collapsed": false
   },
   "outputs": [],
   "source": [
    "# df.columns"
   ]
  },
  {
   "cell_type": "code",
   "execution_count": 66,
   "metadata": {
    "collapsed": true
   },
   "outputs": [],
   "source": [
    "# df['Ave_Count_Squared'] = df['Ave_Hour_Count_Adjusted']"
   ]
  },
  {
   "cell_type": "code",
   "execution_count": 67,
   "metadata": {
    "collapsed": false
   },
   "outputs": [],
   "source": [
    "# df.columns.get_loc('Ave_Count_Squared')"
   ]
  },
  {
   "cell_type": "code",
   "execution_count": 68,
   "metadata": {
    "collapsed": false
   },
   "outputs": [],
   "source": [
    "# for row in range(df.shape[0]):\n",
    "#     x = df.iat[row, 10]\n",
    "#     print(x**2)\n",
    "#     df.iat[row, 12] = x**2"
   ]
  },
  {
   "cell_type": "code",
   "execution_count": 69,
   "metadata": {
    "collapsed": false
   },
   "outputs": [],
   "source": [
    "# df.head(10)"
   ]
  },
  {
   "cell_type": "code",
   "execution_count": 70,
   "metadata": {
    "collapsed": false
   },
   "outputs": [],
   "source": [
    "# lm = sm.ols(formula=\"Occupancy ~ Ave_Hour_Count_Adjusted\", data=df).fit()\n",
    "\n",
    "# print(lm.summary())"
   ]
  },
  {
   "cell_type": "code",
   "execution_count": null,
   "metadata": {
    "collapsed": true
   },
   "outputs": [],
   "source": []
  },
  {
   "cell_type": "markdown",
   "metadata": {},
   "source": [
    "\n",
    "                                            SKLearn Log Reg Prep\n",
    "                                            "
   ]
  },
  {
   "cell_type": "code",
   "execution_count": 71,
   "metadata": {
    "collapsed": false
   },
   "outputs": [
    {
     "data": {
      "text/plain": [
       "Index(['Room_Capacity', 'Module', 'Registered_Students', 'Hour', 'Date',\n",
       "       'Room', 'Occupancy', 'Avg_Count_60min', 'Avg_Count_30min',\n",
       "       'Avg_Adj_Count_60min', 'Avg_Adj_Count_30min'],\n",
       "      dtype='object')"
      ]
     },
     "execution_count": 71,
     "metadata": {},
     "output_type": "execute_result"
    }
   ],
   "source": [
    "df.columns"
   ]
  },
  {
   "cell_type": "code",
   "execution_count": 72,
   "metadata": {
    "collapsed": true
   },
   "outputs": [],
   "source": [
    "# Set your dummies as necessary\n",
    "\n",
    "date_dummies = pd.get_dummies(df.Date, prefix='Date')\n",
    "module_dummies = pd.get_dummies(df.Module, prefix='Module')\n",
    "room_dummies = pd.get_dummies(df.Room, prefix='Room')\n",
    "hour_dummies = pd.get_dummies(df.Room, prefix='Hour')"
   ]
  },
  {
   "cell_type": "code",
   "execution_count": 73,
   "metadata": {
    "collapsed": false
   },
   "outputs": [],
   "source": [
    "# ave_Adj_Five_Model.columns"
   ]
  },
  {
   "cell_type": "code",
   "execution_count": 108,
   "metadata": {
    "collapsed": true
   },
   "outputs": [],
   "source": [
    "def SKLogR(df):\n",
    "    \n",
    "    intercept = pd.DataFrame({'Intercept': np.ones(216)})\n",
    "    df = pd.concat([intercept, df], axis=1)\n",
    "    \n",
    "    for i in df.columns:\n",
    "        if i == 'Room':\n",
    "            df = pd.concat([df, room_dummies], axis=1)\n",
    "            del df['Room']\n",
    "            \n",
    "        if i == 'Date':\n",
    "            df = pd.concat([df, date_dummies], axis=1)\n",
    "            del df['Date']\n",
    "        \n",
    "        if i == 'Module':\n",
    "            df = pd.concat([df, module_dummies], axis=1)\n",
    "            del df['Module']\n",
    "            \n",
    "        if i == 'Hour':\n",
    "            df = pd.concat([df, hour_dummies], axis=1)\n",
    "            del df['Hour']\n",
    "            \n",
    "            \n",
    "    X = df.ix[:, df.columns != 'Occupancy']\n",
    "    Y = df.Occupancy\n",
    "    \n",
    "    for i in X.columns:\n",
    "        j = i.split('_')\n",
    "    \n",
    "        if j[0] in ['Date', 'Module', 'Room', 'Hour']:\n",
    "            if i == 'Room_Capacity':\n",
    "                continue\n",
    "\n",
    "            X[i] = X[i].astype('category')\n",
    "        \n",
    "    logSK = LogisticRegression().fit(X, Y)\n",
    "    logSK.score(X, Y)\n",
    "    \n",
    "    scores = cross_val_score(LogisticRegression(), X, Y, scoring='accuracy', cv=12)\n",
    "    print(scores.mean())\n",
    "    \n",
    "    return logSK"
   ]
  },
  {
   "cell_type": "markdown",
   "metadata": {},
   "source": [
    "\n",
    "                                        SKLearn Log Reg - 1\n",
    "                                    \n",
    "             'Module', 'Registered_Students', 'Hour', 'Occupancy', 'Ave_Hour_Count_Adjusted'\n",
    "             \n",
    "                                            ave_5\n",
    "                                            ave_3\n",
    "                                            ave_2\n",
    "                                            max_5\n",
    "                                            max_3\n",
    "                                            max_2"
   ]
  },
  {
   "cell_type": "code",
   "execution_count": 75,
   "metadata": {
    "collapsed": false
   },
   "outputs": [],
   "source": [
    "# SKLogR(ave_Adj_Five_Model)"
   ]
  },
  {
   "cell_type": "code",
   "execution_count": 76,
   "metadata": {
    "collapsed": false
   },
   "outputs": [],
   "source": [
    "# SKLogR(max_Adj_Five_Model)"
   ]
  },
  {
   "cell_type": "code",
   "execution_count": 77,
   "metadata": {
    "collapsed": false
   },
   "outputs": [],
   "source": [
    "# SKLogR(ave_Adj_Three_Model)"
   ]
  },
  {
   "cell_type": "code",
   "execution_count": 78,
   "metadata": {
    "collapsed": false
   },
   "outputs": [],
   "source": [
    "# SKLogR(max_Adj_Three_Model)"
   ]
  },
  {
   "cell_type": "code",
   "execution_count": 79,
   "metadata": {
    "collapsed": false
   },
   "outputs": [],
   "source": [
    "# SKLogR(ave_Adj_Bin_Model)"
   ]
  },
  {
   "cell_type": "code",
   "execution_count": 80,
   "metadata": {
    "collapsed": false
   },
   "outputs": [],
   "source": [
    "# SKLogR(max_Adj_Bin_Model)"
   ]
  },
  {
   "cell_type": "code",
   "execution_count": null,
   "metadata": {
    "collapsed": true
   },
   "outputs": [],
   "source": []
  },
  {
   "cell_type": "markdown",
   "metadata": {},
   "source": [
    "\n",
    "                                        SKLearn Log Reg - 2\n",
    "                                    \n",
    "                                     'Ave_Hour_Count_Adjusted'\n",
    "             \n",
    "                                            ave_5\n",
    "                                            ave_3\n",
    "                                            ave_2"
   ]
  },
  {
   "cell_type": "code",
   "execution_count": 81,
   "metadata": {
    "collapsed": false
   },
   "outputs": [],
   "source": [
    "# SKLogR(min_five_model)"
   ]
  },
  {
   "cell_type": "code",
   "execution_count": 82,
   "metadata": {
    "collapsed": false
   },
   "outputs": [
    {
     "ename": "NameError",
     "evalue": "name 'min_three_model' is not defined",
     "output_type": "error",
     "traceback": [
      "\u001b[1;31m---------------------------------------------------------------------------\u001b[0m",
      "\u001b[1;31mNameError\u001b[0m                                 Traceback (most recent call last)",
      "\u001b[1;32m<ipython-input-82-e3b5ea9c5bb9>\u001b[0m in \u001b[0;36m<module>\u001b[1;34m()\u001b[0m\n\u001b[1;32m----> 1\u001b[1;33m \u001b[0mSKLogR\u001b[0m\u001b[1;33m(\u001b[0m\u001b[0mmin_three_model\u001b[0m\u001b[1;33m)\u001b[0m\u001b[1;33m\u001b[0m\u001b[0m\n\u001b[0m",
      "\u001b[1;31mNameError\u001b[0m: name 'min_three_model' is not defined"
     ]
    }
   ],
   "source": [
    "# SKLogR(min_three_model)"
   ]
  },
  {
   "cell_type": "code",
   "execution_count": 83,
   "metadata": {
    "collapsed": false
   },
   "outputs": [],
   "source": [
    "# SKLogR(min_two_model)"
   ]
  },
  {
   "cell_type": "markdown",
   "metadata": {},
   "source": [
    "\n",
    "                                        SKLearn Log Reg - 2\n",
    "                                    \n",
    "                                 'Ave_Hour_Count_Adjusted, 'Room'\n",
    "             \n",
    "                                            ave_5\n",
    "                                            ave_3\n",
    "                                            ave_2\n",
    "                                            \n",
    "                                           NOT ROOM"
   ]
  },
  {
   "cell_type": "code",
   "execution_count": 84,
   "metadata": {
    "collapsed": false
   },
   "outputs": [
    {
     "name": "stdout",
     "output_type": "stream",
     "text": [
      "0.54459494324\n"
     ]
    }
   ],
   "source": [
    "SKLogR(room_ave_five)"
   ]
  },
  {
   "cell_type": "code",
   "execution_count": 85,
   "metadata": {
    "collapsed": false
   },
   "outputs": [
    {
     "name": "stdout",
     "output_type": "stream",
     "text": [
      "0.654790161679\n"
     ]
    }
   ],
   "source": [
    "SKLogR(room_ave_three)"
   ]
  },
  {
   "cell_type": "code",
   "execution_count": 86,
   "metadata": {
    "collapsed": false
   },
   "outputs": [
    {
     "name": "stdout",
     "output_type": "stream",
     "text": [
      "0.719728242174\n"
     ]
    }
   ],
   "source": [
    "SKLogR(room_ave_two)"
   ]
  },
  {
   "cell_type": "markdown",
   "metadata": {},
   "source": [
    "\n",
    "                                        SKLearn Log Reg - 4\n",
    "                                    \n",
    "                                 'Ave_Hour_Count_Adjusted, 'Module'\n",
    "             \n",
    "                                            ave_5\n",
    "                                            ave_3\n",
    "                                            ave_2\n",
    "                                            \n",
    "                                         MAYBE MODULE"
   ]
  },
  {
   "cell_type": "code",
   "execution_count": 87,
   "metadata": {
    "collapsed": false
   },
   "outputs": [
    {
     "name": "stdout",
     "output_type": "stream",
     "text": [
      "0.514017887857\n"
     ]
    }
   ],
   "source": [
    "SKLogR(mod_ave_five)"
   ]
  },
  {
   "cell_type": "code",
   "execution_count": 88,
   "metadata": {
    "collapsed": false
   },
   "outputs": [
    {
     "name": "stdout",
     "output_type": "stream",
     "text": [
      "0.695755933953\n"
     ]
    }
   ],
   "source": [
    "SKLogR(mod_ave_three)"
   ]
  },
  {
   "cell_type": "code",
   "execution_count": 89,
   "metadata": {
    "collapsed": false
   },
   "outputs": [
    {
     "name": "stdout",
     "output_type": "stream",
     "text": [
      "0.770768833849\n"
     ]
    }
   ],
   "source": [
    "SKLogR(mod_ave_two)"
   ]
  },
  {
   "cell_type": "markdown",
   "metadata": {},
   "source": [
    "\n",
    "                                        \n",
    "                                        SKLearn Log Reg - 5\n",
    "                                    \n",
    "                                 'Ave_Hour_Count_Adjusted, 'Room'\n",
    "             \n",
    "                                            ave_5\n",
    "                                            ave_3\n",
    "                                            ave_2\n",
    "                                            \n",
    "                                           NOT ROOM"
   ]
  },
  {
   "cell_type": "code",
   "execution_count": 90,
   "metadata": {
    "collapsed": false
   },
   "outputs": [
    {
     "name": "stdout",
     "output_type": "stream",
     "text": [
      "0.511231510148\n"
     ]
    }
   ],
   "source": [
    "SKLogR(room_name_ave_five)"
   ]
  },
  {
   "cell_type": "code",
   "execution_count": 91,
   "metadata": {
    "collapsed": false
   },
   "outputs": [
    {
     "name": "stdout",
     "output_type": "stream",
     "text": [
      "0.67769464511\n"
     ]
    }
   ],
   "source": [
    "SKLogR(room_name_ave_three)"
   ]
  },
  {
   "cell_type": "code",
   "execution_count": 92,
   "metadata": {
    "collapsed": false
   },
   "outputs": [
    {
     "name": "stdout",
     "output_type": "stream",
     "text": [
      "0.719455911019\n"
     ]
    }
   ],
   "source": [
    "SKLogR(room_name_ave_two)"
   ]
  },
  {
   "cell_type": "markdown",
   "metadata": {},
   "source": [
    "\n",
    "                                        \n",
    "                                        SKLearn Log Reg - 6\n",
    "                                    \n",
    "                                 'Ave_Hour_Count_Adjusted, 'Hour'\n",
    "             \n",
    "                                            ave_5\n",
    "                                            ave_3\n",
    "                                            ave_2\n",
    "                                            \n",
    "                                           NOT ROOM"
   ]
  },
  {
   "cell_type": "code",
   "execution_count": 93,
   "metadata": {
    "collapsed": false
   },
   "outputs": [
    {
     "name": "stdout",
     "output_type": "stream",
     "text": [
      "0.511231510148\n"
     ]
    }
   ],
   "source": [
    "SKLogR(hour_ave_five)"
   ]
  },
  {
   "cell_type": "code",
   "execution_count": 94,
   "metadata": {
    "collapsed": false
   },
   "outputs": [
    {
     "name": "stdout",
     "output_type": "stream",
     "text": [
      "0.67769464511\n"
     ]
    }
   ],
   "source": [
    "SKLogR(hour_ave_three)"
   ]
  },
  {
   "cell_type": "code",
   "execution_count": 95,
   "metadata": {
    "collapsed": false
   },
   "outputs": [
    {
     "name": "stdout",
     "output_type": "stream",
     "text": [
      "0.719455911019\n"
     ]
    }
   ],
   "source": [
    "SKLogR(hour_ave_two)"
   ]
  },
  {
   "cell_type": "code",
   "execution_count": null,
   "metadata": {
    "collapsed": true
   },
   "outputs": [],
   "source": []
  },
  {
   "cell_type": "markdown",
   "metadata": {},
   "source": [
    "\n",
    "                                        \n",
    "                                        SKLearn Log Reg - 7\n",
    "                                    \n",
    "                                           'Ave60'\n",
    "             \n",
    "                                              5\n",
    "                                              3\n",
    "                                              2"
   ]
  },
  {
   "cell_type": "code",
   "execution_count": 96,
   "metadata": {
    "collapsed": false
   },
   "outputs": [
    {
     "name": "stdout",
     "output_type": "stream",
     "text": [
      "0.552549879601\n"
     ]
    }
   ],
   "source": [
    "SKLogR(ave_60_5)"
   ]
  },
  {
   "cell_type": "code",
   "execution_count": 97,
   "metadata": {
    "collapsed": false
   },
   "outputs": [
    {
     "name": "stdout",
     "output_type": "stream",
     "text": [
      "0.750771127164\n"
     ]
    }
   ],
   "source": [
    "SKLogR(ave_60_3)"
   ]
  },
  {
   "cell_type": "code",
   "execution_count": 98,
   "metadata": {
    "collapsed": false
   },
   "outputs": [
    {
     "name": "stdout",
     "output_type": "stream",
     "text": [
      "0.820261437908\n"
     ]
    }
   ],
   "source": [
    "SKLogR(ave_60_2)"
   ]
  },
  {
   "cell_type": "markdown",
   "metadata": {},
   "source": [
    "\n",
    "                                        \n",
    "                                        SKLearn Log Reg - 8\n",
    "                                    \n",
    "                                           'Ave30'\n",
    "             \n",
    "                                              5\n",
    "                                              3\n",
    "                                              2\n",
    "                                              \n",
    "                                             BEST"
   ]
  },
  {
   "cell_type": "code",
   "execution_count": 110,
   "metadata": {
    "collapsed": false
   },
   "outputs": [
    {
     "name": "stdout",
     "output_type": "stream",
     "text": [
      "0.571584393992\n"
     ]
    }
   ],
   "source": [
    "binarylog = SKLogR(ave_30_5)"
   ]
  },
  {
   "cell_type": "code",
   "execution_count": 100,
   "metadata": {
    "collapsed": false
   },
   "outputs": [
    {
     "name": "stdout",
     "output_type": "stream",
     "text": [
      "0.760278351107\n"
     ]
    }
   ],
   "source": [
    "SKLogR(ave_30_3)"
   ]
  },
  {
   "cell_type": "code",
   "execution_count": 101,
   "metadata": {
    "collapsed": false
   },
   "outputs": [
    {
     "name": "stdout",
     "output_type": "stream",
     "text": [
      "0.810973512212\n"
     ]
    }
   ],
   "source": [
    "SKLogR(ave_30_2)"
   ]
  },
  {
   "cell_type": "markdown",
   "metadata": {},
   "source": [
    "\n",
    "                                        \n",
    "                                        SKLearn Log Reg - 9\n",
    "                                    \n",
    "                                          'Adj_ave_60'\n",
    "             \n",
    "                                              5\n",
    "                                              3\n",
    "                                              2"
   ]
  },
  {
   "cell_type": "code",
   "execution_count": 102,
   "metadata": {
    "collapsed": false
   },
   "outputs": [
    {
     "name": "stdout",
     "output_type": "stream",
     "text": [
      "0.575861426442\n"
     ]
    }
   ],
   "source": [
    "SKLogR(ave_adj_60_5)"
   ]
  },
  {
   "cell_type": "code",
   "execution_count": 109,
   "metadata": {
    "collapsed": false
   },
   "outputs": [
    {
     "name": "stdout",
     "output_type": "stream",
     "text": [
      "0.635182318541\n"
     ]
    },
    {
     "data": {
      "text/plain": [
       "LogisticRegression(C=1.0, class_weight=None, dual=False, fit_intercept=True,\n",
       "          intercept_scaling=1, max_iter=100, multi_class='ovr', n_jobs=1,\n",
       "          penalty='l2', random_state=None, solver='liblinear', tol=0.0001,\n",
       "          verbose=0, warm_start=False)"
      ]
     },
     "execution_count": 109,
     "metadata": {},
     "output_type": "execute_result"
    }
   ],
   "source": [
    "SKLogR(ave_adj_60_3)"
   ]
  },
  {
   "cell_type": "code",
   "execution_count": 104,
   "metadata": {
    "collapsed": false
   },
   "outputs": [
    {
     "name": "stdout",
     "output_type": "stream",
     "text": [
      "0.738820089439\n"
     ]
    }
   ],
   "source": [
    "SKLogR(ave_adj_60_2)"
   ]
  },
  {
   "cell_type": "markdown",
   "metadata": {},
   "source": [
    "\n",
    "                                        \n",
    "                                        SKLearn Log Reg - 10\n",
    "                                    \n",
    "                                          'Adj_ave_30'\n",
    "             \n",
    "                                              5\n",
    "                                              3\n",
    "                                              2"
   ]
  },
  {
   "cell_type": "code",
   "execution_count": 105,
   "metadata": {
    "collapsed": false
   },
   "outputs": [
    {
     "name": "stdout",
     "output_type": "stream",
     "text": [
      "0.59928620571\n"
     ]
    }
   ],
   "source": [
    "SKLogR(ave_adj_30_5)"
   ]
  },
  {
   "cell_type": "code",
   "execution_count": 106,
   "metadata": {
    "collapsed": false
   },
   "outputs": [
    {
     "name": "stdout",
     "output_type": "stream",
     "text": [
      "0.654790161679\n"
     ]
    }
   ],
   "source": [
    "SKLogR(ave_adj_30_3)"
   ]
  },
  {
   "cell_type": "code",
   "execution_count": 107,
   "metadata": {
    "collapsed": false
   },
   "outputs": [
    {
     "name": "stdout",
     "output_type": "stream",
     "text": [
      "0.760477582846\n"
     ]
    }
   ],
   "source": [
    "SKLogR(ave_adj_30_2)"
   ]
  },
  {
   "cell_type": "markdown",
   "metadata": {},
   "source": [
    "                                    \n",
    "                                    how the fuck do i put this in?\n",
    "                                    "
   ]
  },
  {
   "cell_type": "code",
   "execution_count": 114,
   "metadata": {
    "collapsed": false
   },
   "outputs": [
    {
     "data": {
      "text/plain": [
       "{'C': 1.0,\n",
       " 'class_weight': None,\n",
       " 'dual': False,\n",
       " 'fit_intercept': True,\n",
       " 'intercept_scaling': 1,\n",
       " 'max_iter': 100,\n",
       " 'multi_class': 'ovr',\n",
       " 'n_jobs': 1,\n",
       " 'penalty': 'l2',\n",
       " 'random_state': None,\n",
       " 'solver': 'liblinear',\n",
       " 'tol': 0.0001,\n",
       " 'verbose': 0,\n",
       " 'warm_start': False}"
      ]
     },
     "execution_count": 114,
     "metadata": {},
     "output_type": "execute_result"
    }
   ],
   "source": [
    "binarylog.get_params()"
   ]
  }
 ],
 "metadata": {
  "kernelspec": {
   "display_name": "Python 3",
   "language": "python",
   "name": "python3"
  },
  "language_info": {
   "codemirror_mode": {
    "name": "ipython",
    "version": 3
   },
   "file_extension": ".py",
   "mimetype": "text/x-python",
   "name": "python",
   "nbconvert_exporter": "python",
   "pygments_lexer": "ipython3",
   "version": "3.5.1"
  }
 },
 "nbformat": 4,
 "nbformat_minor": 0
}
