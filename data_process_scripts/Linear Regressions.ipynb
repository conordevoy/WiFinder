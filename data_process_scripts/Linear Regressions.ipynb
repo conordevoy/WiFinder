{
 "cells": [
  {
   "cell_type": "code",
   "execution_count": 1,
   "metadata": {
    "collapsed": true
   },
   "outputs": [],
   "source": [
    "import os\n",
    "import pandas as pd\n",
    "import numpy as np\n",
    "import matplotlib.pyplot as plt\n",
    "import statsmodels.formula.api as sm\n",
    "import statsmodels\n",
    "from patsy import dmatrices\n",
    "from sklearn.linear_model import LogisticRegression\n",
    "from sklearn.cross_validation import train_test_split\n",
    "from sklearn import metrics\n",
    "from sklearn.cross_validation import cross_val_score\n",
    "%matplotlib inline"
   ]
  },
  {
   "cell_type": "code",
   "execution_count": 2,
   "metadata": {
    "collapsed": false,
    "scrolled": true
   },
   "outputs": [
    {
     "data": {
      "text/html": [
       "<div>\n",
       "<table border=\"1\" class=\"dataframe\">\n",
       "  <thead>\n",
       "    <tr style=\"text-align: right;\">\n",
       "      <th></th>\n",
       "      <th>Room_Capacity</th>\n",
       "      <th>Module</th>\n",
       "      <th>Registered_Students</th>\n",
       "      <th>Hour</th>\n",
       "      <th>Date</th>\n",
       "      <th>Room</th>\n",
       "      <th>Occupancy</th>\n",
       "      <th>Avg_Count_60min</th>\n",
       "      <th>Avg_Count_30min</th>\n",
       "      <th>Avg_Adj_Count_60min</th>\n",
       "      <th>Avg_Adj_Count_30min</th>\n",
       "    </tr>\n",
       "  </thead>\n",
       "  <tbody>\n",
       "    <tr>\n",
       "      <th>0</th>\n",
       "      <td>90</td>\n",
       "      <td>Vacant</td>\n",
       "      <td>-1</td>\n",
       "      <td>9</td>\n",
       "      <td>2015-11-03</td>\n",
       "      <td>B002</td>\n",
       "      <td>0.0</td>\n",
       "      <td>4.750000</td>\n",
       "      <td>2.000000</td>\n",
       "      <td>0.052778</td>\n",
       "      <td>0.022222</td>\n",
       "    </tr>\n",
       "    <tr>\n",
       "      <th>1</th>\n",
       "      <td>90</td>\n",
       "      <td>COMP30110</td>\n",
       "      <td>45</td>\n",
       "      <td>10</td>\n",
       "      <td>2015-11-03</td>\n",
       "      <td>B002</td>\n",
       "      <td>0.5</td>\n",
       "      <td>29.272727</td>\n",
       "      <td>29.000000</td>\n",
       "      <td>0.325253</td>\n",
       "      <td>0.322222</td>\n",
       "    </tr>\n",
       "    <tr>\n",
       "      <th>2</th>\n",
       "      <td>90</td>\n",
       "      <td>COMP30260</td>\n",
       "      <td>18</td>\n",
       "      <td>11</td>\n",
       "      <td>2015-11-03</td>\n",
       "      <td>B002</td>\n",
       "      <td>0.5</td>\n",
       "      <td>28.727273</td>\n",
       "      <td>27.250000</td>\n",
       "      <td>0.319192</td>\n",
       "      <td>0.302778</td>\n",
       "    </tr>\n",
       "    <tr>\n",
       "      <th>3</th>\n",
       "      <td>90</td>\n",
       "      <td>COMP40370</td>\n",
       "      <td>27</td>\n",
       "      <td>12</td>\n",
       "      <td>2015-11-03</td>\n",
       "      <td>B002</td>\n",
       "      <td>0.5</td>\n",
       "      <td>14.166667</td>\n",
       "      <td>10.000000</td>\n",
       "      <td>0.157407</td>\n",
       "      <td>0.111111</td>\n",
       "    </tr>\n",
       "    <tr>\n",
       "      <th>4</th>\n",
       "      <td>90</td>\n",
       "      <td>Vacant</td>\n",
       "      <td>-1</td>\n",
       "      <td>13</td>\n",
       "      <td>2015-11-03</td>\n",
       "      <td>B002</td>\n",
       "      <td>0.0</td>\n",
       "      <td>14.250000</td>\n",
       "      <td>13.333333</td>\n",
       "      <td>0.158333</td>\n",
       "      <td>0.148148</td>\n",
       "    </tr>\n",
       "  </tbody>\n",
       "</table>\n",
       "</div>"
      ],
      "text/plain": [
       "   Room_Capacity     Module  Registered_Students  Hour        Date  Room  \\\n",
       "0             90     Vacant                   -1     9  2015-11-03  B002   \n",
       "1             90  COMP30110                   45    10  2015-11-03  B002   \n",
       "2             90  COMP30260                   18    11  2015-11-03  B002   \n",
       "3             90  COMP40370                   27    12  2015-11-03  B002   \n",
       "4             90     Vacant                   -1    13  2015-11-03  B002   \n",
       "\n",
       "   Occupancy  Avg_Count_60min  Avg_Count_30min  Avg_Adj_Count_60min  \\\n",
       "0        0.0         4.750000         2.000000             0.052778   \n",
       "1        0.5        29.272727        29.000000             0.325253   \n",
       "2        0.5        28.727273        27.250000             0.319192   \n",
       "3        0.5        14.166667        10.000000             0.157407   \n",
       "4        0.0        14.250000        13.333333             0.158333   \n",
       "\n",
       "   Avg_Adj_Count_30min  \n",
       "0             0.022222  \n",
       "1             0.322222  \n",
       "2             0.302778  \n",
       "3             0.111111  \n",
       "4             0.148148  "
      ]
     },
     "execution_count": 2,
     "metadata": {},
     "output_type": "execute_result"
    }
   ],
   "source": [
    "os.chdir('/home/mike/PycharmProjects/WiFinder/Data/final_csvs')\n",
    "\n",
    "df = pd.read_csv('ABT.csv')"
   ]
  },
  {
   "cell_type": "markdown",
   "metadata": {},
   "source": [
    "\n",
    "    Deriving features:\n",
    "\n",
    "    Occupancy count * Room Capacity: To give approximate number of students in classroom\n",
    "\n"
   ]
  },
  {
   "cell_type": "code",
   "execution_count": 4,
   "metadata": {
    "collapsed": true
   },
   "outputs": [],
   "source": [
    "# create new feature:\n",
    "# proportion of associated count connections to room capacity\n",
    "\n",
    "df['Room_Survey_Headcount_Estimate'] = 0.0\n",
    "\n",
    "for row in range(df.shape[0]):\n",
    "    survey = df.columns.get_loc('Occupancy')\n",
    "    room_cap = df.columns.get_loc('Room_Capacity')\n",
    "    headcount_col = df.columns.get_loc('Room_Survey_Headcount_Estimate')\n",
    "\n",
    "    headcount_estimate = (df.iat[row, survey] * df.iat[row, room_cap])\n",
    "    df.iat[row, headcount_col] = headcount_estimate"
   ]
  },
  {
   "cell_type": "markdown",
   "metadata": {},
   "source": [
    "                    \n",
    "                                         Linear Regressions 1\n",
    "                                          \n",
    "                                          Predict: Occupancy\n",
    "                                          \n",
    "                                          \n",
    "                                              Features:\n",
    "                                              \n",
    "                                      Average Count over 60 minutes\n",
    "                                      Average Count over 30 minutes\n",
    "                                 Adjusted Average Count over 60 minutes\n",
    "                                 Adjusted Average Count over 30 minutes\n",
    "                                          "
   ]
  },
  {
   "cell_type": "code",
   "execution_count": 5,
   "metadata": {
    "collapsed": false
   },
   "outputs": [
    {
     "name": "stdout",
     "output_type": "stream",
     "text": [
      "                            OLS Regression Results                            \n",
      "==============================================================================\n",
      "Dep. Variable:              Occupancy   R-squared:                       0.357\n",
      "Model:                            OLS   Adj. R-squared:                  0.353\n",
      "Method:                 Least Squares   F-statistic:                     118.6\n",
      "Date:                Fri, 29 Jul 2016   Prob (F-statistic):           2.96e-22\n",
      "Time:                        13:38:47   Log-Likelihood:                 70.305\n",
      "No. Observations:                 216   AIC:                            -136.6\n",
      "Df Residuals:                     214   BIC:                            -129.9\n",
      "Df Model:                           1                                         \n",
      "Covariance Type:            nonrobust                                         \n",
      "===================================================================================\n",
      "                      coef    std err          t      P>|t|      [95.0% Conf. Int.]\n",
      "-----------------------------------------------------------------------------------\n",
      "Intercept           0.1040      0.018      5.794      0.000         0.069     0.139\n",
      "Avg_Count_60min     0.0048      0.000     10.889      0.000         0.004     0.006\n",
      "==============================================================================\n",
      "Omnibus:                       12.640   Durbin-Watson:                   1.555\n",
      "Prob(Omnibus):                  0.002   Jarque-Bera (JB):               13.307\n",
      "Skew:                           0.540   Prob(JB):                      0.00129\n",
      "Kurtosis:                       3.557   Cond. No.                         61.1\n",
      "==============================================================================\n",
      "\n",
      "Warnings:\n",
      "[1] Standard Errors assume that the covariance matrix of the errors is correctly specified.\n"
     ]
    }
   ],
   "source": [
    "lm = sm.ols(formula=\"Occupancy ~ Avg_Count_60min\", data=df).fit()\n",
    "\n",
    "print(lm.summary())"
   ]
  },
  {
   "cell_type": "code",
   "execution_count": 6,
   "metadata": {
    "collapsed": false
   },
   "outputs": [
    {
     "name": "stdout",
     "output_type": "stream",
     "text": [
      "                            OLS Regression Results                            \n",
      "==============================================================================\n",
      "Dep. Variable:              Occupancy   R-squared:                       0.360\n",
      "Model:                            OLS   Adj. R-squared:                  0.357\n",
      "Method:                 Least Squares   F-statistic:                     120.3\n",
      "Date:                Fri, 29 Jul 2016   Prob (F-statistic):           1.67e-22\n",
      "Time:                        13:38:47   Log-Likelihood:                 70.878\n",
      "No. Observations:                 216   AIC:                            -137.8\n",
      "Df Residuals:                     214   BIC:                            -131.0\n",
      "Df Model:                           1                                         \n",
      "Covariance Type:            nonrobust                                         \n",
      "===================================================================================\n",
      "                      coef    std err          t      P>|t|      [95.0% Conf. Int.]\n",
      "-----------------------------------------------------------------------------------\n",
      "Intercept           0.1145      0.017      6.671      0.000         0.081     0.148\n",
      "Avg_Count_30min     0.0043      0.000     10.970      0.000         0.004     0.005\n",
      "==============================================================================\n",
      "Omnibus:                       15.364   Durbin-Watson:                   1.527\n",
      "Prob(Omnibus):                  0.000   Jarque-Bera (JB):               16.496\n",
      "Skew:                           0.639   Prob(JB):                     0.000262\n",
      "Kurtosis:                       3.445   Cond. No.                         63.5\n",
      "==============================================================================\n",
      "\n",
      "Warnings:\n",
      "[1] Standard Errors assume that the covariance matrix of the errors is correctly specified.\n"
     ]
    }
   ],
   "source": [
    "lm = sm.ols(formula=\"Occupancy ~ Avg_Count_30min\", data=df).fit()\n",
    "\n",
    "print(lm.summary())"
   ]
  },
  {
   "cell_type": "code",
   "execution_count": 7,
   "metadata": {
    "collapsed": false
   },
   "outputs": [
    {
     "name": "stdout",
     "output_type": "stream",
     "text": [
      "                            OLS Regression Results                            \n",
      "==============================================================================\n",
      "Dep. Variable:              Occupancy   R-squared:                       0.463\n",
      "Model:                            OLS   Adj. R-squared:                  0.460\n",
      "Method:                 Least Squares   F-statistic:                     184.2\n",
      "Date:                Fri, 29 Jul 2016   Prob (F-statistic):           1.10e-30\n",
      "Time:                        13:38:47   Log-Likelihood:                 89.766\n",
      "No. Observations:                 216   AIC:                            -175.5\n",
      "Df Residuals:                     214   BIC:                            -168.8\n",
      "Df Model:                           1                                         \n",
      "Covariance Type:            nonrobust                                         \n",
      "=======================================================================================\n",
      "                          coef    std err          t      P>|t|      [95.0% Conf. Int.]\n",
      "---------------------------------------------------------------------------------------\n",
      "Intercept               0.0580      0.018      3.245      0.001         0.023     0.093\n",
      "Avg_Adj_Count_60min     0.7905      0.058     13.573      0.000         0.676     0.905\n",
      "==============================================================================\n",
      "Omnibus:                       14.489   Durbin-Watson:                   1.714\n",
      "Prob(Omnibus):                  0.001   Jarque-Bera (JB):               16.710\n",
      "Skew:                           0.535   Prob(JB):                     0.000235\n",
      "Kurtosis:                       3.845   Cond. No.                         5.66\n",
      "==============================================================================\n",
      "\n",
      "Warnings:\n",
      "[1] Standard Errors assume that the covariance matrix of the errors is correctly specified.\n"
     ]
    }
   ],
   "source": [
    "lm = sm.ols(formula=\"Occupancy ~ Avg_Adj_Count_60min\", data=df).fit()\n",
    "\n",
    "print(lm.summary())"
   ]
  },
  {
   "cell_type": "code",
   "execution_count": 8,
   "metadata": {
    "collapsed": false
   },
   "outputs": [
    {
     "name": "stdout",
     "output_type": "stream",
     "text": [
      "                            OLS Regression Results                            \n",
      "==============================================================================\n",
      "Dep. Variable:              Occupancy   R-squared:                       0.483\n",
      "Model:                            OLS   Adj. R-squared:                  0.481\n",
      "Method:                 Least Squares   F-statistic:                     199.9\n",
      "Date:                Fri, 29 Jul 2016   Prob (F-statistic):           1.75e-32\n",
      "Time:                        13:38:47   Log-Likelihood:                 93.926\n",
      "No. Observations:                 216   AIC:                            -183.9\n",
      "Df Residuals:                     214   BIC:                            -177.1\n",
      "Df Model:                           1                                         \n",
      "Covariance Type:            nonrobust                                         \n",
      "=======================================================================================\n",
      "                          coef    std err          t      P>|t|      [95.0% Conf. Int.]\n",
      "---------------------------------------------------------------------------------------\n",
      "Intercept               0.0657      0.017      3.891      0.000         0.032     0.099\n",
      "Avg_Adj_Count_30min     0.7384      0.052     14.137      0.000         0.635     0.841\n",
      "==============================================================================\n",
      "Omnibus:                       20.131   Durbin-Watson:                   1.774\n",
      "Prob(Omnibus):                  0.000   Jarque-Bera (JB):               26.889\n",
      "Skew:                           0.619   Prob(JB):                     1.45e-06\n",
      "Kurtosis:                       4.207   Cond. No.                         5.19\n",
      "==============================================================================\n",
      "\n",
      "Warnings:\n",
      "[1] Standard Errors assume that the covariance matrix of the errors is correctly specified.\n"
     ]
    }
   ],
   "source": [
    "lm = sm.ols(formula=\"Occupancy ~ Avg_Adj_Count_30min\", data=df).fit()\n",
    "\n",
    "print(lm.summary())"
   ]
  },
  {
   "cell_type": "markdown",
   "metadata": {},
   "source": [
    "                    \n",
    "                                         Linear Regressions 2\n",
    "                                         \n",
    "                            Adjusted30min is the highest scoring on Occupancy.\n",
    "\n",
    "                                          Predict: Occupancy\n",
    "                                          \n",
    "                                              Features:\n",
    "                                              \n",
    "                                      Average Count over 60 minutes\n",
    "                                      Average Count over 30 minutes\n",
    "                                 Adjusted Average Count over 60 minutes\n",
    "                                 Adjusted Average Count over 30 minutes\n",
    "                                                                 "
   ]
  },
  {
   "cell_type": "code",
   "execution_count": 9,
   "metadata": {
    "collapsed": false
   },
   "outputs": [
    {
     "name": "stdout",
     "output_type": "stream",
     "text": [
      "                                  OLS Regression Results                                  \n",
      "==========================================================================================\n",
      "Dep. Variable:     Room_Survey_Headcount_Estimate   R-squared:                       0.554\n",
      "Model:                                        OLS   Adj. R-squared:                  0.552\n",
      "Method:                             Least Squares   F-statistic:                     265.6\n",
      "Date:                            Fri, 29 Jul 2016   Prob (F-statistic):           2.29e-39\n",
      "Time:                                    13:38:47   Log-Likelihood:                -984.63\n",
      "No. Observations:                             216   AIC:                             1973.\n",
      "Df Residuals:                                 214   BIC:                             1980.\n",
      "Df Model:                                       1                                         \n",
      "Covariance Type:                        nonrobust                                         \n",
      "===================================================================================\n",
      "                      coef    std err          t      P>|t|      [95.0% Conf. Int.]\n",
      "-----------------------------------------------------------------------------------\n",
      "Intercept           3.8567      2.373      1.625      0.106        -0.821     8.534\n",
      "Avg_Count_60min     0.9520      0.058     16.299      0.000         0.837     1.067\n",
      "==============================================================================\n",
      "Omnibus:                       39.686   Durbin-Watson:                   1.646\n",
      "Prob(Omnibus):                  0.000   Jarque-Bera (JB):               93.976\n",
      "Skew:                           0.831   Prob(JB):                     3.92e-21\n",
      "Kurtosis:                       5.771   Cond. No.                         61.1\n",
      "==============================================================================\n",
      "\n",
      "Warnings:\n",
      "[1] Standard Errors assume that the covariance matrix of the errors is correctly specified.\n"
     ]
    }
   ],
   "source": [
    "lm = sm.ols(formula=\"Room_Survey_Headcount_Estimate ~ Avg_Count_60min\", data=df).fit()\n",
    "\n",
    "print(lm.summary())"
   ]
  },
  {
   "cell_type": "code",
   "execution_count": 10,
   "metadata": {
    "collapsed": false
   },
   "outputs": [
    {
     "name": "stdout",
     "output_type": "stream",
     "text": [
      "                                  OLS Regression Results                                  \n",
      "==========================================================================================\n",
      "Dep. Variable:     Room_Survey_Headcount_Estimate   R-squared:                       0.586\n",
      "Model:                                        OLS   Adj. R-squared:                  0.584\n",
      "Method:                             Least Squares   F-statistic:                     303.4\n",
      "Date:                            Fri, 29 Jul 2016   Prob (F-statistic):           6.74e-43\n",
      "Time:                                    13:38:47   Log-Likelihood:                -976.45\n",
      "No. Observations:                             216   AIC:                             1957.\n",
      "Df Residuals:                                 214   BIC:                             1964.\n",
      "Df Model:                                       1                                         \n",
      "Covariance Type:                        nonrobust                                         \n",
      "===================================================================================\n",
      "                      coef    std err          t      P>|t|      [95.0% Conf. Int.]\n",
      "-----------------------------------------------------------------------------------\n",
      "Intercept           5.2796      2.190      2.411      0.017         0.964     9.596\n",
      "Avg_Count_30min     0.8651      0.050     17.417      0.000         0.767     0.963\n",
      "==============================================================================\n",
      "Omnibus:                       44.021   Durbin-Watson:                   1.689\n",
      "Prob(Omnibus):                  0.000   Jarque-Bera (JB):              100.040\n",
      "Skew:                           0.938   Prob(JB):                     1.89e-22\n",
      "Kurtosis:                       5.756   Cond. No.                         63.5\n",
      "==============================================================================\n",
      "\n",
      "Warnings:\n",
      "[1] Standard Errors assume that the covariance matrix of the errors is correctly specified.\n"
     ]
    }
   ],
   "source": [
    "lm = sm.ols(formula=\"Room_Survey_Headcount_Estimate ~ Avg_Count_30min\", data=df).fit()\n",
    "\n",
    "print(lm.summary())"
   ]
  },
  {
   "cell_type": "code",
   "execution_count": 11,
   "metadata": {
    "collapsed": false
   },
   "outputs": [
    {
     "name": "stdout",
     "output_type": "stream",
     "text": [
      "                                  OLS Regression Results                                  \n",
      "==========================================================================================\n",
      "Dep. Variable:     Room_Survey_Headcount_Estimate   R-squared:                       0.236\n",
      "Model:                                        OLS   Adj. R-squared:                  0.232\n",
      "Method:                             Least Squares   F-statistic:                     66.07\n",
      "Date:                            Fri, 29 Jul 2016   Prob (F-statistic):           3.47e-14\n",
      "Time:                                    13:38:47   Log-Likelihood:                -1042.7\n",
      "No. Observations:                             216   AIC:                             2089.\n",
      "Df Residuals:                                 214   BIC:                             2096.\n",
      "Df Model:                                       1                                         \n",
      "Covariance Type:                        nonrobust                                         \n",
      "=======================================================================================\n",
      "                          coef    std err          t      P>|t|      [95.0% Conf. Int.]\n",
      "---------------------------------------------------------------------------------------\n",
      "Intercept              10.9691      3.382      3.244      0.001         4.303    17.635\n",
      "Avg_Adj_Count_60min    89.5891     11.022      8.128      0.000        67.864   111.314\n",
      "==============================================================================\n",
      "Omnibus:                       72.259   Durbin-Watson:                   1.071\n",
      "Prob(Omnibus):                  0.000   Jarque-Bera (JB):              159.824\n",
      "Skew:                           1.589   Prob(JB):                     1.97e-35\n",
      "Kurtosis:                       5.768   Cond. No.                         5.66\n",
      "==============================================================================\n",
      "\n",
      "Warnings:\n",
      "[1] Standard Errors assume that the covariance matrix of the errors is correctly specified.\n"
     ]
    }
   ],
   "source": [
    "lm = sm.ols(formula=\"Room_Survey_Headcount_Estimate ~ Avg_Adj_Count_60min\", data=df).fit()\n",
    "\n",
    "print(lm.summary())"
   ]
  },
  {
   "cell_type": "code",
   "execution_count": 12,
   "metadata": {
    "collapsed": false
   },
   "outputs": [
    {
     "name": "stdout",
     "output_type": "stream",
     "text": [
      "                                  OLS Regression Results                                  \n",
      "==========================================================================================\n",
      "Dep. Variable:     Room_Survey_Headcount_Estimate   R-squared:                       0.282\n",
      "Model:                                        OLS   Adj. R-squared:                  0.278\n",
      "Method:                             Least Squares   F-statistic:                     83.88\n",
      "Date:                            Fri, 29 Jul 2016   Prob (F-statistic):           4.35e-17\n",
      "Time:                                    13:38:47   Log-Likelihood:                -1036.1\n",
      "No. Observations:                             216   AIC:                             2076.\n",
      "Df Residuals:                                 214   BIC:                             2083.\n",
      "Df Model:                                       1                                         \n",
      "Covariance Type:                        nonrobust                                         \n",
      "=======================================================================================\n",
      "                          coef    std err          t      P>|t|      [95.0% Conf. Int.]\n",
      "---------------------------------------------------------------------------------------\n",
      "Intercept              10.3914      3.156      3.292      0.001         4.170    16.613\n",
      "Avg_Adj_Count_30min    89.4855      9.771      9.158      0.000        70.226   108.745\n",
      "==============================================================================\n",
      "Omnibus:                       64.807   Durbin-Watson:                   1.105\n",
      "Prob(Omnibus):                  0.000   Jarque-Bera (JB):              129.787\n",
      "Skew:                           1.476   Prob(JB):                     6.56e-29\n",
      "Kurtosis:                       5.388   Cond. No.                         5.19\n",
      "==============================================================================\n",
      "\n",
      "Warnings:\n",
      "[1] Standard Errors assume that the covariance matrix of the errors is correctly specified.\n"
     ]
    }
   ],
   "source": [
    "lm = sm.ols(formula=\"Room_Survey_Headcount_Estimate ~ Avg_Adj_Count_30min\", data=df).fit()\n",
    "\n",
    "print(lm.summary())"
   ]
  },
  {
   "cell_type": "markdown",
   "metadata": {},
   "source": [
    "    \n",
    "                                             Linear Results 3:\n",
    "                                     \n",
    "                        Adjusted30min is the highest scoring on occupancy.\n",
    "                        Avg30min is the highest scoring on headcount_estimate.\n",
    "                              \n",
    "                       Next, we attempt normalisation to deal with outliers.\n",
    "                       We repeat the previous two winning regressions from each step.\n",
    "                       "
   ]
  },
  {
   "cell_type": "code",
   "execution_count": 13,
   "metadata": {
    "collapsed": true
   },
   "outputs": [],
   "source": [
    "df_norm = df"
   ]
  },
  {
   "cell_type": "code",
   "execution_count": 14,
   "metadata": {
    "collapsed": true
   },
   "outputs": [],
   "source": [
    "df_norm['Norm_Avg_Adj_Count_30min'] = df_norm['Avg_Adj_Count_30min']\n",
    "df_norm['Norm_Avg_Count_30min'] = df_norm['Avg_Count_30min']"
   ]
  },
  {
   "cell_type": "code",
   "execution_count": 15,
   "metadata": {
    "collapsed": true
   },
   "outputs": [],
   "source": [
    "cols_to_norm = ['Norm_Avg_Count_30min', 'Norm_Avg_Adj_Count_30min']\n",
    "df[cols_to_norm] = df[cols_to_norm].apply(lambda x: (x - x.min()) / (x.max() - x.min()))"
   ]
  },
  {
   "cell_type": "code",
   "execution_count": null,
   "metadata": {
    "collapsed": true
   },
   "outputs": [],
   "source": []
  },
  {
   "cell_type": "code",
   "execution_count": 17,
   "metadata": {
    "collapsed": false
   },
   "outputs": [
    {
     "name": "stdout",
     "output_type": "stream",
     "text": [
      "                            OLS Regression Results                            \n",
      "==============================================================================\n",
      "Dep. Variable:              Occupancy   R-squared:                       0.483\n",
      "Model:                            OLS   Adj. R-squared:                  0.481\n",
      "Method:                 Least Squares   F-statistic:                     199.9\n",
      "Date:                Fri, 29 Jul 2016   Prob (F-statistic):           1.75e-32\n",
      "Time:                        13:38:47   Log-Likelihood:                 93.926\n",
      "No. Observations:                 216   AIC:                            -183.9\n",
      "Df Residuals:                     214   BIC:                            -177.1\n",
      "Df Model:                           1                                         \n",
      "Covariance Type:            nonrobust                                         \n",
      "============================================================================================\n",
      "                               coef    std err          t      P>|t|      [95.0% Conf. Int.]\n",
      "--------------------------------------------------------------------------------------------\n",
      "Intercept                    0.0657      0.017      3.891      0.000         0.032     0.099\n",
      "Norm_Avg_Adj_Count_30min     0.7613      0.054     14.137      0.000         0.655     0.867\n",
      "==============================================================================\n",
      "Omnibus:                       20.131   Durbin-Watson:                   1.774\n",
      "Prob(Omnibus):                  0.000   Jarque-Bera (JB):               26.889\n",
      "Skew:                           0.619   Prob(JB):                     1.45e-06\n",
      "Kurtosis:                       4.207   Cond. No.                         5.34\n",
      "==============================================================================\n",
      "\n",
      "Warnings:\n",
      "[1] Standard Errors assume that the covariance matrix of the errors is correctly specified.\n"
     ]
    }
   ],
   "source": [
    "# OLS with normalised adjusted 30minute count, predicting occupancy\n",
    "\n",
    "lm = sm.ols(formula=\"Occupancy ~ Norm_Avg_Adj_Count_30min\", data=df).fit()\n",
    "\n",
    "print(lm.summary())"
   ]
  },
  {
   "cell_type": "code",
   "execution_count": 18,
   "metadata": {
    "collapsed": false
   },
   "outputs": [
    {
     "name": "stdout",
     "output_type": "stream",
     "text": [
      "                                  OLS Regression Results                                  \n",
      "==========================================================================================\n",
      "Dep. Variable:     Room_Survey_Headcount_Estimate   R-squared:                       0.586\n",
      "Model:                                        OLS   Adj. R-squared:                  0.584\n",
      "Method:                             Least Squares   F-statistic:                     303.4\n",
      "Date:                            Fri, 29 Jul 2016   Prob (F-statistic):           6.74e-43\n",
      "Time:                                    13:38:47   Log-Likelihood:                -976.45\n",
      "No. Observations:                             216   AIC:                             1957.\n",
      "Df Residuals:                                 214   BIC:                             1964.\n",
      "Df Model:                                       1                                         \n",
      "Covariance Type:                        nonrobust                                         \n",
      "========================================================================================\n",
      "                           coef    std err          t      P>|t|      [95.0% Conf. Int.]\n",
      "----------------------------------------------------------------------------------------\n",
      "Intercept                5.2796      2.190      2.411      0.017         0.964     9.596\n",
      "Norm_Avg_Count_30min   196.2326     11.266     17.417      0.000       174.025   218.440\n",
      "==============================================================================\n",
      "Omnibus:                       44.021   Durbin-Watson:                   1.689\n",
      "Prob(Omnibus):                  0.000   Jarque-Bera (JB):              100.040\n",
      "Skew:                           0.938   Prob(JB):                     1.89e-22\n",
      "Kurtosis:                       5.756   Cond. No.                         7.56\n",
      "==============================================================================\n",
      "\n",
      "Warnings:\n",
      "[1] Standard Errors assume that the covariance matrix of the errors is correctly specified.\n"
     ]
    }
   ],
   "source": [
    "# OLS with normalised 30minute count, predicting headcount\n",
    "\n",
    "lm = sm.ols(formula=\"Room_Survey_Headcount_Estimate ~ Norm_Avg_Count_30min\", data=df).fit()\n",
    "\n",
    "print(lm.summary())"
   ]
  },
  {
   "cell_type": "code",
   "execution_count": 19,
   "metadata": {
    "collapsed": false
   },
   "outputs": [],
   "source": [
    "test_residuals = lm.resid"
   ]
  },
  {
   "cell_type": "code",
   "execution_count": 22,
   "metadata": {
    "collapsed": false
   },
   "outputs": [
    {
     "data": {
      "text/plain": [
       "<matplotlib.axes._subplots.AxesSubplot at 0x7fd965ed90f0>"
      ]
     },
     "execution_count": 22,
     "metadata": {},
     "output_type": "execute_result"
    },
    {
     "data": {
      "image/png": "[encoded data removed]",
      "text/plain": [
       "<matplotlib.figure.Figure at 0x7fd965ed9cf8>"
      ]
     },
     "metadata": {},
     "output_type": "display_data"
    }
   ],
   "source": [
    "# plot residuals\n",
    "\n",
    "lm.resid.plot()"
   ]
  },
  {
   "cell_type": "code",
   "execution_count": null,
   "metadata": {
    "collapsed": true
   },
   "outputs": [],
   "source": [
    "# residuals are significantly peaked, especially at the higher end of the occupancy scale"
   ]
  },
  {
   "cell_type": "markdown",
   "metadata": {},
   "source": [
    "test fitting residual series to model and then removing >3 sd instances and replotting residuals."
   ]
  },
  {
   "cell_type": "code",
   "execution_count": 55,
   "metadata": {
    "collapsed": true
   },
   "outputs": [],
   "source": [
    "test_residuals = df"
   ]
  },
  {
   "cell_type": "code",
   "execution_count": 27,
   "metadata": {
    "collapsed": false
   },
   "outputs": [
    {
     "name": "stdout",
     "output_type": "stream",
     "text": [
      "                                  OLS Regression Results                                  \n",
      "==========================================================================================\n",
      "Dep. Variable:     Room_Survey_Headcount_Estimate   R-squared:                       0.586\n",
      "Model:                                        OLS   Adj. R-squared:                  0.584\n",
      "Method:                             Least Squares   F-statistic:                     303.4\n",
      "Date:                            Fri, 29 Jul 2016   Prob (F-statistic):           6.74e-43\n",
      "Time:                                    13:53:53   Log-Likelihood:                -976.45\n",
      "No. Observations:                             216   AIC:                             1957.\n",
      "Df Residuals:                                 214   BIC:                             1964.\n",
      "Df Model:                                       1                                         \n",
      "Covariance Type:                        nonrobust                                         \n",
      "========================================================================================\n",
      "                           coef    std err          t      P>|t|      [95.0% Conf. Int.]\n",
      "----------------------------------------------------------------------------------------\n",
      "Intercept                5.2796      2.190      2.411      0.017         0.964     9.596\n",
      "Norm_Avg_Count_30min   196.2326     11.266     17.417      0.000       174.025   218.440\n",
      "==============================================================================\n",
      "Omnibus:                       44.021   Durbin-Watson:                   1.689\n",
      "Prob(Omnibus):                  0.000   Jarque-Bera (JB):              100.040\n",
      "Skew:                           0.938   Prob(JB):                     1.89e-22\n",
      "Kurtosis:                       5.756   Cond. No.                         7.56\n",
      "==============================================================================\n",
      "\n",
      "Warnings:\n",
      "[1] Standard Errors assume that the covariance matrix of the errors is correctly specified.\n"
     ]
    }
   ],
   "source": [
    "# plot best model - predict headcount from 30min average associated count\n",
    "\n",
    "lm = sm.ols(formula=\"Room_Survey_Headcount_Estimate ~ Norm_Avg_Count_30min\", data=test_residuals).fit()\n",
    "\n",
    "print(lm.summary())"
   ]
  },
  {
   "cell_type": "code",
   "execution_count": 28,
   "metadata": {
    "collapsed": false,
    "scrolled": true
   },
   "outputs": [
    {
     "data": {
      "text/plain": [
       "0       -7.009762\n",
       "1       14.632647\n",
       "2       16.146565\n",
       "3       31.069471\n",
       "4      -16.814183\n",
       "5       20.695823\n",
       "6      -13.750006\n",
       "7      -17.037370\n",
       "8        5.109087\n",
       "9        4.964904\n",
       "10      10.299663\n",
       "11       8.360701\n",
       "12     -24.600047\n",
       "13      -3.686056\n",
       "14      -9.749232\n",
       "15      -0.081489\n",
       "16      -7.153944\n",
       "17      11.028080\n",
       "18     -10.174276\n",
       "19      -0.773566\n",
       "20       8.569471\n",
       "21      -8.299901\n",
       "22      -4.399465\n",
       "23     -31.751507\n",
       "24      -7.528819\n",
       "25      -8.307406\n",
       "26       2.513799\n",
       "27       4.820721\n",
       "28       8.742490\n",
       "29     -13.202112\n",
       "          ...    \n",
       "186    -10.547923\n",
       "187    -29.291669\n",
       "188      0.842507\n",
       "189     43.298616\n",
       "190     -7.202885\n",
       "191     -6.288848\n",
       "192    -26.330238\n",
       "193     -6.490704\n",
       "194      5.456353\n",
       "195    -12.133932\n",
       "196    -11.479424\n",
       "197    -16.006760\n",
       "198    -37.115102\n",
       "199     -7.153944\n",
       "200     25.996696\n",
       "201     73.230937\n",
       "202     -9.971192\n",
       "203      4.447074\n",
       "204     30.754724\n",
       "205     59.562420\n",
       "206     49.432065\n",
       "207    -54.734223\n",
       "208     -9.028319\n",
       "209    -54.734223\n",
       "210    -34.837016\n",
       "211     -9.605050\n",
       "212    -23.446585\n",
       "213      3.504201\n",
       "214    101.260046\n",
       "215     -5.423752\n",
       "dtype: float64"
      ]
     },
     "execution_count": 28,
     "metadata": {},
     "output_type": "execute_result"
    }
   ],
   "source": [
    "# get the residual series\n",
    "\n",
    "lm.resid"
   ]
  },
  {
   "cell_type": "code",
   "execution_count": 29,
   "metadata": {
    "collapsed": true
   },
   "outputs": [],
   "source": [
    "# add to df as a new column\n",
    "\n",
    "test_residuals['residuals'] = lm.resid"
   ]
  },
  {
   "cell_type": "code",
   "execution_count": 161,
   "metadata": {
    "collapsed": false
   },
   "outputs": [],
   "source": [
    "# remove those values outside of 1.5 standard deviations from the mean residual\n",
    "# this removes 26 observations\n",
    "\n",
    "df_3std = test_residuals[((test_residuals.residuals - test_residuals.residuals.mean()) / test_residuals.residuals.std()).abs() < 1.5]"
   ]
  },
  {
   "cell_type": "code",
   "execution_count": 162,
   "metadata": {
    "collapsed": false
   },
   "outputs": [
    {
     "data": {
      "image/png": "[encoded data removed]",
      "text/plain": [
       "<matplotlib.figure.Figure at 0x7fd96595b828>"
      ]
     },
     "metadata": {},
     "output_type": "display_data"
    }
   ],
   "source": [
    "# visualise changes\n",
    "\n",
    "df_3std.plot(kind='scatter', x='Avg_Count_30min', y='Occupancy');"
   ]
  },
  {
   "cell_type": "code",
   "execution_count": 164,
   "metadata": {
    "collapsed": false
   },
   "outputs": [
    {
     "name": "stdout",
     "output_type": "stream",
     "text": [
      "                                  OLS Regression Results                                  \n",
      "==========================================================================================\n",
      "Dep. Variable:     Room_Survey_Headcount_Estimate   R-squared:                       0.815\n",
      "Model:                                        OLS   Adj. R-squared:                  0.814\n",
      "Method:                             Least Squares   F-statistic:                     830.4\n",
      "Date:                            Fri, 29 Jul 2016   Prob (F-statistic):           6.84e-71\n",
      "Time:                                    14:46:19   Log-Likelihood:                -752.66\n",
      "No. Observations:                             190   AIC:                             1509.\n",
      "Df Residuals:                                 188   BIC:                             1516.\n",
      "Df Model:                                       1                                         \n",
      "Covariance Type:                        nonrobust                                         \n",
      "===================================================================================\n",
      "                      coef    std err          t      P>|t|      [95.0% Conf. Int.]\n",
      "-----------------------------------------------------------------------------------\n",
      "Intercept           0.7103      1.319      0.539      0.591        -1.892     3.312\n",
      "Avg_Count_30min     0.9334      0.032     28.816      0.000         0.870     0.997\n",
      "==============================================================================\n",
      "Omnibus:                        4.081   Durbin-Watson:                   1.828\n",
      "Prob(Omnibus):                  0.130   Jarque-Bera (JB):                4.060\n",
      "Skew:                           0.320   Prob(JB):                        0.131\n",
      "Kurtosis:                       2.678   Cond. No.                         58.0\n",
      "==============================================================================\n",
      "\n",
      "Warnings:\n",
      "[1] Standard Errors assume that the covariance matrix of the errors is correctly specified.\n"
     ]
    }
   ],
   "source": [
    "# refit model without the possible outliers\n",
    "# r^2 is significantly improved\n",
    "\n",
    "lm = sm.ols(formula=\"Room_Survey_Headcount_Estimate ~ Avg_Count_30min\", data=df_3std).fit()\n",
    "\n",
    "print(lm.summary())"
   ]
  },
  {
   "cell_type": "code",
   "execution_count": 165,
   "metadata": {
    "collapsed": false
   },
   "outputs": [
    {
     "data": {
      "text/plain": [
       "<matplotlib.axes._subplots.AxesSubplot at 0x7fd96593e400>"
      ]
     },
     "execution_count": 165,
     "metadata": {},
     "output_type": "execute_result"
    },
    {
     "data": {
      "image/png": "[encoded data removed]",
      "text/plain": [
       "<matplotlib.figure.Figure at 0x7fd9657b3048>"
      ]
     },
     "metadata": {},
     "output_type": "display_data"
    }
   ],
   "source": [
    "# replot the residuals - there is now no significant peaking and the residuals are much more stable\n",
    "\n",
    "lm.resid.plot()"
   ]
  },
  {
   "cell_type": "markdown",
   "metadata": {},
   "source": [
    "\n",
    "            Create functions that will perform this regression in the working environment"
   ]
  },
  {
   "cell_type": "code",
   "execution_count": 166,
   "metadata": {
    "collapsed": true
   },
   "outputs": [],
   "source": [
    "linear_estimate_headcount = lm"
   ]
  },
  {
   "cell_type": "code",
   "execution_count": 185,
   "metadata": {
    "collapsed": true
   },
   "outputs": [],
   "source": [
    "def prep_predictor_value(query_result):\n",
    "    \"\"\"Wraps a SINGLE value in a pd.DataFrame to prepare it for a StatsModels Linear Regression object\n",
    "    \n",
    "    Avg_Count_30min is the name the model was trained to predict on.\"\"\"\n",
    "    \n",
    "    predictor_value = pd.DataFrame({'Avg_Count_30min': [query_result]})\n",
    "    \n",
    "    return predictor_value"
   ]
  },
  {
   "cell_type": "code",
   "execution_count": 195,
   "metadata": {
    "collapsed": true
   },
   "outputs": [],
   "source": [
    "def linear_prediction(predictor_value):\n",
    "    \"\"\"Performs a prediction on a supplied dataframe object and returns the result\"\"\"\n",
    "    \n",
    "    result = linear_estimate_headcount.predict(predictor_value)\n",
    "    \n",
    "    result = int(result)\n",
    "    \n",
    "    return result"
   ]
  },
  {
   "cell_type": "code",
   "execution_count": 196,
   "metadata": {
    "collapsed": true
   },
   "outputs": [],
   "source": [
    "def estimate_occupancy_number(query_result):\n",
    "    \n",
    "    predictor_value = prep_predictor_value(query_result)\n",
    "    \n",
    "    occupancy_estimate = linear_prediction(predictor_value)\n",
    "    \n",
    "    return occupancy_estimate"
   ]
  },
  {
   "cell_type": "code",
   "execution_count": 224,
   "metadata": {
    "collapsed": true
   },
   "outputs": [],
   "source": [
    "def prep_predictor_values(*query_results):\n",
    "    \"\"\"Wraps MULTIPLE values in a pd.DataFrame to prepare it for a StatsModels Linear Regression object\n",
    "    \n",
    "    Avg_Count_30min is the name the model was trained to predict on.\"\"\"\n",
    "    \n",
    "    query_list = []\n",
    "    for result in query_results:\n",
    "        query_list.append(result)\n",
    "    \n",
    "    predictor_value = pd.DataFrame({'Avg_Count_30min': query_list})\n",
    "    \n",
    "    return predictor_value"
   ]
  },
  {
   "cell_type": "code",
   "execution_count": 221,
   "metadata": {
    "collapsed": true
   },
   "outputs": [],
   "source": [
    "def linear_predictions(predictor_values):\n",
    "    \"\"\"Performs a prediction on a supplied dataframe object and returns the result\"\"\"\n",
    "    \n",
    "    result = linear_estimate_headcount.predict(predictor_values)\n",
    "    \n",
    "    list(result)\n",
    "    result = [int(x) for x in result]\n",
    "    \n",
    "    return result"
   ]
  },
  {
   "cell_type": "code",
   "execution_count": 222,
   "metadata": {
    "collapsed": true
   },
   "outputs": [],
   "source": [
    "def estimate_occupancy_numbers(*query_results):\n",
    "    \"\"\"THROWS ERROR - no dtypes ; no idea why\"\"\"\n",
    "    \n",
    "    predictor_values = prep_predictor_values(query_results)\n",
    "    \n",
    "    occupancy_estimates = linear_predictions(predictor_values)\n",
    "    \n",
    "    return occupancy_estimates"
   ]
  }
 ],
 "metadata": {
  "kernelspec": {
   "display_name": "Python 3",
   "language": "python",
   "name": "python3"
  },
  "language_info": {
   "codemirror_mode": {
    "name": "ipython",
    "version": 3
   },
   "file_extension": ".py",
   "mimetype": "text/x-python",
   "name": "python",
   "nbconvert_exporter": "python",
   "pygments_lexer": "ipython3",
   "version": "3.5.1"
  }
 },
 "nbformat": 4,
 "nbformat_minor": 0
}
