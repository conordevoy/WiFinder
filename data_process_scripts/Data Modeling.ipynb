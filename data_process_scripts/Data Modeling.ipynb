{
 "cells": [
  {
   "cell_type": "code",
   "execution_count": 1,
   "metadata": {},
   "outputs": [],
   "source": [
    "import pandas as pd\n",
    "import numpy as np\n",
    "import matplotlib.pyplot as plt\n",
    "import statsmodels.formula.api as sm\n",
    "import statsmodels\n",
    "from patsy import dmatrices\n",
    "from sklearn.linear_model import LogisticRegression\n",
    "from sklearn.cross_validation import train_test_split\n",
    "from sklearn import metrics\n",
    "from sklearn.cross_validation import cross_val_score\n",
    "%matplotlib inline"
   ]
  },
  {
   "cell_type": "code",
   "execution_count": 2,
   "metadata": {},
   "outputs": [],
   "source": [
    "df = pd.read_csv('ModelDraft1.csv')"
   ]
  },
  {
   "cell_type": "code",
   "execution_count": 141,
   "metadata": {},
   "outputs": [],
   "source": [
    "# df = df.drop('Max_Hour_Count', axis=1)\n",
    "# df = df.drop('Ave_Hour_Count', axis=1)\n",
    "df = df.drop('ID', axis=1)"
   ]
  },
  {
   "cell_type": "code",
   "execution_count": 142,
   "metadata": {},
   "outputs": [
    {
     "data": {
      "text/html": [
       "<div>\n",
       "<table border=\"1\" class=\"dataframe\">\n",
       "  <thead>\n",
       "    <tr style=\"text-align: right;\">\n",
       "      <th></th>\n",
       "      <th>Room_Capacity</th>\n",
       "      <th>Module</th>\n",
       "      <th>Registered_Students</th>\n",
       "      <th>Hour</th>\n",
       "      <th>Date</th>\n",
       "      <th>Room</th>\n",
       "      <th>Occupancy</th>\n",
       "      <th>Ave_Hour_Count_Adjusted</th>\n",
       "      <th>Max_Hour_Count_Adjusted</th>\n",
       "      <th>Ave_Count_Squared</th>\n",
       "    </tr>\n",
       "  </thead>\n",
       "  <tbody>\n",
       "    <tr>\n",
       "      <th>0</th>\n",
       "      <td>90</td>\n",
       "      <td>Vacant</td>\n",
       "      <td>0</td>\n",
       "      <td>9</td>\n",
       "      <td>2015-11-03</td>\n",
       "      <td>B002</td>\n",
       "      <td>0.00</td>\n",
       "      <td>0.052778</td>\n",
       "      <td>0.233333</td>\n",
       "      <td>0.002785</td>\n",
       "    </tr>\n",
       "    <tr>\n",
       "      <th>1</th>\n",
       "      <td>90</td>\n",
       "      <td>COMP30110</td>\n",
       "      <td>45</td>\n",
       "      <td>10</td>\n",
       "      <td>2015-11-03</td>\n",
       "      <td>B002</td>\n",
       "      <td>0.50</td>\n",
       "      <td>0.325253</td>\n",
       "      <td>0.355556</td>\n",
       "      <td>0.105789</td>\n",
       "    </tr>\n",
       "    <tr>\n",
       "      <th>2</th>\n",
       "      <td>90</td>\n",
       "      <td>COMP30260</td>\n",
       "      <td>18</td>\n",
       "      <td>11</td>\n",
       "      <td>2015-11-03</td>\n",
       "      <td>B002</td>\n",
       "      <td>0.50</td>\n",
       "      <td>0.319192</td>\n",
       "      <td>0.400000</td>\n",
       "      <td>0.101883</td>\n",
       "    </tr>\n",
       "    <tr>\n",
       "      <th>3</th>\n",
       "      <td>90</td>\n",
       "      <td>COMP40370</td>\n",
       "      <td>27</td>\n",
       "      <td>12</td>\n",
       "      <td>2015-11-03</td>\n",
       "      <td>B002</td>\n",
       "      <td>0.50</td>\n",
       "      <td>0.157407</td>\n",
       "      <td>0.344444</td>\n",
       "      <td>0.024777</td>\n",
       "    </tr>\n",
       "    <tr>\n",
       "      <th>4</th>\n",
       "      <td>90</td>\n",
       "      <td>Vacant</td>\n",
       "      <td>0</td>\n",
       "      <td>13</td>\n",
       "      <td>2015-11-03</td>\n",
       "      <td>B002</td>\n",
       "      <td>0.00</td>\n",
       "      <td>0.158333</td>\n",
       "      <td>0.322222</td>\n",
       "      <td>0.025069</td>\n",
       "    </tr>\n",
       "    <tr>\n",
       "      <th>5</th>\n",
       "      <td>90</td>\n",
       "      <td>COMP30240</td>\n",
       "      <td>42</td>\n",
       "      <td>14</td>\n",
       "      <td>2015-11-03</td>\n",
       "      <td>B002</td>\n",
       "      <td>0.75</td>\n",
       "      <td>0.515152</td>\n",
       "      <td>0.566667</td>\n",
       "      <td>0.265381</td>\n",
       "    </tr>\n",
       "    <tr>\n",
       "      <th>6</th>\n",
       "      <td>90</td>\n",
       "      <td>COMP30240</td>\n",
       "      <td>42</td>\n",
       "      <td>15</td>\n",
       "      <td>2015-11-03</td>\n",
       "      <td>B002</td>\n",
       "      <td>0.25</td>\n",
       "      <td>0.447475</td>\n",
       "      <td>0.644444</td>\n",
       "      <td>0.200234</td>\n",
       "    </tr>\n",
       "    <tr>\n",
       "      <th>7</th>\n",
       "      <td>90</td>\n",
       "      <td>COMP40370</td>\n",
       "      <td>27</td>\n",
       "      <td>16</td>\n",
       "      <td>2015-11-03</td>\n",
       "      <td>B002</td>\n",
       "      <td>0.25</td>\n",
       "      <td>0.404630</td>\n",
       "      <td>0.455556</td>\n",
       "      <td>0.163725</td>\n",
       "    </tr>\n",
       "    <tr>\n",
       "      <th>8</th>\n",
       "      <td>90</td>\n",
       "      <td>COMP30190</td>\n",
       "      <td>29</td>\n",
       "      <td>9</td>\n",
       "      <td>2015-11-04</td>\n",
       "      <td>B002</td>\n",
       "      <td>0.25</td>\n",
       "      <td>0.149495</td>\n",
       "      <td>0.166667</td>\n",
       "      <td>0.022349</td>\n",
       "    </tr>\n",
       "    <tr>\n",
       "      <th>9</th>\n",
       "      <td>90</td>\n",
       "      <td>COMP40660</td>\n",
       "      <td>53</td>\n",
       "      <td>10</td>\n",
       "      <td>2015-11-04</td>\n",
       "      <td>B002</td>\n",
       "      <td>0.25</td>\n",
       "      <td>0.160185</td>\n",
       "      <td>0.200000</td>\n",
       "      <td>0.025659</td>\n",
       "    </tr>\n",
       "    <tr>\n",
       "      <th>10</th>\n",
       "      <td>90</td>\n",
       "      <td>COMP30250</td>\n",
       "      <td>22</td>\n",
       "      <td>11</td>\n",
       "      <td>2015-11-04</td>\n",
       "      <td>B002</td>\n",
       "      <td>0.25</td>\n",
       "      <td>0.092929</td>\n",
       "      <td>0.155556</td>\n",
       "      <td>0.008636</td>\n",
       "    </tr>\n",
       "    <tr>\n",
       "      <th>11</th>\n",
       "      <td>90</td>\n",
       "      <td>COMP41690 (Practical)</td>\n",
       "      <td>60</td>\n",
       "      <td>12</td>\n",
       "      <td>2015-11-04</td>\n",
       "      <td>B002</td>\n",
       "      <td>0.50</td>\n",
       "      <td>0.368687</td>\n",
       "      <td>0.433333</td>\n",
       "      <td>0.135930</td>\n",
       "    </tr>\n",
       "    <tr>\n",
       "      <th>12</th>\n",
       "      <td>90</td>\n",
       "      <td>COMP41690 (Lecture)</td>\n",
       "      <td>60</td>\n",
       "      <td>13</td>\n",
       "      <td>2015-11-04</td>\n",
       "      <td>B002</td>\n",
       "      <td>0.00</td>\n",
       "      <td>0.278704</td>\n",
       "      <td>0.388889</td>\n",
       "      <td>0.077676</td>\n",
       "    </tr>\n",
       "    <tr>\n",
       "      <th>13</th>\n",
       "      <td>90</td>\n",
       "      <td>COMP30220</td>\n",
       "      <td>38</td>\n",
       "      <td>14</td>\n",
       "      <td>2015-11-04</td>\n",
       "      <td>B002</td>\n",
       "      <td>0.25</td>\n",
       "      <td>0.255556</td>\n",
       "      <td>0.300000</td>\n",
       "      <td>0.065309</td>\n",
       "    </tr>\n",
       "    <tr>\n",
       "      <th>14</th>\n",
       "      <td>90</td>\n",
       "      <td>COMP30520 &amp; COMP41110</td>\n",
       "      <td>79</td>\n",
       "      <td>15</td>\n",
       "      <td>2015-11-04</td>\n",
       "      <td>B002</td>\n",
       "      <td>0.00</td>\n",
       "      <td>0.061616</td>\n",
       "      <td>0.100000</td>\n",
       "      <td>0.003797</td>\n",
       "    </tr>\n",
       "    <tr>\n",
       "      <th>15</th>\n",
       "      <td>90</td>\n",
       "      <td>COMP30250</td>\n",
       "      <td>22</td>\n",
       "      <td>16</td>\n",
       "      <td>2015-11-04</td>\n",
       "      <td>B002</td>\n",
       "      <td>0.25</td>\n",
       "      <td>0.188889</td>\n",
       "      <td>0.233333</td>\n",
       "      <td>0.035679</td>\n",
       "    </tr>\n",
       "    <tr>\n",
       "      <th>16</th>\n",
       "      <td>90</td>\n",
       "      <td>Vacant</td>\n",
       "      <td>0</td>\n",
       "      <td>9</td>\n",
       "      <td>2015-11-05</td>\n",
       "      <td>B002</td>\n",
       "      <td>0.00</td>\n",
       "      <td>0.075926</td>\n",
       "      <td>0.333333</td>\n",
       "      <td>0.005765</td>\n",
       "    </tr>\n",
       "    <tr>\n",
       "      <th>17</th>\n",
       "      <td>90</td>\n",
       "      <td>COMP30110</td>\n",
       "      <td>45</td>\n",
       "      <td>10</td>\n",
       "      <td>2015-11-05</td>\n",
       "      <td>B002</td>\n",
       "      <td>0.50</td>\n",
       "      <td>0.373737</td>\n",
       "      <td>0.411111</td>\n",
       "      <td>0.139680</td>\n",
       "    </tr>\n",
       "    <tr>\n",
       "      <th>18</th>\n",
       "      <td>90</td>\n",
       "      <td>COMP40370</td>\n",
       "      <td>27</td>\n",
       "      <td>11</td>\n",
       "      <td>2015-11-05</td>\n",
       "      <td>B002</td>\n",
       "      <td>0.25</td>\n",
       "      <td>0.361111</td>\n",
       "      <td>0.433333</td>\n",
       "      <td>0.130401</td>\n",
       "    </tr>\n",
       "    <tr>\n",
       "      <th>19</th>\n",
       "      <td>90</td>\n",
       "      <td>COMP30260</td>\n",
       "      <td>18</td>\n",
       "      <td>12</td>\n",
       "      <td>2015-11-05</td>\n",
       "      <td>B002</td>\n",
       "      <td>0.25</td>\n",
       "      <td>0.230556</td>\n",
       "      <td>0.355556</td>\n",
       "      <td>0.053156</td>\n",
       "    </tr>\n",
       "  </tbody>\n",
       "</table>\n",
       "</div>"
      ]
     },
     "output_type": "execute_result",
     "metadata": {}
    }
   ],
   "source": [
    "df.head(20)"
   ]
  },
  {
   "cell_type": "code",
   "execution_count": 4,
   "metadata": {},
   "outputs": [],
   "source": [
    "osus = df.groupby('Occupancy')"
   ]
  },
  {
   "cell_type": "code",
   "execution_count": 5,
   "metadata": {},
   "outputs": [
    {
     "data": {
      "text/html": [
       "<div>\n",
       "<table border=\"1\" class=\"dataframe\">\n",
       "  <thead>\n",
       "    <tr style=\"text-align: right;\">\n",
       "      <th></th>\n",
       "      <th>ID</th>\n",
       "      <th>Room_Capacity</th>\n",
       "      <th>Module</th>\n",
       "      <th>Registered_Students</th>\n",
       "      <th>Hour</th>\n",
       "      <th>Date</th>\n",
       "      <th>Room</th>\n",
       "      <th>Ave_Hour_Count</th>\n",
       "      <th>Max_Hour_Count</th>\n",
       "      <th>Ave_Hour_Count_Adjusted</th>\n",
       "      <th>Max_Hour_Count_Adjusted</th>\n",
       "    </tr>\n",
       "    <tr>\n",
       "      <th>Occupancy</th>\n",
       "      <th></th>\n",
       "      <th></th>\n",
       "      <th></th>\n",
       "      <th></th>\n",
       "      <th></th>\n",
       "      <th></th>\n",
       "      <th></th>\n",
       "      <th></th>\n",
       "      <th></th>\n",
       "      <th></th>\n",
       "      <th></th>\n",
       "    </tr>\n",
       "  </thead>\n",
       "  <tbody>\n",
       "    <tr>\n",
       "      <th>0.00</th>\n",
       "      <td>67</td>\n",
       "      <td>67</td>\n",
       "      <td>67</td>\n",
       "      <td>67</td>\n",
       "      <td>67</td>\n",
       "      <td>67</td>\n",
       "      <td>67</td>\n",
       "      <td>67</td>\n",
       "      <td>67</td>\n",
       "      <td>67</td>\n",
       "      <td>67</td>\n",
       "    </tr>\n",
       "    <tr>\n",
       "      <th>0.25</th>\n",
       "      <td>96</td>\n",
       "      <td>96</td>\n",
       "      <td>96</td>\n",
       "      <td>96</td>\n",
       "      <td>96</td>\n",
       "      <td>96</td>\n",
       "      <td>96</td>\n",
       "      <td>96</td>\n",
       "      <td>96</td>\n",
       "      <td>96</td>\n",
       "      <td>96</td>\n",
       "    </tr>\n",
       "    <tr>\n",
       "      <th>0.50</th>\n",
       "      <td>40</td>\n",
       "      <td>40</td>\n",
       "      <td>40</td>\n",
       "      <td>40</td>\n",
       "      <td>40</td>\n",
       "      <td>40</td>\n",
       "      <td>40</td>\n",
       "      <td>40</td>\n",
       "      <td>40</td>\n",
       "      <td>40</td>\n",
       "      <td>40</td>\n",
       "    </tr>\n",
       "    <tr>\n",
       "      <th>0.75</th>\n",
       "      <td>12</td>\n",
       "      <td>12</td>\n",
       "      <td>12</td>\n",
       "      <td>12</td>\n",
       "      <td>12</td>\n",
       "      <td>12</td>\n",
       "      <td>12</td>\n",
       "      <td>12</td>\n",
       "      <td>12</td>\n",
       "      <td>12</td>\n",
       "      <td>12</td>\n",
       "    </tr>\n",
       "    <tr>\n",
       "      <th>1.00</th>\n",
       "      <td>1</td>\n",
       "      <td>1</td>\n",
       "      <td>1</td>\n",
       "      <td>1</td>\n",
       "      <td>1</td>\n",
       "      <td>1</td>\n",
       "      <td>1</td>\n",
       "      <td>1</td>\n",
       "      <td>1</td>\n",
       "      <td>1</td>\n",
       "      <td>1</td>\n",
       "    </tr>\n",
       "  </tbody>\n",
       "</table>\n",
       "</div>"
      ]
     },
     "output_type": "execute_result",
     "metadata": {}
    }
   ],
   "source": [
    "osus.count()"
   ]
  },
  {
   "cell_type": "code",
   "execution_count": 6,
   "metadata": {},
   "outputs": [
    {
     "data": {
      "text/plain": [
       "array([[<matplotlib.axes._subplots.AxesSubplot object at 0x7fe396c5db00>,\n",
       "        <matplotlib.axes._subplots.AxesSubplot object at 0x7fe396bcbb70>,\n",
       "        <matplotlib.axes._subplots.AxesSubplot object at 0x7fe396b8e588>,\n",
       "        <matplotlib.axes._subplots.AxesSubplot object at 0x7fe396b567f0>,\n",
       "        <matplotlib.axes._subplots.AxesSubplot object at 0x7fe396b12438>,\n",
       "        <matplotlib.axes._subplots.AxesSubplot object at 0x7fe396ae07b8>,\n",
       "        <matplotlib.axes._subplots.AxesSubplot object at 0x7fe396aa7fd0>,\n",
       "        <matplotlib.axes._subplots.AxesSubplot object at 0x7fe396a68550>],\n",
       "       [<matplotlib.axes._subplots.AxesSubplot object at 0x7fe396a37080>,\n",
       "        <matplotlib.axes._subplots.AxesSubplot object at 0x7fe3969e94e0>,\n",
       "        <matplotlib.axes._subplots.AxesSubplot object at 0x7fe3969b2c18>,\n",
       "        <matplotlib.axes._subplots.AxesSubplot object at 0x7fe396974390>,\n",
       "        <matplotlib.axes._subplots.AxesSubplot object at 0x7fe39693c5c0>,\n",
       "        <matplotlib.axes._subplots.AxesSubplot object at 0x7fe3968e0438>,\n",
       "        <matplotlib.axes._subplots.AxesSubplot object at 0x7fe3968464a8>,\n",
       "        <matplotlib.axes._subplots.AxesSubplot object at 0x7fe396810a90>],\n",
       "       [<matplotlib.axes._subplots.AxesSubplot object at 0x7fe3967caf60>,\n",
       "        <matplotlib.axes._subplots.AxesSubplot object at 0x7fe39679b6d8>,\n",
       "        <matplotlib.axes._subplots.AxesSubplot object at 0x7fe396754dd8>,\n",
       "        <matplotlib.axes._subplots.AxesSubplot object at 0x7fe39671ef60>,\n",
       "        <matplotlib.axes._subplots.AxesSubplot object at 0x7fe3966dac88>,\n",
       "        <matplotlib.axes._subplots.AxesSubplot object at 0x7fe3966a8ef0>,\n",
       "        <matplotlib.axes._subplots.AxesSubplot object at 0x7fe396678470>,\n",
       "        <matplotlib.axes._subplots.AxesSubplot object at 0x7fe396632be0>],\n",
       "       [<matplotlib.axes._subplots.AxesSubplot object at 0x7fe396602240>,\n",
       "        <matplotlib.axes._subplots.AxesSubplot object at 0x7fe3965bec50>,\n",
       "        <matplotlib.axes._subplots.AxesSubplot object at 0x7fe39650b780>,\n",
       "        <matplotlib.axes._subplots.AxesSubplot object at 0x7fe3964c8908>,\n",
       "        <matplotlib.axes._subplots.AxesSubplot object at 0x7fe396492a90>,\n",
       "        <matplotlib.axes._subplots.AxesSubplot object at 0x7fe39644e7b8>,\n",
       "        <matplotlib.axes._subplots.AxesSubplot object at 0x7fe39641ba20>,\n",
       "        <matplotlib.axes._subplots.AxesSubplot object at 0x7fe3963e6f60>],\n",
       "       [<matplotlib.axes._subplots.AxesSubplot object at 0x7fe3963a6710>,\n",
       "        <matplotlib.axes._subplots.AxesSubplot object at 0x7fe39636fd30>,\n",
       "        <matplotlib.axes._subplots.AxesSubplot object at 0x7fe396321240>,\n",
       "        <matplotlib.axes._subplots.AxesSubplot object at 0x7fe3962eb5c0>,\n",
       "        <matplotlib.axes._subplots.AxesSubplot object at 0x7fe3962ad0f0>,\n",
       "        <matplotlib.axes._subplots.AxesSubplot object at 0x7fe396275470>,\n",
       "        <matplotlib.axes._subplots.AxesSubplot object at 0x7fe396211ef0>,\n",
       "        <matplotlib.axes._subplots.AxesSubplot object at 0x7fe396201208>],\n",
       "       [<matplotlib.axes._subplots.AxesSubplot object at 0x7fe396149748>,\n",
       "        <matplotlib.axes._subplots.AxesSubplot object at 0x7fe396104cc0>,\n",
       "        <matplotlib.axes._subplots.AxesSubplot object at 0x7fe3960d4438>,\n",
       "        <matplotlib.axes._subplots.AxesSubplot object at 0x7fe396090b38>,\n",
       "        <matplotlib.axes._subplots.AxesSubplot object at 0x7fe396058cc0>,\n",
       "        <matplotlib.axes._subplots.AxesSubplot object at 0x7fe3960159e8>,\n",
       "        <matplotlib.axes._subplots.AxesSubplot object at 0x7fe395fe1c50>,\n",
       "        <matplotlib.axes._subplots.AxesSubplot object at 0x7fe395fb11d0>],\n",
       "       [<matplotlib.axes._subplots.AxesSubplot object at 0x7fe395f6c940>,\n",
       "        <matplotlib.axes._subplots.AxesSubplot object at 0x7fe395f36f60>,\n",
       "        <matplotlib.axes._subplots.AxesSubplot object at 0x7fe395ef89b0>,\n",
       "        <matplotlib.axes._subplots.AxesSubplot object at 0x7fe395e474e0>,\n",
       "        <matplotlib.axes._subplots.AxesSubplot object at 0x7fe395e82668>,\n",
       "        <matplotlib.axes._subplots.AxesSubplot object at 0x7fe395dcd7f0>,\n",
       "        <matplotlib.axes._subplots.AxesSubplot object at 0x7fe395d8c518>,\n",
       "        <matplotlib.axes._subplots.AxesSubplot object at 0x7fe395d55780>],\n",
       "       [<matplotlib.axes._subplots.AxesSubplot object at 0x7fe395d1fcc0>,\n",
       "        <matplotlib.axes._subplots.AxesSubplot object at 0x7fe395ce1470>,\n",
       "        <matplotlib.axes._subplots.AxesSubplot object at 0x7fe395ca9a90>,\n",
       "        <matplotlib.axes._subplots.AxesSubplot object at 0x7fe395c5a198>,\n",
       "        <matplotlib.axes._subplots.AxesSubplot object at 0x7fe395c25320>,\n",
       "        <matplotlib.axes._subplots.AxesSubplot object at 0x7fe395be7048>,\n",
       "        <matplotlib.axes._subplots.AxesSubplot object at 0x7fe395bb03c8>,\n",
       "        <matplotlib.axes._subplots.AxesSubplot object at 0x7fe395b4d908>]], dtype=object)"
      ]
     },
     "execution_count": 6,
     "output_type": "execute_result",
     "metadata": {}
    },
    {
     "data": {
      "image/png": "[encoded data removed]"
     },
     "output_type": "display_data",
     "metadata": {}
    }
   ],
   "source": [
    "pd.scatter_matrix(df, alpha=0.2, figsize=(20, 20), diagonal='corr')"
   ]
  },
  {
   "cell_type": "markdown",
   "metadata": {},
   "source": [
    "                \n",
    "                                        SKLearn Log Reg - 1\n",
    "                                    \n",
    "             'Module', 'Registered_Students', 'Hour', 'Occupancy', 'Ave_Hour_Count_Adjusted'\n",
    "             "
   ]
  },
  {
   "cell_type": "code",
   "execution_count": 7,
   "metadata": {},
   "outputs": [],
   "source": [
    "ave1 = ['Module', 'Registered_Students', 'Hour', 'Occupancy', 'Ave_Hour_Count_Adjusted']\n",
    "max1 = ['Module', 'Registered_Students', 'Hour', 'Occupancy', 'Max_Hour_Count_Adjusted']"
   ]
  },
  {
   "cell_type": "code",
   "execution_count": 8,
   "metadata": {},
   "outputs": [],
   "source": [
    "just_ave = ['Occupancy', 'Ave_Hour_Count_Adjusted']\n",
    "just_max = ['Occupancy', 'Max_Hour_Count_Adjusted']"
   ]
  },
  {
   "cell_type": "code",
   "execution_count": 9,
   "metadata": {},
   "outputs": [],
   "source": [
    "room_ave = ['Occupancy', 'Ave_Hour_Count_Adjusted', 'Room_Capacity']"
   ]
  },
  {
   "cell_type": "code",
   "execution_count": 10,
   "metadata": {},
   "outputs": [],
   "source": [
    "module_ave = ['Occupancy', 'Ave_Hour_Count_Adjusted', 'Module']"
   ]
  },
  {
   "cell_type": "code",
   "execution_count": 11,
   "metadata": {},
   "outputs": [],
   "source": [
    "room_name_ave = ['Occupancy', 'Ave_Hour_Count_Adjusted', 'Room']"
   ]
  },
  {
   "cell_type": "code",
   "execution_count": 12,
   "metadata": {},
   "outputs": [],
   "source": [
    "hour_name_ave = ['Occupancy', 'Ave_Hour_Count_Adjusted', 'Hour']"
   ]
  },
  {
   "cell_type": "markdown",
   "metadata": {},
   "source": [
    "                        FIRST WAVE"
   ]
  },
  {
   "cell_type": "code",
   "execution_count": 13,
   "metadata": {},
   "outputs": [],
   "source": [
    "ave_Adj_Five_Model = df[ave1]\n",
    "\n",
    "max_Adj_Five_Model = df[max1]\n",
    "\n",
    "ave_Adj_Three_Model = df[ave1]\n",
    "\n",
    "max_Adj_Three_Model = df[max1]\n",
    "\n",
    "ave_Adj_Bin_Model = df[ave1]\n",
    "\n",
    "max_Adj_Bin_Model = df[max1]"
   ]
  },
  {
   "cell_type": "markdown",
   "metadata": {},
   "source": [
    "                        SECOND WAVE"
   ]
  },
  {
   "cell_type": "code",
   "execution_count": 14,
   "metadata": {},
   "outputs": [],
   "source": [
    "min_five_model = df[just_ave]\n",
    "min_three_model = df[just_ave]\n",
    "min_two_model = df[just_ave]"
   ]
  },
  {
   "cell_type": "markdown",
   "metadata": {},
   "source": [
    "                        THIRD WAVE"
   ]
  },
  {
   "cell_type": "code",
   "execution_count": 15,
   "metadata": {},
   "outputs": [],
   "source": [
    "room_ave_five = df[room_ave]\n",
    "room_ave_three = df[room_ave]\n",
    "room_ave_two = df[room_ave]"
   ]
  },
  {
   "cell_type": "markdown",
   "metadata": {},
   "source": [
    "\n",
    "                four wave\n",
    "                "
   ]
  },
  {
   "cell_type": "code",
   "execution_count": 16,
   "metadata": {},
   "outputs": [],
   "source": [
    "mod_ave_five = df[module_ave]\n",
    "mod_ave_three = df[module_ave]\n",
    "mod_ave_two = df[module_ave]"
   ]
  },
  {
   "cell_type": "markdown",
   "metadata": {},
   "source": [
    "    \n",
    "                    FIVE WAVE\n",
    "        "
   ]
  },
  {
   "cell_type": "code",
   "execution_count": 17,
   "metadata": {},
   "outputs": [],
   "source": [
    "room_name_ave_five = df[room_name_ave]\n",
    "room_name_ave_three = df[room_name_ave]\n",
    "room_name_ave_two = df[room_name_ave]"
   ]
  },
  {
   "cell_type": "markdown",
   "metadata": {},
   "source": [
    "                    \n",
    "                        SIX WAVE\n",
    "                        "
   ]
  },
  {
   "cell_type": "code",
   "execution_count": 18,
   "metadata": {},
   "outputs": [],
   "source": [
    "hour_ave_five = df[hour_name_ave]\n",
    "hour_ave_three = df[hour_name_ave]\n",
    "hour_ave_two = df[hour_name_ave]"
   ]
  },
  {
   "cell_type": "code",
   "execution_count": 19,
   "metadata": {},
   "outputs": [],
   "source": [
    "occupants = df.groupby('Occupancy')"
   ]
  },
  {
   "cell_type": "code",
   "execution_count": 20,
   "metadata": {},
   "outputs": [
    {
     "data": {
      "text/html": [
       "<div>\n",
       "<table border=\"1\" class=\"dataframe\">\n",
       "  <thead>\n",
       "    <tr style=\"text-align: right;\">\n",
       "      <th></th>\n",
       "      <th>ID</th>\n",
       "      <th>Room_Capacity</th>\n",
       "      <th>Module</th>\n",
       "      <th>Registered_Students</th>\n",
       "      <th>Hour</th>\n",
       "      <th>Date</th>\n",
       "      <th>Room</th>\n",
       "      <th>Ave_Hour_Count</th>\n",
       "      <th>Max_Hour_Count</th>\n",
       "      <th>Ave_Hour_Count_Adjusted</th>\n",
       "      <th>Max_Hour_Count_Adjusted</th>\n",
       "    </tr>\n",
       "    <tr>\n",
       "      <th>Occupancy</th>\n",
       "      <th></th>\n",
       "      <th></th>\n",
       "      <th></th>\n",
       "      <th></th>\n",
       "      <th></th>\n",
       "      <th></th>\n",
       "      <th></th>\n",
       "      <th></th>\n",
       "      <th></th>\n",
       "      <th></th>\n",
       "      <th></th>\n",
       "    </tr>\n",
       "  </thead>\n",
       "  <tbody>\n",
       "    <tr>\n",
       "      <th>0.00</th>\n",
       "      <td>67</td>\n",
       "      <td>67</td>\n",
       "      <td>67</td>\n",
       "      <td>67</td>\n",
       "      <td>67</td>\n",
       "      <td>67</td>\n",
       "      <td>67</td>\n",
       "      <td>67</td>\n",
       "      <td>67</td>\n",
       "      <td>67</td>\n",
       "      <td>67</td>\n",
       "    </tr>\n",
       "    <tr>\n",
       "      <th>0.25</th>\n",
       "      <td>96</td>\n",
       "      <td>96</td>\n",
       "      <td>96</td>\n",
       "      <td>96</td>\n",
       "      <td>96</td>\n",
       "      <td>96</td>\n",
       "      <td>96</td>\n",
       "      <td>96</td>\n",
       "      <td>96</td>\n",
       "      <td>96</td>\n",
       "      <td>96</td>\n",
       "    </tr>\n",
       "    <tr>\n",
       "      <th>0.50</th>\n",
       "      <td>40</td>\n",
       "      <td>40</td>\n",
       "      <td>40</td>\n",
       "      <td>40</td>\n",
       "      <td>40</td>\n",
       "      <td>40</td>\n",
       "      <td>40</td>\n",
       "      <td>40</td>\n",
       "      <td>40</td>\n",
       "      <td>40</td>\n",
       "      <td>40</td>\n",
       "    </tr>\n",
       "    <tr>\n",
       "      <th>0.75</th>\n",
       "      <td>12</td>\n",
       "      <td>12</td>\n",
       "      <td>12</td>\n",
       "      <td>12</td>\n",
       "      <td>12</td>\n",
       "      <td>12</td>\n",
       "      <td>12</td>\n",
       "      <td>12</td>\n",
       "      <td>12</td>\n",
       "      <td>12</td>\n",
       "      <td>12</td>\n",
       "    </tr>\n",
       "    <tr>\n",
       "      <th>1.00</th>\n",
       "      <td>1</td>\n",
       "      <td>1</td>\n",
       "      <td>1</td>\n",
       "      <td>1</td>\n",
       "      <td>1</td>\n",
       "      <td>1</td>\n",
       "      <td>1</td>\n",
       "      <td>1</td>\n",
       "      <td>1</td>\n",
       "      <td>1</td>\n",
       "      <td>1</td>\n",
       "    </tr>\n",
       "  </tbody>\n",
       "</table>\n",
       "</div>"
      ]
     },
     "output_type": "execute_result",
     "metadata": {}
    }
   ],
   "source": [
    "occupants.count()"
   ]
  },
  {
   "cell_type": "code",
   "execution_count": 21,
   "metadata": {},
   "outputs": [],
   "source": [
    "occupancy_five = {0.00: 'Empty', 0.25 : 'Low', 0.50 : 'Medium', 0.75: 'High', 1.00 : 'High'}\n",
    "\n",
    "occupancy_three = {0.00: 'Empty', 0.25 : 'Medium', 0.50 : 'Medium', 0.75: 'High', 1.00 : 'High'}\n",
    "\n",
    "occupancy_binary = {0.00: 'Empty', 0.25 : 'Occupied', 0.50 : 'Occupied', 0.75: 'Occupied', 1.00 : 'Occupied'}"
   ]
  },
  {
   "cell_type": "code",
   "execution_count": 22,
   "metadata": {},
   "outputs": [
    {
     "name": "stderr",
     "output_type": "stream",
     "text": [
      "/home/mike/anaconda3/lib/python3.5/site-packages/pandas/core/generic.py:3117: SettingWithCopyWarning: \n",
      "A value is trying to be set on a copy of a slice from a DataFrame\n",
      "\n",
      "See the caveats in the documentation: http://pandas.pydata.org/pandas-docs/stable/indexing.html#indexing-view-versus-copy\n",
      "  self._update_inplace(new_data)\n"
     ]
    }
   ],
   "source": [
    "ave_Adj_Five_Model['Occupancy'].replace(occupancy_five, inplace=True)"
   ]
  },
  {
   "cell_type": "code",
   "execution_count": 23,
   "metadata": {},
   "outputs": [
    {
     "name": "stderr",
     "output_type": "stream",
     "text": [
      "/home/mike/anaconda3/lib/python3.5/site-packages/pandas/core/generic.py:3117: SettingWithCopyWarning: \n",
      "A value is trying to be set on a copy of a slice from a DataFrame\n",
      "\n",
      "See the caveats in the documentation: http://pandas.pydata.org/pandas-docs/stable/indexing.html#indexing-view-versus-copy\n",
      "  self._update_inplace(new_data)\n"
     ]
    }
   ],
   "source": [
    "max_Adj_Five_Model['Occupancy'].replace(occupancy_five, inplace=True)"
   ]
  },
  {
   "cell_type": "code",
   "execution_count": 24,
   "metadata": {},
   "outputs": [
    {
     "name": "stderr",
     "output_type": "stream",
     "text": [
      "/home/mike/anaconda3/lib/python3.5/site-packages/pandas/core/generic.py:3117: SettingWithCopyWarning: \n",
      "A value is trying to be set on a copy of a slice from a DataFrame\n",
      "\n",
      "See the caveats in the documentation: http://pandas.pydata.org/pandas-docs/stable/indexing.html#indexing-view-versus-copy\n",
      "  self._update_inplace(new_data)\n"
     ]
    }
   ],
   "source": [
    "ave_Adj_Three_Model['Occupancy'].replace(occupancy_three, inplace=True)"
   ]
  },
  {
   "cell_type": "code",
   "execution_count": 25,
   "metadata": {},
   "outputs": [
    {
     "name": "stderr",
     "output_type": "stream",
     "text": [
      "/home/mike/anaconda3/lib/python3.5/site-packages/pandas/core/generic.py:3117: SettingWithCopyWarning: \n",
      "A value is trying to be set on a copy of a slice from a DataFrame\n",
      "\n",
      "See the caveats in the documentation: http://pandas.pydata.org/pandas-docs/stable/indexing.html#indexing-view-versus-copy\n",
      "  self._update_inplace(new_data)\n"
     ]
    }
   ],
   "source": [
    "max_Adj_Three_Model['Occupancy'].replace(occupancy_three, inplace=True)"
   ]
  },
  {
   "cell_type": "code",
   "execution_count": 26,
   "metadata": {},
   "outputs": [
    {
     "name": "stderr",
     "output_type": "stream",
     "text": [
      "/home/mike/anaconda3/lib/python3.5/site-packages/pandas/core/generic.py:3117: SettingWithCopyWarning: \n",
      "A value is trying to be set on a copy of a slice from a DataFrame\n",
      "\n",
      "See the caveats in the documentation: http://pandas.pydata.org/pandas-docs/stable/indexing.html#indexing-view-versus-copy\n",
      "  self._update_inplace(new_data)\n"
     ]
    }
   ],
   "source": [
    "ave_Adj_Bin_Model['Occupancy'].replace(occupancy_binary, inplace=True)"
   ]
  },
  {
   "cell_type": "code",
   "execution_count": 27,
   "metadata": {},
   "outputs": [
    {
     "name": "stderr",
     "output_type": "stream",
     "text": [
      "/home/mike/anaconda3/lib/python3.5/site-packages/pandas/core/generic.py:3117: SettingWithCopyWarning: \n",
      "A value is trying to be set on a copy of a slice from a DataFrame\n",
      "\n",
      "See the caveats in the documentation: http://pandas.pydata.org/pandas-docs/stable/indexing.html#indexing-view-versus-copy\n",
      "  self._update_inplace(new_data)\n"
     ]
    }
   ],
   "source": [
    "max_Adj_Bin_Model['Occupancy'].replace(occupancy_binary, inplace=True)"
   ]
  },
  {
   "cell_type": "code",
   "execution_count": 28,
   "metadata": {},
   "outputs": [
    {
     "name": "stderr",
     "output_type": "stream",
     "text": [
      "/home/mike/anaconda3/lib/python3.5/site-packages/pandas/core/generic.py:3117: SettingWithCopyWarning: \n",
      "A value is trying to be set on a copy of a slice from a DataFrame\n",
      "\n",
      "See the caveats in the documentation: http://pandas.pydata.org/pandas-docs/stable/indexing.html#indexing-view-versus-copy\n",
      "  self._update_inplace(new_data)\n"
     ]
    }
   ],
   "source": [
    "min_five_model['Occupancy'].replace(occupancy_five, inplace=True)"
   ]
  },
  {
   "cell_type": "code",
   "execution_count": 29,
   "metadata": {},
   "outputs": [
    {
     "name": "stderr",
     "output_type": "stream",
     "text": [
      "/home/mike/anaconda3/lib/python3.5/site-packages/pandas/core/generic.py:3117: SettingWithCopyWarning: \n",
      "A value is trying to be set on a copy of a slice from a DataFrame\n",
      "\n",
      "See the caveats in the documentation: http://pandas.pydata.org/pandas-docs/stable/indexing.html#indexing-view-versus-copy\n",
      "  self._update_inplace(new_data)\n"
     ]
    }
   ],
   "source": [
    "min_three_model['Occupancy'].replace(occupancy_three, inplace=True)"
   ]
  },
  {
   "cell_type": "code",
   "execution_count": 30,
   "metadata": {},
   "outputs": [
    {
     "name": "stderr",
     "output_type": "stream",
     "text": [
      "/home/mike/anaconda3/lib/python3.5/site-packages/pandas/core/generic.py:3117: SettingWithCopyWarning: \n",
      "A value is trying to be set on a copy of a slice from a DataFrame\n",
      "\n",
      "See the caveats in the documentation: http://pandas.pydata.org/pandas-docs/stable/indexing.html#indexing-view-versus-copy\n",
      "  self._update_inplace(new_data)\n"
     ]
    }
   ],
   "source": [
    "min_two_model['Occupancy'].replace(occupancy_binary, inplace=True)"
   ]
  },
  {
   "cell_type": "code",
   "execution_count": 31,
   "metadata": {},
   "outputs": [
    {
     "name": "stderr",
     "output_type": "stream",
     "text": [
      "/home/mike/anaconda3/lib/python3.5/site-packages/pandas/core/generic.py:3117: SettingWithCopyWarning: \n",
      "A value is trying to be set on a copy of a slice from a DataFrame\n",
      "\n",
      "See the caveats in the documentation: http://pandas.pydata.org/pandas-docs/stable/indexing.html#indexing-view-versus-copy\n",
      "  self._update_inplace(new_data)\n"
     ]
    }
   ],
   "source": [
    "room_ave_five['Occupancy'].replace(occupancy_five, inplace=True)"
   ]
  },
  {
   "cell_type": "code",
   "execution_count": 32,
   "metadata": {},
   "outputs": [
    {
     "name": "stderr",
     "output_type": "stream",
     "text": [
      "/home/mike/anaconda3/lib/python3.5/site-packages/pandas/core/generic.py:3117: SettingWithCopyWarning: \n",
      "A value is trying to be set on a copy of a slice from a DataFrame\n",
      "\n",
      "See the caveats in the documentation: http://pandas.pydata.org/pandas-docs/stable/indexing.html#indexing-view-versus-copy\n",
      "  self._update_inplace(new_data)\n"
     ]
    }
   ],
   "source": [
    "room_ave_three['Occupancy'].replace(occupancy_three, inplace=True)"
   ]
  },
  {
   "cell_type": "code",
   "execution_count": 33,
   "metadata": {},
   "outputs": [
    {
     "name": "stderr",
     "output_type": "stream",
     "text": [
      "/home/mike/anaconda3/lib/python3.5/site-packages/pandas/core/generic.py:3117: SettingWithCopyWarning: \n",
      "A value is trying to be set on a copy of a slice from a DataFrame\n",
      "\n",
      "See the caveats in the documentation: http://pandas.pydata.org/pandas-docs/stable/indexing.html#indexing-view-versus-copy\n",
      "  self._update_inplace(new_data)\n"
     ]
    }
   ],
   "source": [
    "room_ave_two['Occupancy'].replace(occupancy_binary, inplace=True)"
   ]
  },
  {
   "cell_type": "code",
   "execution_count": 34,
   "metadata": {},
   "outputs": [
    {
     "name": "stderr",
     "output_type": "stream",
     "text": [
      "/home/mike/anaconda3/lib/python3.5/site-packages/pandas/core/generic.py:3117: SettingWithCopyWarning: \n",
      "A value is trying to be set on a copy of a slice from a DataFrame\n",
      "\n",
      "See the caveats in the documentation: http://pandas.pydata.org/pandas-docs/stable/indexing.html#indexing-view-versus-copy\n",
      "  self._update_inplace(new_data)\n"
     ]
    }
   ],
   "source": [
    "mod_ave_five['Occupancy'].replace(occupancy_five, inplace=True)"
   ]
  },
  {
   "cell_type": "code",
   "execution_count": 35,
   "metadata": {},
   "outputs": [
    {
     "name": "stderr",
     "output_type": "stream",
     "text": [
      "/home/mike/anaconda3/lib/python3.5/site-packages/pandas/core/generic.py:3117: SettingWithCopyWarning: \n",
      "A value is trying to be set on a copy of a slice from a DataFrame\n",
      "\n",
      "See the caveats in the documentation: http://pandas.pydata.org/pandas-docs/stable/indexing.html#indexing-view-versus-copy\n",
      "  self._update_inplace(new_data)\n"
     ]
    }
   ],
   "source": [
    "mod_ave_three['Occupancy'].replace(occupancy_three, inplace=True)"
   ]
  },
  {
   "cell_type": "code",
   "execution_count": 36,
   "metadata": {},
   "outputs": [
    {
     "name": "stderr",
     "output_type": "stream",
     "text": [
      "/home/mike/anaconda3/lib/python3.5/site-packages/pandas/core/generic.py:3117: SettingWithCopyWarning: \n",
      "A value is trying to be set on a copy of a slice from a DataFrame\n",
      "\n",
      "See the caveats in the documentation: http://pandas.pydata.org/pandas-docs/stable/indexing.html#indexing-view-versus-copy\n",
      "  self._update_inplace(new_data)\n"
     ]
    }
   ],
   "source": [
    "mod_ave_two['Occupancy'].replace(occupancy_binary, inplace=True)"
   ]
  },
  {
   "cell_type": "code",
   "execution_count": 37,
   "metadata": {},
   "outputs": [
    {
     "name": "stderr",
     "output_type": "stream",
     "text": [
      "/home/mike/anaconda3/lib/python3.5/site-packages/pandas/core/generic.py:3117: SettingWithCopyWarning: \n",
      "A value is trying to be set on a copy of a slice from a DataFrame\n",
      "\n",
      "See the caveats in the documentation: http://pandas.pydata.org/pandas-docs/stable/indexing.html#indexing-view-versus-copy\n",
      "  self._update_inplace(new_data)\n"
     ]
    }
   ],
   "source": [
    "room_name_ave_five['Occupancy'].replace(occupancy_five, inplace=True)"
   ]
  },
  {
   "cell_type": "code",
   "execution_count": 38,
   "metadata": {},
   "outputs": [
    {
     "name": "stderr",
     "output_type": "stream",
     "text": [
      "/home/mike/anaconda3/lib/python3.5/site-packages/pandas/core/generic.py:3117: SettingWithCopyWarning: \n",
      "A value is trying to be set on a copy of a slice from a DataFrame\n",
      "\n",
      "See the caveats in the documentation: http://pandas.pydata.org/pandas-docs/stable/indexing.html#indexing-view-versus-copy\n",
      "  self._update_inplace(new_data)\n"
     ]
    }
   ],
   "source": [
    "room_name_ave_three['Occupancy'].replace(occupancy_three, inplace=True)"
   ]
  },
  {
   "cell_type": "code",
   "execution_count": 39,
   "metadata": {},
   "outputs": [
    {
     "name": "stderr",
     "output_type": "stream",
     "text": [
      "/home/mike/anaconda3/lib/python3.5/site-packages/pandas/core/generic.py:3117: SettingWithCopyWarning: \n",
      "A value is trying to be set on a copy of a slice from a DataFrame\n",
      "\n",
      "See the caveats in the documentation: http://pandas.pydata.org/pandas-docs/stable/indexing.html#indexing-view-versus-copy\n",
      "  self._update_inplace(new_data)\n"
     ]
    }
   ],
   "source": [
    "room_name_ave_two['Occupancy'].replace(occupancy_binary, inplace=True)"
   ]
  },
  {
   "cell_type": "code",
   "execution_count": 40,
   "metadata": {},
   "outputs": [
    {
     "name": "stderr",
     "output_type": "stream",
     "text": [
      "/home/mike/anaconda3/lib/python3.5/site-packages/pandas/core/generic.py:3117: SettingWithCopyWarning: \n",
      "A value is trying to be set on a copy of a slice from a DataFrame\n",
      "\n",
      "See the caveats in the documentation: http://pandas.pydata.org/pandas-docs/stable/indexing.html#indexing-view-versus-copy\n",
      "  self._update_inplace(new_data)\n"
     ]
    }
   ],
   "source": [
    "hour_ave_five['Occupancy'].replace(occupancy_five, inplace=True)"
   ]
  },
  {
   "cell_type": "code",
   "execution_count": 41,
   "metadata": {},
   "outputs": [
    {
     "name": "stderr",
     "output_type": "stream",
     "text": [
      "/home/mike/anaconda3/lib/python3.5/site-packages/pandas/core/generic.py:3117: SettingWithCopyWarning: \n",
      "A value is trying to be set on a copy of a slice from a DataFrame\n",
      "\n",
      "See the caveats in the documentation: http://pandas.pydata.org/pandas-docs/stable/indexing.html#indexing-view-versus-copy\n",
      "  self._update_inplace(new_data)\n"
     ]
    }
   ],
   "source": [
    "hour_ave_three['Occupancy'].replace(occupancy_three, inplace=True)"
   ]
  },
  {
   "cell_type": "code",
   "execution_count": 42,
   "metadata": {},
   "outputs": [
    {
     "name": "stderr",
     "output_type": "stream",
     "text": [
      "/home/mike/anaconda3/lib/python3.5/site-packages/pandas/core/generic.py:3117: SettingWithCopyWarning: \n",
      "A value is trying to be set on a copy of a slice from a DataFrame\n",
      "\n",
      "See the caveats in the documentation: http://pandas.pydata.org/pandas-docs/stable/indexing.html#indexing-view-versus-copy\n",
      "  self._update_inplace(new_data)\n"
     ]
    }
   ],
   "source": [
    "hour_ave_two['Occupancy'].replace(occupancy_binary, inplace=True)"
   ]
  },
  {
   "cell_type": "markdown",
   "metadata": {},
   "source": [
    "    \n",
    "                            GRAPHING STUFF\n",
    "                            "
   ]
  },
  {
   "cell_type": "code",
   "execution_count": 43,
   "metadata": {},
   "outputs": [
    {
     "data": {
      "text/plain": [
       "<matplotlib.axes._subplots.AxesSubplot at 0x7fe39163bef0>"
      ]
     },
     "execution_count": 43,
     "output_type": "execute_result",
     "metadata": {}
    },
    {
     "data": {
      "image/png": "[encoded data removed]"
     },
     "output_type": "display_data",
     "metadata": {}
    }
   ],
   "source": [
    "# scatterplots for all continuous features and the target feature total_score\n",
    "fig, axs = plt.subplots(1, 2, sharey=True)\n",
    "df.plot(kind='scatter',x='Ave_Hour_Count_Adjusted',  y='Occupancy',  label=\"%.3f\" \\\n",
    "        % df[['Ave_Hour_Count_Adjusted','Occupancy' ]].corr().as_matrix()[0,1], ax=axs[0], figsize=(15, 8))"
   ]
  },
  {
   "cell_type": "code",
   "execution_count": 44,
   "metadata": {},
   "outputs": [
    {
     "data": {
      "text/plain": [
       "<matplotlib.axes._subplots.AxesSubplot at 0x7fe39154e2e8>"
      ]
     },
     "execution_count": 44,
     "output_type": "execute_result",
     "metadata": {}
    },
    {
     "data": {
      "image/png": "[encoded data removed]"
     },
     "output_type": "display_data",
     "metadata": {}
    }
   ],
   "source": [
    "df['Ave_Hour_Count_Adjusted'].plot(kind='box')"
   ]
  },
  {
   "cell_type": "code",
   "execution_count": 45,
   "metadata": {},
   "outputs": [
    {
     "data": {
      "text/html": [
       "<div>\n",
       "<table border=\"1\" class=\"dataframe\">\n",
       "  <thead>\n",
       "    <tr style=\"text-align: right;\">\n",
       "      <th></th>\n",
       "      <th>ID</th>\n",
       "      <th>Room_Capacity</th>\n",
       "      <th>Module</th>\n",
       "      <th>Registered_Students</th>\n",
       "      <th>Hour</th>\n",
       "      <th>Date</th>\n",
       "      <th>Room</th>\n",
       "      <th>Occupancy</th>\n",
       "      <th>Ave_Hour_Count</th>\n",
       "      <th>Max_Hour_Count</th>\n",
       "      <th>Ave_Hour_Count_Adjusted</th>\n",
       "      <th>Max_Hour_Count_Adjusted</th>\n",
       "    </tr>\n",
       "  </thead>\n",
       "  <tbody>\n",
       "    <tr>\n",
       "      <th>0</th>\n",
       "      <td>92015-11-03B002</td>\n",
       "      <td>90</td>\n",
       "      <td>Vacant</td>\n",
       "      <td>0</td>\n",
       "      <td>9</td>\n",
       "      <td>2015-11-03</td>\n",
       "      <td>B002</td>\n",
       "      <td>0.00</td>\n",
       "      <td>4.750000</td>\n",
       "      <td>21</td>\n",
       "      <td>0.052778</td>\n",
       "      <td>0.233333</td>\n",
       "    </tr>\n",
       "    <tr>\n",
       "      <th>1</th>\n",
       "      <td>102015-11-03B002</td>\n",
       "      <td>90</td>\n",
       "      <td>COMP30110</td>\n",
       "      <td>45</td>\n",
       "      <td>10</td>\n",
       "      <td>2015-11-03</td>\n",
       "      <td>B002</td>\n",
       "      <td>0.50</td>\n",
       "      <td>29.272727</td>\n",
       "      <td>32</td>\n",
       "      <td>0.325253</td>\n",
       "      <td>0.355556</td>\n",
       "    </tr>\n",
       "    <tr>\n",
       "      <th>2</th>\n",
       "      <td>112015-11-03B002</td>\n",
       "      <td>90</td>\n",
       "      <td>COMP30260</td>\n",
       "      <td>18</td>\n",
       "      <td>11</td>\n",
       "      <td>2015-11-03</td>\n",
       "      <td>B002</td>\n",
       "      <td>0.50</td>\n",
       "      <td>28.727273</td>\n",
       "      <td>36</td>\n",
       "      <td>0.319192</td>\n",
       "      <td>0.400000</td>\n",
       "    </tr>\n",
       "    <tr>\n",
       "      <th>3</th>\n",
       "      <td>122015-11-03B002</td>\n",
       "      <td>90</td>\n",
       "      <td>COMP40370</td>\n",
       "      <td>27</td>\n",
       "      <td>12</td>\n",
       "      <td>2015-11-03</td>\n",
       "      <td>B002</td>\n",
       "      <td>0.50</td>\n",
       "      <td>14.166667</td>\n",
       "      <td>31</td>\n",
       "      <td>0.157407</td>\n",
       "      <td>0.344444</td>\n",
       "    </tr>\n",
       "    <tr>\n",
       "      <th>4</th>\n",
       "      <td>132015-11-03B002</td>\n",
       "      <td>90</td>\n",
       "      <td>Vacant</td>\n",
       "      <td>0</td>\n",
       "      <td>13</td>\n",
       "      <td>2015-11-03</td>\n",
       "      <td>B002</td>\n",
       "      <td>0.00</td>\n",
       "      <td>14.250000</td>\n",
       "      <td>29</td>\n",
       "      <td>0.158333</td>\n",
       "      <td>0.322222</td>\n",
       "    </tr>\n",
       "    <tr>\n",
       "      <th>5</th>\n",
       "      <td>142015-11-03B002</td>\n",
       "      <td>90</td>\n",
       "      <td>COMP30240</td>\n",
       "      <td>42</td>\n",
       "      <td>14</td>\n",
       "      <td>2015-11-03</td>\n",
       "      <td>B002</td>\n",
       "      <td>0.75</td>\n",
       "      <td>46.363636</td>\n",
       "      <td>51</td>\n",
       "      <td>0.515152</td>\n",
       "      <td>0.566667</td>\n",
       "    </tr>\n",
       "    <tr>\n",
       "      <th>6</th>\n",
       "      <td>152015-11-03B002</td>\n",
       "      <td>90</td>\n",
       "      <td>COMP30240</td>\n",
       "      <td>42</td>\n",
       "      <td>15</td>\n",
       "      <td>2015-11-03</td>\n",
       "      <td>B002</td>\n",
       "      <td>0.25</td>\n",
       "      <td>40.272727</td>\n",
       "      <td>58</td>\n",
       "      <td>0.447475</td>\n",
       "      <td>0.644444</td>\n",
       "    </tr>\n",
       "    <tr>\n",
       "      <th>7</th>\n",
       "      <td>162015-11-03B002</td>\n",
       "      <td>90</td>\n",
       "      <td>COMP40370</td>\n",
       "      <td>27</td>\n",
       "      <td>16</td>\n",
       "      <td>2015-11-03</td>\n",
       "      <td>B002</td>\n",
       "      <td>0.25</td>\n",
       "      <td>36.416667</td>\n",
       "      <td>41</td>\n",
       "      <td>0.404630</td>\n",
       "      <td>0.455556</td>\n",
       "    </tr>\n",
       "    <tr>\n",
       "      <th>8</th>\n",
       "      <td>92015-11-04B002</td>\n",
       "      <td>90</td>\n",
       "      <td>COMP30190</td>\n",
       "      <td>29</td>\n",
       "      <td>9</td>\n",
       "      <td>2015-11-04</td>\n",
       "      <td>B002</td>\n",
       "      <td>0.25</td>\n",
       "      <td>13.454545</td>\n",
       "      <td>15</td>\n",
       "      <td>0.149495</td>\n",
       "      <td>0.166667</td>\n",
       "    </tr>\n",
       "    <tr>\n",
       "      <th>9</th>\n",
       "      <td>102015-11-04B002</td>\n",
       "      <td>90</td>\n",
       "      <td>COMP40660</td>\n",
       "      <td>53</td>\n",
       "      <td>10</td>\n",
       "      <td>2015-11-04</td>\n",
       "      <td>B002</td>\n",
       "      <td>0.25</td>\n",
       "      <td>14.416667</td>\n",
       "      <td>18</td>\n",
       "      <td>0.160185</td>\n",
       "      <td>0.200000</td>\n",
       "    </tr>\n",
       "    <tr>\n",
       "      <th>10</th>\n",
       "      <td>112015-11-04B002</td>\n",
       "      <td>90</td>\n",
       "      <td>COMP30250</td>\n",
       "      <td>22</td>\n",
       "      <td>11</td>\n",
       "      <td>2015-11-04</td>\n",
       "      <td>B002</td>\n",
       "      <td>0.25</td>\n",
       "      <td>8.363636</td>\n",
       "      <td>14</td>\n",
       "      <td>0.092929</td>\n",
       "      <td>0.155556</td>\n",
       "    </tr>\n",
       "    <tr>\n",
       "      <th>11</th>\n",
       "      <td>122015-11-04B002</td>\n",
       "      <td>90</td>\n",
       "      <td>COMP41690 (Practical)</td>\n",
       "      <td>60</td>\n",
       "      <td>12</td>\n",
       "      <td>2015-11-04</td>\n",
       "      <td>B002</td>\n",
       "      <td>0.50</td>\n",
       "      <td>33.181818</td>\n",
       "      <td>39</td>\n",
       "      <td>0.368687</td>\n",
       "      <td>0.433333</td>\n",
       "    </tr>\n",
       "    <tr>\n",
       "      <th>12</th>\n",
       "      <td>132015-11-04B002</td>\n",
       "      <td>90</td>\n",
       "      <td>COMP41690 (Lecture)</td>\n",
       "      <td>60</td>\n",
       "      <td>13</td>\n",
       "      <td>2015-11-04</td>\n",
       "      <td>B002</td>\n",
       "      <td>0.00</td>\n",
       "      <td>25.083333</td>\n",
       "      <td>35</td>\n",
       "      <td>0.278704</td>\n",
       "      <td>0.388889</td>\n",
       "    </tr>\n",
       "    <tr>\n",
       "      <th>13</th>\n",
       "      <td>142015-11-04B002</td>\n",
       "      <td>90</td>\n",
       "      <td>COMP30220</td>\n",
       "      <td>38</td>\n",
       "      <td>14</td>\n",
       "      <td>2015-11-04</td>\n",
       "      <td>B002</td>\n",
       "      <td>0.25</td>\n",
       "      <td>23.000000</td>\n",
       "      <td>27</td>\n",
       "      <td>0.255556</td>\n",
       "      <td>0.300000</td>\n",
       "    </tr>\n",
       "    <tr>\n",
       "      <th>14</th>\n",
       "      <td>152015-11-04B002</td>\n",
       "      <td>90</td>\n",
       "      <td>COMP30520 &amp; COMP41110</td>\n",
       "      <td>79</td>\n",
       "      <td>15</td>\n",
       "      <td>2015-11-04</td>\n",
       "      <td>B002</td>\n",
       "      <td>0.00</td>\n",
       "      <td>5.545455</td>\n",
       "      <td>9</td>\n",
       "      <td>0.061616</td>\n",
       "      <td>0.100000</td>\n",
       "    </tr>\n",
       "    <tr>\n",
       "      <th>15</th>\n",
       "      <td>162015-11-04B002</td>\n",
       "      <td>90</td>\n",
       "      <td>COMP30250</td>\n",
       "      <td>22</td>\n",
       "      <td>16</td>\n",
       "      <td>2015-11-04</td>\n",
       "      <td>B002</td>\n",
       "      <td>0.25</td>\n",
       "      <td>17.000000</td>\n",
       "      <td>21</td>\n",
       "      <td>0.188889</td>\n",
       "      <td>0.233333</td>\n",
       "    </tr>\n",
       "    <tr>\n",
       "      <th>16</th>\n",
       "      <td>92015-11-05B002</td>\n",
       "      <td>90</td>\n",
       "      <td>Vacant</td>\n",
       "      <td>0</td>\n",
       "      <td>9</td>\n",
       "      <td>2015-11-05</td>\n",
       "      <td>B002</td>\n",
       "      <td>0.00</td>\n",
       "      <td>6.833333</td>\n",
       "      <td>30</td>\n",
       "      <td>0.075926</td>\n",
       "      <td>0.333333</td>\n",
       "    </tr>\n",
       "    <tr>\n",
       "      <th>17</th>\n",
       "      <td>102015-11-05B002</td>\n",
       "      <td>90</td>\n",
       "      <td>COMP30110</td>\n",
       "      <td>45</td>\n",
       "      <td>10</td>\n",
       "      <td>2015-11-05</td>\n",
       "      <td>B002</td>\n",
       "      <td>0.50</td>\n",
       "      <td>33.636364</td>\n",
       "      <td>37</td>\n",
       "      <td>0.373737</td>\n",
       "      <td>0.411111</td>\n",
       "    </tr>\n",
       "    <tr>\n",
       "      <th>18</th>\n",
       "      <td>112015-11-05B002</td>\n",
       "      <td>90</td>\n",
       "      <td>COMP40370</td>\n",
       "      <td>27</td>\n",
       "      <td>11</td>\n",
       "      <td>2015-11-05</td>\n",
       "      <td>B002</td>\n",
       "      <td>0.25</td>\n",
       "      <td>32.500000</td>\n",
       "      <td>39</td>\n",
       "      <td>0.361111</td>\n",
       "      <td>0.433333</td>\n",
       "    </tr>\n",
       "    <tr>\n",
       "      <th>19</th>\n",
       "      <td>122015-11-05B002</td>\n",
       "      <td>90</td>\n",
       "      <td>COMP30260</td>\n",
       "      <td>18</td>\n",
       "      <td>12</td>\n",
       "      <td>2015-11-05</td>\n",
       "      <td>B002</td>\n",
       "      <td>0.25</td>\n",
       "      <td>20.750000</td>\n",
       "      <td>32</td>\n",
       "      <td>0.230556</td>\n",
       "      <td>0.355556</td>\n",
       "    </tr>\n",
       "  </tbody>\n",
       "</table>\n",
       "</div>"
      ]
     },
     "output_type": "execute_result",
     "metadata": {}
    }
   ],
   "source": [
    "df.head(20)"
   ]
  },
  {
   "cell_type": "markdown",
   "metadata": {},
   "source": [
    "                                                                             \n",
    "                                                                             \n",
    "                                                                                 SM Log Ave-5"
   ]
  },
  {
   "cell_type": "code",
   "execution_count": 46,
   "metadata": {},
   "outputs": [
    {
     "name": "stdout",
     "output_type": "stream",
     "text": [
      "Optimization terminated successfully.\n",
      "         Current function value: 0.417574\n",
      "         Iterations 6\n"
     ]
    }
   ],
   "source": [
    "# 4.1 - Train a logistic regression model to predict the target feature occupancy\n",
    "\n",
    "logreg = sm.logit(formula=\"Occupancy ~ \\\n",
    "            Ave_Hour_Count_Adjusted\", data=df).fit()"
   ]
  },
  {
   "cell_type": "code",
   "execution_count": 47,
   "metadata": {},
   "outputs": [
    {
     "data": {
      "text/html": [
       "<table class=\"simpletable\">\n",
       "<caption>Logit Regression Results</caption>\n",
       "<tr>\n",
       "  <th>Dep. Variable:</th>     <td>Occupancy</td>    <th>  No. Observations:  </th>  <td>   216</td>  \n",
       "</tr>\n",
       "<tr>\n",
       "  <th>Model:</th>               <td>Logit</td>      <th>  Df Residuals:      </th>  <td>   214</td>  \n",
       "</tr>\n",
       "<tr>\n",
       "  <th>Method:</th>               <td>MLE</td>       <th>  Df Model:          </th>  <td>     1</td>  \n",
       "</tr>\n",
       "<tr>\n",
       "  <th>Date:</th>          <td>Tue, 19 Jul 2016</td> <th>  Pseudo R-squ.:     </th>  <td>0.1344</td>  \n",
       "</tr>\n",
       "<tr>\n",
       "  <th>Time:</th>              <td>20:40:06</td>     <th>  Log-Likelihood:    </th> <td> -90.196</td> \n",
       "</tr>\n",
       "<tr>\n",
       "  <th>converged:</th>           <td>True</td>       <th>  LL-Null:           </th> <td> -104.20</td> \n",
       "</tr>\n",
       "<tr>\n",
       "  <th> </th>                      <td> </td>        <th>  LLR p-value:       </th> <td>1.209e-07</td>\n",
       "</tr>\n",
       "</table>\n",
       "<table class=\"simpletable\">\n",
       "<tr>\n",
       "             <td></td>                <th>coef</th>     <th>std err</th>      <th>z</th>      <th>P>|z|</th> <th>[95.0% Conf. Int.]</th> \n",
       "</tr>\n",
       "<tr>\n",
       "  <th>Intercept</th>               <td>   -2.2029</td> <td>    0.309</td> <td>   -7.120</td> <td> 0.000</td> <td>   -2.809    -1.597</td>\n",
       "</tr>\n",
       "<tr>\n",
       "  <th>Ave_Hour_Count_Adjusted</th> <td>    4.1095</td> <td>    0.920</td> <td>    4.467</td> <td> 0.000</td> <td>    2.307     5.912</td>\n",
       "</tr>\n",
       "</table>"
      ]
     },
     "output_type": "execute_result",
     "metadata": {}
    }
   ],
   "source": [
    "logreg.summary()"
   ]
  },
  {
   "cell_type": "code",
   "execution_count": null,
   "metadata": {},
   "outputs": [],
   "source": [
    ""
   ]
  },
  {
   "cell_type": "markdown",
   "metadata": {},
   "source": [
    "    \n",
    "                                    LINEAR STUFF\n",
    "                                    "
   ]
  },
  {
   "cell_type": "code",
   "execution_count": 48,
   "metadata": {},
   "outputs": [
    {
     "data": {
      "text/plain": [
       "Index(['ID', 'Room_Capacity', 'Module', 'Registered_Students', 'Hour', 'Date',\n",
       "       'Room', 'Occupancy', 'Ave_Hour_Count', 'Max_Hour_Count',\n",
       "       'Ave_Hour_Count_Adjusted', 'Max_Hour_Count_Adjusted'],\n",
       "      dtype='object')"
      ]
     },
     "execution_count": 48,
     "output_type": "execute_result",
     "metadata": {}
    }
   ],
   "source": [
    "df.columns"
   ]
  },
  {
   "cell_type": "code",
   "execution_count": 49,
   "metadata": {},
   "outputs": [],
   "source": [
    "df['Ave_Count_Squared'] = df['Ave_Hour_Count_Adjusted']"
   ]
  },
  {
   "cell_type": "code",
   "execution_count": 50,
   "metadata": {},
   "outputs": [
    {
     "data": {
      "text/plain": [
       "12"
      ]
     },
     "execution_count": 50,
     "output_type": "execute_result",
     "metadata": {}
    }
   ],
   "source": [
    "df.columns.get_loc('Ave_Count_Squared')"
   ]
  },
  {
   "cell_type": "code",
   "execution_count": 51,
   "metadata": {},
   "outputs": [
    {
     "name": "stdout",
     "output_type": "stream",
     "text": [
      "0.00278549382716\n",
      "0.105789205183\n",
      "0.101883481277\n",
      "0.0247770919067\n",
      "0.0250694444444\n",
      "0.265381083563\n",
      "0.200233649628\n",
      "0.163725137174\n",
      "0.0223487399245\n",
      "0.0256592935528\n",
      "0.00863585348434\n",
      "0.135930007142\n",
      "0.0776757544582\n",
      "0.0653086419753\n",
      "0.00379655137231\n",
      "0.0356790123457\n",
      "0.00576474622771\n",
      "0.139679624528\n",
      "0.130401234568\n",
      "0.0531558641975\n",
      "0.0230589849108\n",
      "0.125702479339\n",
      "0.300466392318\n",
      "0.139239540466\n",
      "0.000721021947874\n",
      "0.00340277777778\n",
      "0.0378086419753\n",
      "0.0244864540466\n",
      "0.0146679012346\n",
      "0.109879972565\n",
      "0.144822530864\n",
      "0.0531558641975\n",
      "0.0267768595041\n",
      "0.032600308642\n",
      "0.0108244056729\n",
      "0.0381695816187\n",
      "0.129309254158\n",
      "0.0208641975309\n",
      "0.0283984910837\n",
      "0.509637345679\n",
      "0.000637690031629\n",
      "0.0731001371742\n",
      "0.0588511659808\n",
      "0.142716049383\n",
      "0.0161983471074\n",
      "0.236058565453\n",
      "0.200007716049\n",
      "0.143416495199\n",
      "0.0159422507907\n",
      "0.0158573388203\n",
      "0.0146923783287\n",
      "0.16977451989\n",
      "0.0436345679012\n",
      "0.0332724622771\n",
      "0.0956412894376\n",
      "0.0776757544582\n",
      "0.00417916539129\n",
      "0.102637174211\n",
      "0.117369684499\n",
      "0.0274420977451\n",
      "0.0079012345679\n",
      "0.10086505487\n",
      "0.438293038409\n",
      "0.310703017833\n",
      "0.005625\n",
      "0.01\n",
      "0.01887154372\n",
      "0.0293424211248\n",
      "0.0211325445816\n",
      "0.0385322359396\n",
      "0.0280872770919\n",
      "0.00840277777778\n",
      "0.00082390260631\n",
      "0.00669421487603\n",
      "0.334995408632\n",
      "0.0461454046639\n",
      "0.0177777777778\n",
      "0.121441689624\n",
      "0.055867768595\n",
      "0.0113383058985\n",
      "0.000539740842771\n",
      "0.0247770919067\n",
      "0.0387970615243\n",
      "0.788328741965\n",
      "0.988919753086\n",
      "0.0638966049383\n",
      "0.0229568411387\n",
      "0.00686052443628\n",
      "0.0303017832647\n",
      "0.125702479339\n",
      "0.0464641975309\n",
      "0.26598851166\n",
      "0.113593964335\n",
      "0.0376124885216\n",
      "0.00823388203018\n",
      "0.0105632716049\n",
      "0.0813305898491\n",
      "0.261234567901\n",
      "0.0776757544582\n",
      "0.075625\n",
      "0.0378086419753\n",
      "0.332758058985\n",
      "0.276598079561\n",
      "0.0262560013717\n",
      "0.0967901234568\n",
      "0.16\n",
      "0.164885215794\n",
      "0.278549382716\n",
      "0.0967901234568\n",
      "0.142017318244\n",
      "0.0911145404664\n",
      "0.0192901234568\n",
      "0.000918273645546\n",
      "0.0205975651578\n",
      "0.402284807956\n",
      "0.09\n",
      "0.0116814610754\n",
      "0.0743801652893\n",
      "0.0312765775034\n",
      "0.0022299382716\n",
      "0.000294867870625\n",
      "0.00725651577503\n",
      "0.0412213039486\n",
      "0.820030864198\n",
      "0.969130864198\n",
      "0.209221536351\n",
      "0.00240826474623\n",
      "0.0445679012346\n",
      "0.00499948984797\n",
      "0.00329561042524\n",
      "0.00757544581619\n",
      "0.527457402306\n",
      "0.0776757544582\n",
      "0.0461454046639\n",
      "0.0208641975309\n",
      "0.0190337791495\n",
      "0.0597530864198\n",
      "0.0993204775023\n",
      "0.0511947760433\n",
      "0.079231824417\n",
      "0.0370919067215\n",
      "0.249074931413\n",
      "0.16977451989\n",
      "0.032600308642\n",
      "0.216013688017\n",
      "0.194036609521\n",
      "0.0658494979851\n",
      "0.209722365702\n",
      "0.0509664830119\n",
      "0.112585205929\n",
      "0.0688520251349\n",
      "0.000644082874197\n",
      "0.0180358240557\n",
      "0.00103664485767\n",
      "0.073481319582\n",
      "0.0766511850283\n",
      "0.00414657943067\n",
      "0.00164270546373\n",
      "4.93477221501e-05\n",
      "6.14712109829e-06\n",
      "0.768942980946\n",
      "0.0241404275664\n",
      "0.0827869834711\n",
      "0.0406083562902\n",
      "0.161823347107\n",
      "0.0748316371833\n",
      "1.29132231405e-06\n",
      "0.0\n",
      "0.00246226469238\n",
      "0.0719214876033\n",
      "0.01890625\n",
      "0.000499454775023\n",
      "0.0500132231405\n",
      "0.394897985537\n",
      "0.00281221303949\n",
      "4.14657943067e-05\n",
      "0.0134828563623\n",
      "0.0203927054637\n",
      "0.0242690048494\n",
      "0.0768801652893\n",
      "0.000986271429547\n",
      "0.0358700642792\n",
      "0.103177226814\n",
      "0.00344711317723\n",
      "0.0794214876033\n",
      "0.2518975264\n",
      "0.0596913739669\n",
      "0.158022676047\n",
      "0.0552832798306\n",
      "0.0912439382556\n",
      "0.0576727502296\n",
      "0.000146923783287\n",
      "0.0108435216174\n",
      "0.000265294995409\n",
      "0.054895328188\n",
      "0.0752089072544\n",
      "0.00113140495868\n",
      "0.0030584251607\n",
      "0.0256727789256\n",
      "0.000663452708907\n",
      "0.111478724131\n",
      "0.0184918790174\n",
      "0.0504546889348\n",
      "0.054895328188\n",
      "0.11237732438\n",
      "0.0437190082645\n",
      "2.81221303949e-05\n",
      "0.0540914830119\n",
      "0.000895460284665\n",
      "0.0608580356533\n",
      "0.0222527491292\n",
      "0.000895460284665\n",
      "0.0128272784665\n",
      "0.22347107438\n",
      "0.00048266758494\n",
      "5.73921028466e-07\n"
     ]
    }
   ],
   "source": [
    "for row in range(df.shape[0]):\n",
    "    x = df.iat[row, 10]\n",
    "    print(x**2)\n",
    "    df.iat[row, 12] = x**2"
   ]
  },
  {
   "cell_type": "code",
   "execution_count": 52,
   "metadata": {},
   "outputs": [
    {
     "data": {
      "text/html": [
       "<div>\n",
       "<table border=\"1\" class=\"dataframe\">\n",
       "  <thead>\n",
       "    <tr style=\"text-align: right;\">\n",
       "      <th></th>\n",
       "      <th>ID</th>\n",
       "      <th>Room_Capacity</th>\n",
       "      <th>Module</th>\n",
       "      <th>Registered_Students</th>\n",
       "      <th>Hour</th>\n",
       "      <th>Date</th>\n",
       "      <th>Room</th>\n",
       "      <th>Occupancy</th>\n",
       "      <th>Ave_Hour_Count</th>\n",
       "      <th>Max_Hour_Count</th>\n",
       "      <th>Ave_Hour_Count_Adjusted</th>\n",
       "      <th>Max_Hour_Count_Adjusted</th>\n",
       "      <th>Ave_Count_Squared</th>\n",
       "    </tr>\n",
       "  </thead>\n",
       "  <tbody>\n",
       "    <tr>\n",
       "      <th>0</th>\n",
       "      <td>92015-11-03B002</td>\n",
       "      <td>90</td>\n",
       "      <td>Vacant</td>\n",
       "      <td>0</td>\n",
       "      <td>9</td>\n",
       "      <td>2015-11-03</td>\n",
       "      <td>B002</td>\n",
       "      <td>0.00</td>\n",
       "      <td>4.750000</td>\n",
       "      <td>21</td>\n",
       "      <td>0.052778</td>\n",
       "      <td>0.233333</td>\n",
       "      <td>0.002785</td>\n",
       "    </tr>\n",
       "    <tr>\n",
       "      <th>1</th>\n",
       "      <td>102015-11-03B002</td>\n",
       "      <td>90</td>\n",
       "      <td>COMP30110</td>\n",
       "      <td>45</td>\n",
       "      <td>10</td>\n",
       "      <td>2015-11-03</td>\n",
       "      <td>B002</td>\n",
       "      <td>0.50</td>\n",
       "      <td>29.272727</td>\n",
       "      <td>32</td>\n",
       "      <td>0.325253</td>\n",
       "      <td>0.355556</td>\n",
       "      <td>0.105789</td>\n",
       "    </tr>\n",
       "    <tr>\n",
       "      <th>2</th>\n",
       "      <td>112015-11-03B002</td>\n",
       "      <td>90</td>\n",
       "      <td>COMP30260</td>\n",
       "      <td>18</td>\n",
       "      <td>11</td>\n",
       "      <td>2015-11-03</td>\n",
       "      <td>B002</td>\n",
       "      <td>0.50</td>\n",
       "      <td>28.727273</td>\n",
       "      <td>36</td>\n",
       "      <td>0.319192</td>\n",
       "      <td>0.400000</td>\n",
       "      <td>0.101883</td>\n",
       "    </tr>\n",
       "    <tr>\n",
       "      <th>3</th>\n",
       "      <td>122015-11-03B002</td>\n",
       "      <td>90</td>\n",
       "      <td>COMP40370</td>\n",
       "      <td>27</td>\n",
       "      <td>12</td>\n",
       "      <td>2015-11-03</td>\n",
       "      <td>B002</td>\n",
       "      <td>0.50</td>\n",
       "      <td>14.166667</td>\n",
       "      <td>31</td>\n",
       "      <td>0.157407</td>\n",
       "      <td>0.344444</td>\n",
       "      <td>0.024777</td>\n",
       "    </tr>\n",
       "    <tr>\n",
       "      <th>4</th>\n",
       "      <td>132015-11-03B002</td>\n",
       "      <td>90</td>\n",
       "      <td>Vacant</td>\n",
       "      <td>0</td>\n",
       "      <td>13</td>\n",
       "      <td>2015-11-03</td>\n",
       "      <td>B002</td>\n",
       "      <td>0.00</td>\n",
       "      <td>14.250000</td>\n",
       "      <td>29</td>\n",
       "      <td>0.158333</td>\n",
       "      <td>0.322222</td>\n",
       "      <td>0.025069</td>\n",
       "    </tr>\n",
       "    <tr>\n",
       "      <th>5</th>\n",
       "      <td>142015-11-03B002</td>\n",
       "      <td>90</td>\n",
       "      <td>COMP30240</td>\n",
       "      <td>42</td>\n",
       "      <td>14</td>\n",
       "      <td>2015-11-03</td>\n",
       "      <td>B002</td>\n",
       "      <td>0.75</td>\n",
       "      <td>46.363636</td>\n",
       "      <td>51</td>\n",
       "      <td>0.515152</td>\n",
       "      <td>0.566667</td>\n",
       "      <td>0.265381</td>\n",
       "    </tr>\n",
       "    <tr>\n",
       "      <th>6</th>\n",
       "      <td>152015-11-03B002</td>\n",
       "      <td>90</td>\n",
       "      <td>COMP30240</td>\n",
       "      <td>42</td>\n",
       "      <td>15</td>\n",
       "      <td>2015-11-03</td>\n",
       "      <td>B002</td>\n",
       "      <td>0.25</td>\n",
       "      <td>40.272727</td>\n",
       "      <td>58</td>\n",
       "      <td>0.447475</td>\n",
       "      <td>0.644444</td>\n",
       "      <td>0.200234</td>\n",
       "    </tr>\n",
       "    <tr>\n",
       "      <th>7</th>\n",
       "      <td>162015-11-03B002</td>\n",
       "      <td>90</td>\n",
       "      <td>COMP40370</td>\n",
       "      <td>27</td>\n",
       "      <td>16</td>\n",
       "      <td>2015-11-03</td>\n",
       "      <td>B002</td>\n",
       "      <td>0.25</td>\n",
       "      <td>36.416667</td>\n",
       "      <td>41</td>\n",
       "      <td>0.404630</td>\n",
       "      <td>0.455556</td>\n",
       "      <td>0.163725</td>\n",
       "    </tr>\n",
       "    <tr>\n",
       "      <th>8</th>\n",
       "      <td>92015-11-04B002</td>\n",
       "      <td>90</td>\n",
       "      <td>COMP30190</td>\n",
       "      <td>29</td>\n",
       "      <td>9</td>\n",
       "      <td>2015-11-04</td>\n",
       "      <td>B002</td>\n",
       "      <td>0.25</td>\n",
       "      <td>13.454545</td>\n",
       "      <td>15</td>\n",
       "      <td>0.149495</td>\n",
       "      <td>0.166667</td>\n",
       "      <td>0.022349</td>\n",
       "    </tr>\n",
       "    <tr>\n",
       "      <th>9</th>\n",
       "      <td>102015-11-04B002</td>\n",
       "      <td>90</td>\n",
       "      <td>COMP40660</td>\n",
       "      <td>53</td>\n",
       "      <td>10</td>\n",
       "      <td>2015-11-04</td>\n",
       "      <td>B002</td>\n",
       "      <td>0.25</td>\n",
       "      <td>14.416667</td>\n",
       "      <td>18</td>\n",
       "      <td>0.160185</td>\n",
       "      <td>0.200000</td>\n",
       "      <td>0.025659</td>\n",
       "    </tr>\n",
       "  </tbody>\n",
       "</table>\n",
       "</div>"
      ]
     },
     "output_type": "execute_result",
     "metadata": {}
    }
   ],
   "source": [
    "df.head(10)"
   ]
  },
  {
   "cell_type": "code",
   "execution_count": 125,
   "metadata": {},
   "outputs": [
    {
     "name": "stdout",
     "output_type": "stream",
     "text": [
      "                            OLS Regression Results                            \n",
      "==============================================================================\n",
      "Dep. Variable:              Occupancy   R-squared:                       0.463\n",
      "Model:                            OLS   Adj. R-squared:                  0.460\n",
      "Method:                 Least Squares   F-statistic:                     184.2\n",
      "Date:                Tue, 19 Jul 2016   Prob (F-statistic):           1.10e-30\n",
      "Time:                        21:10:13   Log-Likelihood:                 89.766\n",
      "No. Observations:                 216   AIC:                            -175.5\n",
      "Df Residuals:                     214   BIC:                            -168.8\n",
      "Df Model:                           1                                         \n",
      "Covariance Type:            nonrobust                                         \n",
      "===========================================================================================\n",
      "                              coef    std err          t      P>|t|      [95.0% Conf. Int.]\n",
      "-------------------------------------------------------------------------------------------\n",
      "Intercept                   0.0580      0.018      3.245      0.001         0.023     0.093\n",
      "Ave_Hour_Count_Adjusted     0.7905      0.058     13.573      0.000         0.676     0.905\n",
      "==============================================================================\n",
      "Omnibus:                       14.489   Durbin-Watson:                   1.714\n",
      "Prob(Omnibus):                  0.001   Jarque-Bera (JB):               16.710\n",
      "Skew:                           0.535   Prob(JB):                     0.000235\n",
      "Kurtosis:                       3.845   Cond. No.                         5.66\n",
      "==============================================================================\n",
      "\n",
      "Warnings:\n",
      "[1] Standard Errors assume that the covariance matrix of the errors is correctly specified.\n"
     ]
    }
   ],
   "source": [
    "lm = sm.ols(formula=\"Occupancy ~ Ave_Hour_Count_Adjusted\", data=df).fit()\n",
    "\n",
    "print(lm.summary())"
   ]
  },
  {
   "cell_type": "code",
   "execution_count": null,
   "metadata": {},
   "outputs": [],
   "source": [
    ""
   ]
  },
  {
   "cell_type": "markdown",
   "metadata": {},
   "source": [
    "\n",
    "                                            SKLearn Log Reg Prep\n",
    "                                            "
   ]
  },
  {
   "cell_type": "code",
   "execution_count": 54,
   "metadata": {},
   "outputs": [
    {
     "data": {
      "text/plain": [
       "Index(['ID', 'Room_Capacity', 'Module', 'Registered_Students', 'Hour', 'Date',\n",
       "       'Room', 'Occupancy', 'Ave_Hour_Count', 'Max_Hour_Count',\n",
       "       'Ave_Hour_Count_Adjusted', 'Max_Hour_Count_Adjusted',\n",
       "       'Ave_Count_Squared'],\n",
       "      dtype='object')"
      ]
     },
     "execution_count": 54,
     "output_type": "execute_result",
     "metadata": {}
    }
   ],
   "source": [
    "df.columns"
   ]
  },
  {
   "cell_type": "code",
   "execution_count": 55,
   "metadata": {},
   "outputs": [],
   "source": [
    "# Set your dummies as necessary\n",
    "\n",
    "date_dummies = pd.get_dummies(df.Date, prefix='Date')\n",
    "module_dummies = pd.get_dummies(df.Module, prefix='Module')\n",
    "room_dummies = pd.get_dummies(df.Room, prefix='Room')\n",
    "hour_dummies = pd.get_dummies(df.Room, prefix='Hour')"
   ]
  },
  {
   "cell_type": "code",
   "execution_count": 56,
   "metadata": {},
   "outputs": [
    {
     "data": {
      "text/plain": [
       "Index(['Module', 'Registered_Students', 'Hour', 'Occupancy',\n",
       "       'Ave_Hour_Count_Adjusted'],\n",
       "      dtype='object')"
      ]
     },
     "execution_count": 56,
     "output_type": "execute_result",
     "metadata": {}
    }
   ],
   "source": [
    "ave_Adj_Five_Model.columns"
   ]
  },
  {
   "cell_type": "code",
   "execution_count": 103,
   "metadata": {},
   "outputs": [],
   "source": [
    "def SKLogR(df):\n",
    "    \n",
    "    intercept = pd.DataFrame({'Intercept': np.ones(216)})\n",
    "    df = pd.concat([intercept, df], axis=1)\n",
    "    \n",
    "    for i in df.columns:\n",
    "        if i == 'Room':\n",
    "            df = pd.concat([df, room_dummies], axis=1)\n",
    "            del df['Room']\n",
    "            \n",
    "        if i == 'Date':\n",
    "            df = pd.concat([df, date_dummies], axis=1)\n",
    "            del df['Date']\n",
    "        \n",
    "        if i == 'Module':\n",
    "            df = pd.concat([df, module_dummies], axis=1)\n",
    "            del df['Module']\n",
    "            \n",
    "        if i == 'Hour':\n",
    "            df = pd.concat([df, hour_dummies], axis=1)\n",
    "            del df['Hour']\n",
    "            \n",
    "            \n",
    "    X = df.ix[:, df.columns != 'Occupancy']\n",
    "    Y = df.Occupancy\n",
    "    \n",
    "    for i in X.columns:\n",
    "        j = i.split('_')\n",
    "    \n",
    "        if j[0] in ['Date', 'Module', 'Room', 'Hour']:\n",
    "            if i == 'Room_Capacity':\n",
    "                continue\n",
    "\n",
    "            X[i] = X[i].astype('category')\n",
    "        \n",
    "    logSK = LogisticRegression().fit(X, Y)\n",
    "    logSK.score(X, Y)\n",
    "    \n",
    "    scores = cross_val_score(LogisticRegression(), X, Y, scoring='accuracy', cv=12)\n",
    "    print(scores.mean())"
   ]
  },
  {
   "cell_type": "markdown",
   "metadata": {},
   "source": [
    "\n",
    "                                        SKLearn Log Reg - 1\n",
    "                                    \n",
    "             'Module', 'Registered_Students', 'Hour', 'Occupancy', 'Ave_Hour_Count_Adjusted'\n",
    "             \n",
    "                                            ave_5\n",
    "                                            ave_3\n",
    "                                            ave_2\n",
    "                                            max_5\n",
    "                                            max_3\n",
    "                                            max_2"
   ]
  },
  {
   "cell_type": "code",
   "execution_count": 104,
   "metadata": {},
   "outputs": [
    {
     "name": "stdout",
     "output_type": "stream",
     "text": [
      "0.49386538241\n"
     ]
    },
    {
     "name": "stderr",
     "output_type": "stream",
     "text": [
      "/home/mike/anaconda3/lib/python3.5/site-packages/ipykernel/__main__.py:34: SettingWithCopyWarning: \n",
      "A value is trying to be set on a copy of a slice from a DataFrame.\n",
      "Try using .loc[row_indexer,col_indexer] = value instead\n",
      "\n",
      "See the caveats in the documentation: http://pandas.pydata.org/pandas-docs/stable/indexing.html#indexing-view-versus-copy\n"
     ]
    }
   ],
   "source": [
    "SKLogR(ave_Adj_Five_Model)"
   ]
  },
  {
   "cell_type": "code",
   "execution_count": 105,
   "metadata": {},
   "outputs": [
    {
     "name": "stdout",
     "output_type": "stream",
     "text": [
      "0.485532049077\n"
     ]
    },
    {
     "name": "stderr",
     "output_type": "stream",
     "text": [
      "/home/mike/anaconda3/lib/python3.5/site-packages/ipykernel/__main__.py:34: SettingWithCopyWarning: \n",
      "A value is trying to be set on a copy of a slice from a DataFrame.\n",
      "Try using .loc[row_indexer,col_indexer] = value instead\n",
      "\n",
      "See the caveats in the documentation: http://pandas.pydata.org/pandas-docs/stable/indexing.html#indexing-view-versus-copy\n"
     ]
    }
   ],
   "source": [
    "SKLogR(max_Adj_Five_Model)"
   ]
  },
  {
   "cell_type": "code",
   "execution_count": 106,
   "metadata": {},
   "outputs": [
    {
     "name": "stdout",
     "output_type": "stream",
     "text": [
      "0.667079463364\n"
     ]
    },
    {
     "name": "stderr",
     "output_type": "stream",
     "text": [
      "/home/mike/anaconda3/lib/python3.5/site-packages/ipykernel/__main__.py:34: SettingWithCopyWarning: \n",
      "A value is trying to be set on a copy of a slice from a DataFrame.\n",
      "Try using .loc[row_indexer,col_indexer] = value instead\n",
      "\n",
      "See the caveats in the documentation: http://pandas.pydata.org/pandas-docs/stable/indexing.html#indexing-view-versus-copy\n"
     ]
    }
   ],
   "source": [
    "SKLogR(ave_Adj_Three_Model)"
   ]
  },
  {
   "cell_type": "code",
   "execution_count": 107,
   "metadata": {},
   "outputs": [
    {
     "name": "stdout",
     "output_type": "stream",
     "text": [
      "0.649214539617\n"
     ]
    },
    {
     "name": "stderr",
     "output_type": "stream",
     "text": [
      "/home/mike/anaconda3/lib/python3.5/site-packages/ipykernel/__main__.py:34: SettingWithCopyWarning: \n",
      "A value is trying to be set on a copy of a slice from a DataFrame.\n",
      "Try using .loc[row_indexer,col_indexer] = value instead\n",
      "\n",
      "See the caveats in the documentation: http://pandas.pydata.org/pandas-docs/stable/indexing.html#indexing-view-versus-copy\n"
     ]
    }
   ],
   "source": [
    "SKLogR(max_Adj_Three_Model)"
   ]
  },
  {
   "cell_type": "code",
   "execution_count": 108,
   "metadata": {},
   "outputs": [
    {
     "name": "stdout",
     "output_type": "stream",
     "text": [
      "0.76559454191\n"
     ]
    },
    {
     "name": "stderr",
     "output_type": "stream",
     "text": [
      "/home/mike/anaconda3/lib/python3.5/site-packages/ipykernel/__main__.py:34: SettingWithCopyWarning: \n",
      "A value is trying to be set on a copy of a slice from a DataFrame.\n",
      "Try using .loc[row_indexer,col_indexer] = value instead\n",
      "\n",
      "See the caveats in the documentation: http://pandas.pydata.org/pandas-docs/stable/indexing.html#indexing-view-versus-copy\n"
     ]
    }
   ],
   "source": [
    "SKLogR(ave_Adj_Bin_Model)"
   ]
  },
  {
   "cell_type": "code",
   "execution_count": 109,
   "metadata": {},
   "outputs": [
    {
     "name": "stdout",
     "output_type": "stream",
     "text": [
      "0.736971104231\n"
     ]
    },
    {
     "name": "stderr",
     "output_type": "stream",
     "text": [
      "/home/mike/anaconda3/lib/python3.5/site-packages/ipykernel/__main__.py:34: SettingWithCopyWarning: \n",
      "A value is trying to be set on a copy of a slice from a DataFrame.\n",
      "Try using .loc[row_indexer,col_indexer] = value instead\n",
      "\n",
      "See the caveats in the documentation: http://pandas.pydata.org/pandas-docs/stable/indexing.html#indexing-view-versus-copy\n"
     ]
    }
   ],
   "source": [
    "SKLogR(max_Adj_Bin_Model)"
   ]
  },
  {
   "cell_type": "code",
   "execution_count": null,
   "metadata": {},
   "outputs": [],
   "source": [
    ""
   ]
  },
  {
   "cell_type": "markdown",
   "metadata": {},
   "source": [
    "\n",
    "                                        SKLearn Log Reg - 2\n",
    "                                    \n",
    "                                     'Ave_Hour_Count_Adjusted'\n",
    "             \n",
    "                                            ave_5\n",
    "                                            ave_3\n",
    "                                            ave_2"
   ]
  },
  {
   "cell_type": "code",
   "execution_count": 110,
   "metadata": {},
   "outputs": [
    {
     "name": "stdout",
     "output_type": "stream",
     "text": [
      "0.575861426442\n"
     ]
    }
   ],
   "source": [
    "SKLogR(min_five_model)"
   ]
  },
  {
   "cell_type": "code",
   "execution_count": 111,
   "metadata": {},
   "outputs": [
    {
     "name": "stdout",
     "output_type": "stream",
     "text": [
      "0.635182318541\n"
     ]
    }
   ],
   "source": [
    "SKLogR(min_three_model)"
   ]
  },
  {
   "cell_type": "code",
   "execution_count": 112,
   "metadata": {},
   "outputs": [
    {
     "name": "stdout",
     "output_type": "stream",
     "text": [
      "0.738820089439\n"
     ]
    }
   ],
   "source": [
    "SKLogR(min_two_model)"
   ]
  },
  {
   "cell_type": "markdown",
   "metadata": {},
   "source": [
    "\n",
    "                                        SKLearn Log Reg - 2\n",
    "                                    \n",
    "                                 'Ave_Hour_Count_Adjusted, 'Room'\n",
    "             \n",
    "                                            ave_5\n",
    "                                            ave_3\n",
    "                                            ave_2\n",
    "                                            \n",
    "                                           NOT ROOM"
   ]
  },
  {
   "cell_type": "code",
   "execution_count": 113,
   "metadata": {},
   "outputs": [
    {
     "name": "stdout",
     "output_type": "stream",
     "text": [
      "0.54459494324\n"
     ]
    }
   ],
   "source": [
    "SKLogR(room_ave_five)"
   ]
  },
  {
   "cell_type": "code",
   "execution_count": 114,
   "metadata": {},
   "outputs": [
    {
     "name": "stdout",
     "output_type": "stream",
     "text": [
      "0.654790161679\n"
     ]
    }
   ],
   "source": [
    "SKLogR(room_ave_three)"
   ]
  },
  {
   "cell_type": "code",
   "execution_count": 115,
   "metadata": {},
   "outputs": [
    {
     "name": "stdout",
     "output_type": "stream",
     "text": [
      "0.719728242174\n"
     ]
    }
   ],
   "source": [
    "SKLogR(room_ave_two)"
   ]
  },
  {
   "cell_type": "markdown",
   "metadata": {},
   "source": [
    "\n",
    "                                        SKLearn Log Reg - 4\n",
    "                                    \n",
    "                                 'Ave_Hour_Count_Adjusted, 'Module'\n",
    "             \n",
    "                                            ave_5\n",
    "                                            ave_3\n",
    "                                            ave_2\n",
    "                                            \n",
    "                                         MAYBE MODULE"
   ]
  },
  {
   "cell_type": "code",
   "execution_count": 127,
   "metadata": {},
   "outputs": [],
   "source": [
    "pd.options.mode.chained_assignment = None"
   ]
  },
  {
   "cell_type": "code",
   "execution_count": 128,
   "metadata": {},
   "outputs": [
    {
     "name": "stdout",
     "output_type": "stream",
     "text": [
      "0.514017887857\n"
     ]
    }
   ],
   "source": [
    "SKLogR(mod_ave_five)"
   ]
  },
  {
   "cell_type": "code",
   "execution_count": 129,
   "metadata": {},
   "outputs": [
    {
     "name": "stdout",
     "output_type": "stream",
     "text": [
      "0.695755933953\n"
     ]
    }
   ],
   "source": [
    "SKLogR(mod_ave_three)"
   ]
  },
  {
   "cell_type": "code",
   "execution_count": 130,
   "metadata": {},
   "outputs": [
    {
     "name": "stdout",
     "output_type": "stream",
     "text": [
      "0.770768833849\n"
     ]
    }
   ],
   "source": [
    "SKLogR(mod_ave_two)"
   ]
  },
  {
   "cell_type": "markdown",
   "metadata": {},
   "source": [
    "\n",
    "                                        \n",
    "                                        SKLearn Log Reg - 5\n",
    "                                    \n",
    "                                 'Ave_Hour_Count_Adjusted, 'Room'\n",
    "             \n",
    "                                            ave_5\n",
    "                                            ave_3\n",
    "                                            ave_2\n",
    "                                            \n",
    "                                           NOT ROOM"
   ]
  },
  {
   "cell_type": "code",
   "execution_count": 131,
   "metadata": {},
   "outputs": [
    {
     "name": "stdout",
     "output_type": "stream",
     "text": [
      "0.511231510148\n"
     ]
    }
   ],
   "source": [
    "SKLogR(room_name_ave_five)"
   ]
  },
  {
   "cell_type": "code",
   "execution_count": 132,
   "metadata": {},
   "outputs": [
    {
     "name": "stdout",
     "output_type": "stream",
     "text": [
      "0.67769464511\n"
     ]
    }
   ],
   "source": [
    "SKLogR(room_name_ave_three)"
   ]
  },
  {
   "cell_type": "code",
   "execution_count": 133,
   "metadata": {},
   "outputs": [
    {
     "name": "stdout",
     "output_type": "stream",
     "text": [
      "0.719455911019\n"
     ]
    }
   ],
   "source": [
    "SKLogR(room_name_ave_two)"
   ]
  },
  {
   "cell_type": "markdown",
   "metadata": {},
   "source": [
    "\n",
    "                                        \n",
    "                                        SKLearn Log Reg - 6\n",
    "                                    \n",
    "                                 'Ave_Hour_Count_Adjusted, 'Hour'\n",
    "             \n",
    "                                            ave_5\n",
    "                                            ave_3\n",
    "                                            ave_2\n",
    "                                            \n",
    "                                           NOT ROOM"
   ]
  },
  {
   "cell_type": "code",
   "execution_count": 134,
   "metadata": {},
   "outputs": [
    {
     "name": "stdout",
     "output_type": "stream",
     "text": [
      "0.511231510148\n"
     ]
    }
   ],
   "source": [
    "SKLogR(hour_ave_five)"
   ]
  },
  {
   "cell_type": "code",
   "execution_count": 135,
   "metadata": {},
   "outputs": [
    {
     "name": "stdout",
     "output_type": "stream",
     "text": [
      "0.67769464511\n"
     ]
    }
   ],
   "source": [
    "SKLogR(hour_ave_three)"
   ]
  },
  {
   "cell_type": "code",
   "execution_count": 136,
   "metadata": {},
   "outputs": [
    {
     "name": "stdout",
     "output_type": "stream",
     "text": [
      "0.719455911019\n"
     ]
    }
   ],
   "source": [
    "SKLogR(hour_ave_two)"
   ]
  }
 ],
 "metadata": {
  "kernelspec": {
   "display_name": "Python 3",
   "language": "python",
   "name": "python3"
  },
  "language_info": {
   "codemirror_mode": {
    "name": "ipython",
    "version": 3.0
   },
   "file_extension": ".py",
   "mimetype": "text/x-python",
   "name": "python",
   "nbconvert_exporter": "python",
   "pygments_lexer": "ipython3",
   "version": "3.5.1"
  }
 },
 "nbformat": 4,
 "nbformat_minor": 0
}