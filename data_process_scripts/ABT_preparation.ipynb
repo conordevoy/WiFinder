{
 "cells": [
  {
   "cell_type": "code",
   "execution_count": 1,
   "metadata": {},
   "outputs": [],
   "source": [
    "import pandas as pd\n",
    "import numpy as np\n",
    "import matplotlib.pyplot as plt\n",
    "import statsmodels.formula.api as sm\n",
    "import statsmodels\n",
    "from patsy import dmatrices\n",
    "from sklearn.linear_model import LogisticRegression\n",
    "from sklearn.cross_validation import train_test_split\n",
    "from sklearn import metrics\n",
    "from sklearn.cross_validation import cross_val_score\n",
    "import os\n",
    "%matplotlib inline"
   ]
  },
  {
   "cell_type": "code",
   "execution_count": 2,
   "metadata": {},
   "outputs": [],
   "source": [
    "# os.chdir('/home/mike/PycharmProjects/WiFinder/Data/final_csvs')"
   ]
  },
  {
   "cell_type": "code",
   "execution_count": 3,
   "metadata": {},
   "outputs": [],
   "source": [
    "df = pd.read_csv('merged_table.csv')"
   ]
  },
  {
   "cell_type": "code",
   "execution_count": 4,
   "metadata": {},
   "outputs": [
    {
     "data": {
      "text/html": [
       "<div>\n",
       "<table border=\"1\" class=\"dataframe\">\n",
       "  <thead>\n",
       "    <tr style=\"text-align: right;\">\n",
       "      <th></th>\n",
       "      <th>Associated_count</th>\n",
       "      <th>Time</th>\n",
       "      <th>ID</th>\n",
       "      <th>Room_Capacity</th>\n",
       "      <th>Module</th>\n",
       "      <th>Registered_Students</th>\n",
       "      <th>Hour</th>\n",
       "      <th>Date</th>\n",
       "      <th>Room</th>\n",
       "      <th>Occupancy</th>\n",
       "    </tr>\n",
       "  </thead>\n",
       "  <tbody>\n",
       "    <tr>\n",
       "      <th>0</th>\n",
       "      <td>2</td>\n",
       "      <td>09:02:20</td>\n",
       "      <td>92015-11-03B002</td>\n",
       "      <td>90</td>\n",
       "      <td>Vacant</td>\n",
       "      <td>-1</td>\n",
       "      <td>9</td>\n",
       "      <td>2015-11-03</td>\n",
       "      <td>B002</td>\n",
       "      <td>0</td>\n",
       "    </tr>\n",
       "    <tr>\n",
       "      <th>1</th>\n",
       "      <td>1</td>\n",
       "      <td>09:07:24</td>\n",
       "      <td>92015-11-03B002</td>\n",
       "      <td>90</td>\n",
       "      <td>Vacant</td>\n",
       "      <td>-1</td>\n",
       "      <td>9</td>\n",
       "      <td>2015-11-03</td>\n",
       "      <td>B002</td>\n",
       "      <td>0</td>\n",
       "    </tr>\n",
       "    <tr>\n",
       "      <th>2</th>\n",
       "      <td>0</td>\n",
       "      <td>09:12:01</td>\n",
       "      <td>92015-11-03B002</td>\n",
       "      <td>90</td>\n",
       "      <td>Vacant</td>\n",
       "      <td>-1</td>\n",
       "      <td>9</td>\n",
       "      <td>2015-11-03</td>\n",
       "      <td>B002</td>\n",
       "      <td>0</td>\n",
       "    </tr>\n",
       "    <tr>\n",
       "      <th>3</th>\n",
       "      <td>0</td>\n",
       "      <td>09:16:53</td>\n",
       "      <td>92015-11-03B002</td>\n",
       "      <td>90</td>\n",
       "      <td>Vacant</td>\n",
       "      <td>-1</td>\n",
       "      <td>9</td>\n",
       "      <td>2015-11-03</td>\n",
       "      <td>B002</td>\n",
       "      <td>0</td>\n",
       "    </tr>\n",
       "    <tr>\n",
       "      <th>4</th>\n",
       "      <td>1</td>\n",
       "      <td>09:21:55</td>\n",
       "      <td>92015-11-03B002</td>\n",
       "      <td>90</td>\n",
       "      <td>Vacant</td>\n",
       "      <td>-1</td>\n",
       "      <td>9</td>\n",
       "      <td>2015-11-03</td>\n",
       "      <td>B002</td>\n",
       "      <td>0</td>\n",
       "    </tr>\n",
       "  </tbody>\n",
       "</table>\n",
       "</div>"
      ]
     },
     "output_type": "execute_result",
     "metadata": {}
    }
   ],
   "source": [
    "df.head()"
   ]
  },
  {
   "cell_type": "code",
   "execution_count": 5,
   "metadata": {},
   "outputs": [],
   "source": [
    "# replace NAs in registered students\n",
    "\n",
    "df['Registered_Students'] = df['Registered_Students'].fillna(0)"
   ]
  },
  {
   "cell_type": "code",
   "execution_count": 6,
   "metadata": {},
   "outputs": [],
   "source": [
    "# create new float column to house adjusted count\n",
    "\n",
    "df['Adjusted_Count'] = 0.0"
   ]
  },
  {
   "cell_type": "code",
   "execution_count": 7,
   "metadata": {},
   "outputs": [],
   "source": [
    "# create new feature, proportion of associated count connections to room capacity\n",
    "\n",
    "for row in range(df.shape[0]):\n",
    "    assoc_count = df.columns.get_loc('Associated_count')\n",
    "    adj_count = df.columns.get_loc('Adjusted_Count')\n",
    "    room_cap = df.columns.get_loc('Room_Capacity')\n",
    "\n",
    "    count_ratio = (df.iat[row, assoc_count] / df.iat[row, room_cap])\n",
    "    df.iat[row, adj_count] = count_ratio"
   ]
  },
  {
   "cell_type": "code",
   "execution_count": 8,
   "metadata": {},
   "outputs": [],
   "source": [
    "# create new columns to map dictionaries onto\n",
    "\n",
    "df['Avg_Count_60min'] = df['ID']\n",
    "df['Avg_Count_30min'] = df['ID']\n",
    "df['Avg_Adj_Count_60min'] = df['ID']\n",
    "df['Avg_Adj_Count_30min'] = df['ID']"
   ]
  },
  {
   "cell_type": "code",
   "execution_count": 9,
   "metadata": {},
   "outputs": [],
   "source": [
    "# groupby to pull average features of each class\n",
    "\n",
    "hours = df.groupby('ID')"
   ]
  },
  {
   "cell_type": "code",
   "execution_count": 10,
   "metadata": {},
   "outputs": [],
   "source": [
    "# compute average associated count over 60 minutes\n",
    "\n",
    "average_assoc_count = hours['Associated_count'].mean()\n",
    "\n",
    "average_assoc_count = average_assoc_count.to_dict()"
   ]
  },
  {
   "cell_type": "code",
   "execution_count": 11,
   "metadata": {},
   "outputs": [],
   "source": [
    "# compute average adjusted count over 60 minutes\n",
    "\n",
    "average_adjusted_count = hours['Adjusted_Count'].mean()\n",
    "\n",
    "average_adjusted_count = average_adjusted_count.to_dict()"
   ]
  },
  {
   "cell_type": "code",
   "execution_count": 12,
   "metadata": {},
   "outputs": [],
   "source": [
    "# select only times within h:15 and h:45 to cut out spikes before and after classes\n",
    "\n",
    "df['minute'] = df['Time']\n",
    "df['minute'] = pd.to_datetime(df['minute'])\n",
    "#just keep the minute of time\n",
    "df['minute'] = df['minute'].apply(lambda x: x.strftime('%M'))\n",
    "df_30mins = df.loc[(df['minute'] > '15') & (df['minute'] < '45')]\n",
    "#made new data frame called df_1"
   ]
  },
  {
   "cell_type": "markdown",
   "metadata": {},
   "source": [
    "BREAK LADS"
   ]
  },
  {
   "cell_type": "code",
   "execution_count": 13,
   "metadata": {},
   "outputs": [],
   "source": [
    "half_hours = df_30mins.groupby('ID')"
   ]
  },
  {
   "cell_type": "code",
   "execution_count": 14,
   "metadata": {},
   "outputs": [],
   "source": [
    "# (half_hours['Adjusted_Count'].mean() - half_hours['Adjusted_Count'].mean()).median()"
   ]
  },
  {
   "cell_type": "code",
   "execution_count": 15,
   "metadata": {},
   "outputs": [],
   "source": [
    "# compute average associated count over 30 minutes\n",
    "\n",
    "average_assoc_count_30mins = half_hours['Associated_count'].mean()\n",
    "\n",
    "average_assoc_count_30mins = average_assoc_count_30mins.to_dict()"
   ]
  },
  {
   "cell_type": "code",
   "execution_count": 16,
   "metadata": {},
   "outputs": [],
   "source": [
    "# compute average adjusted count over 30 minutes\n",
    "\n",
    "average_adjusted_count_30mins = half_hours['Adjusted_Count'].mean()\n",
    "\n",
    "average_adjusted_count_30mins = average_adjusted_count_30mins.to_dict()"
   ]
  },
  {
   "cell_type": "code",
   "execution_count": 17,
   "metadata": {},
   "outputs": [],
   "source": [
    "df = df.replace({'Avg_Count_60min': average_assoc_count})"
   ]
  },
  {
   "cell_type": "code",
   "execution_count": 18,
   "metadata": {},
   "outputs": [],
   "source": [
    "df = df.replace({'Avg_Count_30min': average_assoc_count_30mins})"
   ]
  },
  {
   "cell_type": "code",
   "execution_count": 19,
   "metadata": {},
   "outputs": [],
   "source": [
    "df = df.replace({'Avg_Adj_Count_60min': average_adjusted_count})"
   ]
  },
  {
   "cell_type": "code",
   "execution_count": 20,
   "metadata": {},
   "outputs": [],
   "source": [
    "df = df.replace({'Avg_Adj_Count_30min': average_adjusted_count_30mins})"
   ]
  },
  {
   "cell_type": "code",
   "execution_count": 21,
   "metadata": {},
   "outputs": [
    {
     "data": {
      "text/html": [
       "<div>\n",
       "<table border=\"1\" class=\"dataframe\">\n",
       "  <thead>\n",
       "    <tr style=\"text-align: right;\">\n",
       "      <th></th>\n",
       "      <th>Associated_count</th>\n",
       "      <th>Time</th>\n",
       "      <th>ID</th>\n",
       "      <th>Room_Capacity</th>\n",
       "      <th>Module</th>\n",
       "      <th>Registered_Students</th>\n",
       "      <th>Hour</th>\n",
       "      <th>Date</th>\n",
       "      <th>Room</th>\n",
       "      <th>Occupancy</th>\n",
       "      <th>Adjusted_Count</th>\n",
       "      <th>Avg_Count_60min</th>\n",
       "      <th>Avg_Count_30min</th>\n",
       "      <th>Avg_Adj_Count_60min</th>\n",
       "      <th>Avg_Adj_Count_30min</th>\n",
       "      <th>minute</th>\n",
       "    </tr>\n",
       "  </thead>\n",
       "  <tbody>\n",
       "    <tr>\n",
       "      <th>0</th>\n",
       "      <td>2</td>\n",
       "      <td>09:02:20</td>\n",
       "      <td>92015-11-03B002</td>\n",
       "      <td>90</td>\n",
       "      <td>Vacant</td>\n",
       "      <td>-1</td>\n",
       "      <td>9</td>\n",
       "      <td>2015-11-03</td>\n",
       "      <td>B002</td>\n",
       "      <td>0</td>\n",
       "      <td>0.022222</td>\n",
       "      <td>4.75</td>\n",
       "      <td>2</td>\n",
       "      <td>0.052778</td>\n",
       "      <td>0.022222</td>\n",
       "      <td>02</td>\n",
       "    </tr>\n",
       "  </tbody>\n",
       "</table>\n",
       "</div>"
      ]
     },
     "output_type": "execute_result",
     "metadata": {}
    }
   ],
   "source": [
    "df.head(1)"
   ]
  },
  {
   "cell_type": "code",
   "execution_count": 22,
   "metadata": {},
   "outputs": [],
   "source": [
    "columns_to_drop = ['Time', 'Associated_count', 'ID', 'minute', 'Adjusted_Count']\n",
    "\n",
    "# # df = df.drop('Time', axis=1)\n",
    "# # df = df.drop('Associated_count', axis=1)\n",
    "# df = df.drop('ID', axis=1)\n",
    "# df = df.drop('', axis=1)\n",
    "# df = df.drop('ID', axis=1)\n",
    "\n",
    "for column in columns_to_drop:\n",
    "    if column in df.columns:\n",
    "        df = df.drop('{}'.format(column), axis=1)\n",
    "    else:\n",
    "        print(column, ' is not present in DataFrame')"
   ]
  },
  {
   "cell_type": "code",
   "execution_count": 23,
   "metadata": {},
   "outputs": [
    {
     "data": {
      "text/html": [
       "<div>\n",
       "<table border=\"1\" class=\"dataframe\">\n",
       "  <thead>\n",
       "    <tr style=\"text-align: right;\">\n",
       "      <th></th>\n",
       "      <th>Room_Capacity</th>\n",
       "      <th>Module</th>\n",
       "      <th>Registered_Students</th>\n",
       "      <th>Hour</th>\n",
       "      <th>Date</th>\n",
       "      <th>Room</th>\n",
       "      <th>Occupancy</th>\n",
       "      <th>Avg_Count_60min</th>\n",
       "      <th>Avg_Count_30min</th>\n",
       "      <th>Avg_Adj_Count_60min</th>\n",
       "      <th>Avg_Adj_Count_30min</th>\n",
       "    </tr>\n",
       "  </thead>\n",
       "  <tbody>\n",
       "    <tr>\n",
       "      <th>0</th>\n",
       "      <td>90</td>\n",
       "      <td>Vacant</td>\n",
       "      <td>-1</td>\n",
       "      <td>9</td>\n",
       "      <td>2015-11-03</td>\n",
       "      <td>B002</td>\n",
       "      <td>0</td>\n",
       "      <td>4.75</td>\n",
       "      <td>2</td>\n",
       "      <td>0.052778</td>\n",
       "      <td>0.022222</td>\n",
       "    </tr>\n",
       "    <tr>\n",
       "      <th>1</th>\n",
       "      <td>90</td>\n",
       "      <td>Vacant</td>\n",
       "      <td>-1</td>\n",
       "      <td>9</td>\n",
       "      <td>2015-11-03</td>\n",
       "      <td>B002</td>\n",
       "      <td>0</td>\n",
       "      <td>4.75</td>\n",
       "      <td>2</td>\n",
       "      <td>0.052778</td>\n",
       "      <td>0.022222</td>\n",
       "    </tr>\n",
       "    <tr>\n",
       "      <th>2</th>\n",
       "      <td>90</td>\n",
       "      <td>Vacant</td>\n",
       "      <td>-1</td>\n",
       "      <td>9</td>\n",
       "      <td>2015-11-03</td>\n",
       "      <td>B002</td>\n",
       "      <td>0</td>\n",
       "      <td>4.75</td>\n",
       "      <td>2</td>\n",
       "      <td>0.052778</td>\n",
       "      <td>0.022222</td>\n",
       "    </tr>\n",
       "    <tr>\n",
       "      <th>3</th>\n",
       "      <td>90</td>\n",
       "      <td>Vacant</td>\n",
       "      <td>-1</td>\n",
       "      <td>9</td>\n",
       "      <td>2015-11-03</td>\n",
       "      <td>B002</td>\n",
       "      <td>0</td>\n",
       "      <td>4.75</td>\n",
       "      <td>2</td>\n",
       "      <td>0.052778</td>\n",
       "      <td>0.022222</td>\n",
       "    </tr>\n",
       "    <tr>\n",
       "      <th>4</th>\n",
       "      <td>90</td>\n",
       "      <td>Vacant</td>\n",
       "      <td>-1</td>\n",
       "      <td>9</td>\n",
       "      <td>2015-11-03</td>\n",
       "      <td>B002</td>\n",
       "      <td>0</td>\n",
       "      <td>4.75</td>\n",
       "      <td>2</td>\n",
       "      <td>0.052778</td>\n",
       "      <td>0.022222</td>\n",
       "    </tr>\n",
       "    <tr>\n",
       "      <th>5</th>\n",
       "      <td>90</td>\n",
       "      <td>Vacant</td>\n",
       "      <td>-1</td>\n",
       "      <td>9</td>\n",
       "      <td>2015-11-03</td>\n",
       "      <td>B002</td>\n",
       "      <td>0</td>\n",
       "      <td>4.75</td>\n",
       "      <td>2</td>\n",
       "      <td>0.052778</td>\n",
       "      <td>0.022222</td>\n",
       "    </tr>\n",
       "    <tr>\n",
       "      <th>6</th>\n",
       "      <td>90</td>\n",
       "      <td>Vacant</td>\n",
       "      <td>-1</td>\n",
       "      <td>9</td>\n",
       "      <td>2015-11-03</td>\n",
       "      <td>B002</td>\n",
       "      <td>0</td>\n",
       "      <td>4.75</td>\n",
       "      <td>2</td>\n",
       "      <td>0.052778</td>\n",
       "      <td>0.022222</td>\n",
       "    </tr>\n",
       "    <tr>\n",
       "      <th>7</th>\n",
       "      <td>90</td>\n",
       "      <td>Vacant</td>\n",
       "      <td>-1</td>\n",
       "      <td>9</td>\n",
       "      <td>2015-11-03</td>\n",
       "      <td>B002</td>\n",
       "      <td>0</td>\n",
       "      <td>4.75</td>\n",
       "      <td>2</td>\n",
       "      <td>0.052778</td>\n",
       "      <td>0.022222</td>\n",
       "    </tr>\n",
       "    <tr>\n",
       "      <th>8</th>\n",
       "      <td>90</td>\n",
       "      <td>Vacant</td>\n",
       "      <td>-1</td>\n",
       "      <td>9</td>\n",
       "      <td>2015-11-03</td>\n",
       "      <td>B002</td>\n",
       "      <td>0</td>\n",
       "      <td>4.75</td>\n",
       "      <td>2</td>\n",
       "      <td>0.052778</td>\n",
       "      <td>0.022222</td>\n",
       "    </tr>\n",
       "    <tr>\n",
       "      <th>9</th>\n",
       "      <td>90</td>\n",
       "      <td>Vacant</td>\n",
       "      <td>-1</td>\n",
       "      <td>9</td>\n",
       "      <td>2015-11-03</td>\n",
       "      <td>B002</td>\n",
       "      <td>0</td>\n",
       "      <td>4.75</td>\n",
       "      <td>2</td>\n",
       "      <td>0.052778</td>\n",
       "      <td>0.022222</td>\n",
       "    </tr>\n",
       "  </tbody>\n",
       "</table>\n",
       "</div>"
      ]
     },
     "output_type": "execute_result",
     "metadata": {}
    }
   ],
   "source": [
    "df.head(10)"
   ]
  },
  {
   "cell_type": "code",
   "execution_count": 24,
   "metadata": {},
   "outputs": [],
   "source": [
    "df = df.drop_duplicates()"
   ]
  },
  {
   "cell_type": "code",
   "execution_count": 25,
   "metadata": {},
   "outputs": [],
   "source": [
    "df = df.reset_index(drop=True)"
   ]
  },
  {
   "cell_type": "code",
   "execution_count": 27,
   "metadata": {},
   "outputs": [],
   "source": [
    "df.to_csv('ABT.csv', index=False)"
   ]
  }
 ],
 "metadata": {
  "kernelspec": {
   "display_name": "Python 3",
   "language": "python",
   "name": "python3"
  },
  "language_info": {
   "codemirror_mode": {
    "name": "ipython",
    "version": 3.0
   },
   "file_extension": ".py",
   "mimetype": "text/x-python",
   "name": "python",
   "nbconvert_exporter": "python",
   "pygments_lexer": "ipython3",
   "version": "3.5.1"
  }
 },
 "nbformat": 4,
 "nbformat_minor": 0
}